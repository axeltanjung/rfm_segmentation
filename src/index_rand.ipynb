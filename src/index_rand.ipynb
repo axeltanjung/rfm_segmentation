{
 "cells": [
  {
   "cell_type": "code",
   "execution_count": null,
   "metadata": {},
   "outputs": [],
   "source": [
    "import numpy as np\n",
    "from scipy.stats import skewnorm\n",
    "\n",
    "# Assumed parameters\n",
    "mean = 505100\n",
    "std_dev = 2000\n",
    "shape_parameter = 5\n",
    "min_value = 504308\n",
    "max_value = 505188\n",
    "num_samples = 65796\n",
    "max_count_per_value = 600\n",
    "\n",
    "# Function to generate random numbers with constraints\n",
    "def generate_random_numbers():\n",
    "    random_numbers = []\n",
    "    while len(random_numbers) < num_samples:\n",
    "        batch_size = num_samples - len(random_numbers)\n",
    "        batch = skewnorm.rvs(a=shape_parameter, loc=mean, scale=std_dev, size=batch_size)\n",
    "        batch = np.clip(batch, min_value, max_value)\n",
    "\n",
    "        # Count the occurrences of each value in the batch\n",
    "        unique_numbers, counts = np.unique(batch, return_counts=True)\n",
    "        \n",
    "        for i in range(len(unique_numbers)):\n",
    "            count_to_generate = min(counts[i], max_count_per_value - random_numbers.count(unique_numbers[i]))\n",
    "            if count_to_generate > 0:\n",
    "                random_numbers.extend([unique_numbers[i]] * count_to_generate)\n",
    "        \n",
    "    return random_numbers[:num_samples]\n",
    "\n",
    "# Generate random numbers with constraints\n",
    "random_numbers = generate_random_numbers()\n",
    "\n",
    "# Convert the list to integers if needed\n",
    "random_numbers = [int(i) for i in random_numbers]\n",
    "\n",
    "# Print the first few generated numbers\n",
    "print(random_numbers[:10])"
   ]
  }
 ],
 "metadata": {
  "kernelspec": {
   "display_name": "Python 3",
   "language": "python",
   "name": "python3"
  },
  "language_info": {
   "codemirror_mode": {
    "name": "ipython",
    "version": 3
   },
   "file_extension": ".py",
   "mimetype": "text/x-python",
   "name": "python",
   "nbconvert_exporter": "python",
   "pygments_lexer": "ipython3",
   "version": "3.10.4"
  },
  "orig_nbformat": 4
 },
 "nbformat": 4,
 "nbformat_minor": 2
}
