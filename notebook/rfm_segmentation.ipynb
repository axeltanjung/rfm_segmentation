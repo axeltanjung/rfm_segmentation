{
 "cells": [
  {
   "cell_type": "markdown",
   "metadata": {},
   "source": [
    "## Business Understanding"
   ]
  },
  {
   "cell_type": "markdown",
   "metadata": {},
   "source": [
    "## Workflow Analysis"
   ]
  },
  {
   "cell_type": "markdown",
   "metadata": {},
   "source": [
    "## Import Data"
   ]
  },
  {
   "cell_type": "code",
   "execution_count": 273,
   "metadata": {},
   "outputs": [],
   "source": [
    "# Import library that needs\n",
    "import pandas as pd\n",
    "import numpy as np\n",
    "import matplotlib.pyplot as plt\n",
    "import seaborn as sns"
   ]
  },
  {
   "cell_type": "code",
   "execution_count": 274,
   "metadata": {},
   "outputs": [],
   "source": [
    "# Load dataset\n",
    "retail_df = pd.read_csv(\"../data/online_retail.csv\")"
   ]
  },
  {
   "cell_type": "code",
   "execution_count": 275,
   "metadata": {},
   "outputs": [],
   "source": [
    "# Create function to read dataframe\n",
    "\n",
    "def load_dataset(data_path):\n",
    "    \"\"\"\n",
    "    Function to read dataset with csv extension, check either have any duplicate data.\n",
    "\n",
    "    Parameters:\n",
    "    -----------\n",
    "    data_path : str\n",
    "        Path for load the data\n",
    "\n",
    "    Returns\n",
    "    -------\n",
    "    retail_df : pandas DataFrame\n",
    "        Retail dataset in dataframe type\n",
    "    \"\"\"\n",
    "    # Load dataset\n",
    "    retail_df = pd.read_csv(data_path, low_memory=False)\n",
    "\n",
    "    # Drop any duplicate data\n",
    "    retail_df = retail_df.drop_duplicates()\n",
    "\n",
    "    # Show the shape of data\n",
    "    print(\"Shape of data :\", retail_df.shape)\n",
    "\n",
    "    return retail_df"
   ]
  },
  {
   "cell_type": "code",
   "execution_count": 276,
   "metadata": {},
   "outputs": [
    {
     "name": "stdout",
     "output_type": "stream",
     "text": [
      "Shape of data : (65796, 13)\n"
     ]
    }
   ],
   "source": [
    "# Load data\n",
    "data_path = \"../data/online_retail.csv\"\n",
    "\n",
    "retail_df = load_dataset(data_path)"
   ]
  },
  {
   "cell_type": "code",
   "execution_count": 277,
   "metadata": {},
   "outputs": [
    {
     "data": {
      "text/html": [
       "<div>\n",
       "<style scoped>\n",
       "    .dataframe tbody tr th:only-of-type {\n",
       "        vertical-align: middle;\n",
       "    }\n",
       "\n",
       "    .dataframe tbody tr th {\n",
       "        vertical-align: top;\n",
       "    }\n",
       "\n",
       "    .dataframe thead th {\n",
       "        text-align: right;\n",
       "    }\n",
       "</style>\n",
       "<table border=\"1\" class=\"dataframe\">\n",
       "  <thead>\n",
       "    <tr style=\"text-align: right;\">\n",
       "      <th></th>\n",
       "      <th>Customer_ID</th>\n",
       "      <th>Invoice</th>\n",
       "      <th>Age</th>\n",
       "      <th>Gender</th>\n",
       "      <th>Revenue_Total</th>\n",
       "      <th>N_Purchases</th>\n",
       "      <th>Purchase_DATE</th>\n",
       "      <th>Purchase_VALUE</th>\n",
       "      <th>Pay_Method</th>\n",
       "      <th>Time_Spent</th>\n",
       "      <th>Browser</th>\n",
       "      <th>Newsletter</th>\n",
       "      <th>Voucher</th>\n",
       "    </tr>\n",
       "  </thead>\n",
       "  <tbody>\n",
       "    <tr>\n",
       "      <th>0</th>\n",
       "      <td>NaN</td>\n",
       "      <td>489548</td>\n",
       "      <td>53</td>\n",
       "      <td>Male</td>\n",
       "      <td>45.3</td>\n",
       "      <td>2</td>\n",
       "      <td>22.06.21</td>\n",
       "      <td>24.915</td>\n",
       "      <td>Cards</td>\n",
       "      <td>885</td>\n",
       "      <td>Chrome</td>\n",
       "      <td>Not Subsribed</td>\n",
       "      <td>Not Used</td>\n",
       "    </tr>\n",
       "    <tr>\n",
       "      <th>1</th>\n",
       "      <td>NaN</td>\n",
       "      <td>489549</td>\n",
       "      <td>18</td>\n",
       "      <td>Female</td>\n",
       "      <td>36.2</td>\n",
       "      <td>3</td>\n",
       "      <td>10.12.21</td>\n",
       "      <td>2.896</td>\n",
       "      <td>Paypal</td>\n",
       "      <td>656</td>\n",
       "      <td>Chrome</td>\n",
       "      <td>Not Subsribed</td>\n",
       "      <td>Used</td>\n",
       "    </tr>\n",
       "    <tr>\n",
       "      <th>2</th>\n",
       "      <td>NaN</td>\n",
       "      <td>489550</td>\n",
       "      <td>52</td>\n",
       "      <td>Female</td>\n",
       "      <td>10.6</td>\n",
       "      <td>1</td>\n",
       "      <td>14.03.21</td>\n",
       "      <td>10.600</td>\n",
       "      <td>Digital Wallets</td>\n",
       "      <td>761</td>\n",
       "      <td>Chrome</td>\n",
       "      <td>Subsribed</td>\n",
       "      <td>Not Used</td>\n",
       "    </tr>\n",
       "    <tr>\n",
       "      <th>3</th>\n",
       "      <td>NaN</td>\n",
       "      <td>489551</td>\n",
       "      <td>29</td>\n",
       "      <td>Male</td>\n",
       "      <td>54.1</td>\n",
       "      <td>5</td>\n",
       "      <td>25.10.21</td>\n",
       "      <td>43.280</td>\n",
       "      <td>Cards</td>\n",
       "      <td>906</td>\n",
       "      <td>Chrome</td>\n",
       "      <td>Subsribed</td>\n",
       "      <td>Not Used</td>\n",
       "    </tr>\n",
       "    <tr>\n",
       "      <th>4</th>\n",
       "      <td>NaN</td>\n",
       "      <td>489552</td>\n",
       "      <td>21</td>\n",
       "      <td>Female</td>\n",
       "      <td>56.9</td>\n",
       "      <td>1</td>\n",
       "      <td>14.09.21</td>\n",
       "      <td>56.900</td>\n",
       "      <td>Cards</td>\n",
       "      <td>605</td>\n",
       "      <td>Chrome</td>\n",
       "      <td>Subsribed</td>\n",
       "      <td>Not Used</td>\n",
       "    </tr>\n",
       "  </tbody>\n",
       "</table>\n",
       "</div>"
      ],
      "text/plain": [
       "   Customer_ID  Invoice  Age  Gender  Revenue_Total  N_Purchases  \\\n",
       "0          NaN   489548   53    Male           45.3            2   \n",
       "1          NaN   489549   18  Female           36.2            3   \n",
       "2          NaN   489550   52  Female           10.6            1   \n",
       "3          NaN   489551   29    Male           54.1            5   \n",
       "4          NaN   489552   21  Female           56.9            1   \n",
       "\n",
       "  Purchase_DATE  Purchase_VALUE       Pay_Method  Time_Spent Browser  \\\n",
       "0      22.06.21          24.915            Cards         885  Chrome   \n",
       "1      10.12.21           2.896           Paypal         656  Chrome   \n",
       "2      14.03.21          10.600  Digital Wallets         761  Chrome   \n",
       "3      25.10.21          43.280            Cards         906  Chrome   \n",
       "4      14.09.21          56.900            Cards         605  Chrome   \n",
       "\n",
       "      Newsletter   Voucher  \n",
       "0  Not Subsribed  Not Used  \n",
       "1  Not Subsribed      Used  \n",
       "2      Subsribed  Not Used  \n",
       "3      Subsribed  Not Used  \n",
       "4      Subsribed  Not Used  "
      ]
     },
     "execution_count": 277,
     "metadata": {},
     "output_type": "execute_result"
    }
   ],
   "source": [
    "# Check the data using .head()\n",
    "retail_df.head()"
   ]
  },
  {
   "cell_type": "code",
   "execution_count": 278,
   "metadata": {},
   "outputs": [
    {
     "data": {
      "text/plain": [
       "0"
      ]
     },
     "execution_count": 278,
     "metadata": {},
     "output_type": "execute_result"
    }
   ],
   "source": [
    "# Check if there's any duplicate value\n",
    "retail_df.duplicated().sum()"
   ]
  },
  {
   "cell_type": "code",
   "execution_count": 279,
   "metadata": {},
   "outputs": [
    {
     "data": {
      "text/plain": [
       "Customer_ID       float64\n",
       "Invoice             int64\n",
       "Age                 int64\n",
       "Gender             object\n",
       "Revenue_Total     float64\n",
       "N_Purchases         int64\n",
       "Purchase_DATE      object\n",
       "Purchase_VALUE    float64\n",
       "Pay_Method         object\n",
       "Time_Spent          int64\n",
       "Browser            object\n",
       "Newsletter         object\n",
       "Voucher            object\n",
       "dtype: object"
      ]
     },
     "execution_count": 279,
     "metadata": {},
     "output_type": "execute_result"
    }
   ],
   "source": [
    "# Check data types for all columns\n",
    "retail_df.dtypes"
   ]
  },
  {
   "cell_type": "code",
   "execution_count": 280,
   "metadata": {},
   "outputs": [
    {
     "name": "stderr",
     "output_type": "stream",
     "text": [
      "C:\\Users\\Axel\\AppData\\Local\\Temp\\ipykernel_17480\\4114209839.py:3: FutureWarning: The default value of regex will change from True to False in a future version. In addition, single character regular expressions will *not* be treated as literal strings when regex=True.\n",
      "  retail_df[\"Purchase_DATE\"] = retail_df[\"Purchase_DATE\"].str.replace(\".\",\"-\")\n"
     ]
    }
   ],
   "source": [
    "# Change the datatype of \"Purchase_DATE\" from object to timeseries.\n",
    "# Replace \".\" char to \"-\"\n",
    "retail_df[\"Purchase_DATE\"] = retail_df[\"Purchase_DATE\"].str.replace(\".\",\"-\")"
   ]
  },
  {
   "cell_type": "code",
   "execution_count": 281,
   "metadata": {},
   "outputs": [],
   "source": [
    "# Replace `21` in 2 last characters to `2021`\n",
    "retail_df[\"Purchase_DATE\"] = retail_df[\"Purchase_DATE\"].str[:-2] + '20' + retail_df[\"Purchase_DATE\"].str[-2:]"
   ]
  },
  {
   "cell_type": "code",
   "execution_count": 282,
   "metadata": {},
   "outputs": [],
   "source": [
    "# Typecasting format of column `Purchase_DATE` to datetime\n",
    "retail_df[\"Purchase_DATE\"] = pd.to_datetime(retail_df[\"Purchase_DATE\"],infer_datetime_format=True)"
   ]
  },
  {
   "cell_type": "code",
   "execution_count": 283,
   "metadata": {},
   "outputs": [
    {
     "data": {
      "text/plain": [
       "Customer_ID              float64\n",
       "Invoice                    int64\n",
       "Age                        int64\n",
       "Gender                    object\n",
       "Revenue_Total            float64\n",
       "N_Purchases                int64\n",
       "Purchase_DATE     datetime64[ns]\n",
       "Purchase_VALUE           float64\n",
       "Pay_Method                object\n",
       "Time_Spent                 int64\n",
       "Browser                   object\n",
       "Newsletter                object\n",
       "Voucher                   object\n",
       "dtype: object"
      ]
     },
     "execution_count": 283,
     "metadata": {},
     "output_type": "execute_result"
    }
   ],
   "source": [
    "# Validate of \"Purchase_DATE\" column data types\n",
    "retail_df.dtypes"
   ]
  },
  {
   "cell_type": "markdown",
   "metadata": {},
   "source": [
    "## Exporatory Data Analysis"
   ]
  },
  {
   "cell_type": "code",
   "execution_count": 284,
   "metadata": {},
   "outputs": [
    {
     "name": "stdout",
     "output_type": "stream",
     "text": [
      "Shape of `retail_df`: (65796, 13)\n",
      "Shape of `retail_eda`: (65796, 13)\n"
     ]
    }
   ],
   "source": [
    "# Create the copy of data so the data wouldn't be overwritten\n",
    "retail_eda = retail_df.copy()\n",
    "\n",
    "# Validate the shape of data\n",
    "print(\"Shape of `retail_df`:\", retail_df.shape)\n",
    "print(\"Shape of `retail_eda`:\", retail_eda.shape)"
   ]
  },
  {
   "cell_type": "code",
   "execution_count": 285,
   "metadata": {},
   "outputs": [
    {
     "data": {
      "text/html": [
       "<div>\n",
       "<style scoped>\n",
       "    .dataframe tbody tr th:only-of-type {\n",
       "        vertical-align: middle;\n",
       "    }\n",
       "\n",
       "    .dataframe tbody tr th {\n",
       "        vertical-align: top;\n",
       "    }\n",
       "\n",
       "    .dataframe thead th {\n",
       "        text-align: right;\n",
       "    }\n",
       "</style>\n",
       "<table border=\"1\" class=\"dataframe\">\n",
       "  <thead>\n",
       "    <tr style=\"text-align: right;\">\n",
       "      <th></th>\n",
       "      <th>Customer_ID</th>\n",
       "      <th>Invoice</th>\n",
       "      <th>Age</th>\n",
       "      <th>Revenue_Total</th>\n",
       "      <th>N_Purchases</th>\n",
       "      <th>Purchase_VALUE</th>\n",
       "      <th>Time_Spent</th>\n",
       "    </tr>\n",
       "  </thead>\n",
       "  <tbody>\n",
       "    <tr>\n",
       "      <th>count</th>\n",
       "      <td>65399.000000</td>\n",
       "      <td>65796.000000</td>\n",
       "      <td>65796.000000</td>\n",
       "      <td>65796.000000</td>\n",
       "      <td>65796.000000</td>\n",
       "      <td>65796.000000</td>\n",
       "      <td>65796.000000</td>\n",
       "    </tr>\n",
       "    <tr>\n",
       "      <th>mean</th>\n",
       "      <td>504930.113656</td>\n",
       "      <td>522445.500000</td>\n",
       "      <td>39.592696</td>\n",
       "      <td>27.732935</td>\n",
       "      <td>3.992477</td>\n",
       "      <td>15.968699</td>\n",
       "      <td>598.925603</td>\n",
       "    </tr>\n",
       "    <tr>\n",
       "      <th>std</th>\n",
       "      <td>205.567125</td>\n",
       "      <td>18993.813493</td>\n",
       "      <td>13.825466</td>\n",
       "      <td>14.941878</td>\n",
       "      <td>2.004370</td>\n",
       "      <td>13.229295</td>\n",
       "      <td>277.833635</td>\n",
       "    </tr>\n",
       "    <tr>\n",
       "      <th>min</th>\n",
       "      <td>504308.000000</td>\n",
       "      <td>489548.000000</td>\n",
       "      <td>16.000000</td>\n",
       "      <td>0.500000</td>\n",
       "      <td>1.000000</td>\n",
       "      <td>0.005000</td>\n",
       "      <td>120.000000</td>\n",
       "    </tr>\n",
       "    <tr>\n",
       "      <th>25%</th>\n",
       "      <td>504810.000000</td>\n",
       "      <td>505996.750000</td>\n",
       "      <td>28.000000</td>\n",
       "      <td>15.300000</td>\n",
       "      <td>2.000000</td>\n",
       "      <td>4.819750</td>\n",
       "      <td>358.000000</td>\n",
       "    </tr>\n",
       "    <tr>\n",
       "      <th>50%</th>\n",
       "      <td>504979.000000</td>\n",
       "      <td>522445.500000</td>\n",
       "      <td>40.000000</td>\n",
       "      <td>30.100000</td>\n",
       "      <td>4.000000</td>\n",
       "      <td>12.640000</td>\n",
       "      <td>598.000000</td>\n",
       "    </tr>\n",
       "    <tr>\n",
       "      <th>75%</th>\n",
       "      <td>505096.000000</td>\n",
       "      <td>538894.250000</td>\n",
       "      <td>51.000000</td>\n",
       "      <td>37.600000</td>\n",
       "      <td>6.000000</td>\n",
       "      <td>24.752000</td>\n",
       "      <td>840.000000</td>\n",
       "    </tr>\n",
       "    <tr>\n",
       "      <th>max</th>\n",
       "      <td>505188.000000</td>\n",
       "      <td>555343.000000</td>\n",
       "      <td>63.000000</td>\n",
       "      <td>59.900000</td>\n",
       "      <td>7.000000</td>\n",
       "      <td>59.900000</td>\n",
       "      <td>1080.000000</td>\n",
       "    </tr>\n",
       "  </tbody>\n",
       "</table>\n",
       "</div>"
      ],
      "text/plain": [
       "         Customer_ID        Invoice           Age  Revenue_Total  \\\n",
       "count   65399.000000   65796.000000  65796.000000   65796.000000   \n",
       "mean   504930.113656  522445.500000     39.592696      27.732935   \n",
       "std       205.567125   18993.813493     13.825466      14.941878   \n",
       "min    504308.000000  489548.000000     16.000000       0.500000   \n",
       "25%    504810.000000  505996.750000     28.000000      15.300000   \n",
       "50%    504979.000000  522445.500000     40.000000      30.100000   \n",
       "75%    505096.000000  538894.250000     51.000000      37.600000   \n",
       "max    505188.000000  555343.000000     63.000000      59.900000   \n",
       "\n",
       "        N_Purchases  Purchase_VALUE    Time_Spent  \n",
       "count  65796.000000    65796.000000  65796.000000  \n",
       "mean       3.992477       15.968699    598.925603  \n",
       "std        2.004370       13.229295    277.833635  \n",
       "min        1.000000        0.005000    120.000000  \n",
       "25%        2.000000        4.819750    358.000000  \n",
       "50%        4.000000       12.640000    598.000000  \n",
       "75%        6.000000       24.752000    840.000000  \n",
       "max        7.000000       59.900000   1080.000000  "
      ]
     },
     "execution_count": 285,
     "metadata": {},
     "output_type": "execute_result"
    }
   ],
   "source": [
    "# Check statistical descriptive of dataset (For numerical columns)\n",
    "retail_eda.describe()"
   ]
  },
  {
   "cell_type": "markdown",
   "metadata": {},
   "source": [
    "- All values is positive, which is rational because neither of value can be negative\n",
    "- There are potential outlier in `Revenue_Total`, `Purchase_Value`, and `Time_Spent`. Need further analysis to proof "
   ]
  },
  {
   "cell_type": "code",
   "execution_count": 286,
   "metadata": {},
   "outputs": [
    {
     "data": {
      "text/plain": [
       "Customer_ID       397\n",
       "Invoice             0\n",
       "Age                 0\n",
       "Gender              0\n",
       "Revenue_Total       0\n",
       "N_Purchases         0\n",
       "Purchase_DATE       0\n",
       "Purchase_VALUE      0\n",
       "Pay_Method          0\n",
       "Time_Spent          0\n",
       "Browser             0\n",
       "Newsletter          0\n",
       "Voucher             0\n",
       "dtype: int64"
      ]
     },
     "execution_count": 286,
     "metadata": {},
     "output_type": "execute_result"
    }
   ],
   "source": [
    "# Check possibilities of missing values\n",
    "retail_eda.isna().sum()"
   ]
  },
  {
   "cell_type": "markdown",
   "metadata": {},
   "source": [
    "`Column_ID` columns has some NaN value. Check the column first to handling missing values"
   ]
  },
  {
   "cell_type": "code",
   "execution_count": 287,
   "metadata": {},
   "outputs": [
    {
     "data": {
      "text/html": [
       "<div>\n",
       "<style scoped>\n",
       "    .dataframe tbody tr th:only-of-type {\n",
       "        vertical-align: middle;\n",
       "    }\n",
       "\n",
       "    .dataframe tbody tr th {\n",
       "        vertical-align: top;\n",
       "    }\n",
       "\n",
       "    .dataframe thead th {\n",
       "        text-align: right;\n",
       "    }\n",
       "</style>\n",
       "<table border=\"1\" class=\"dataframe\">\n",
       "  <thead>\n",
       "    <tr style=\"text-align: right;\">\n",
       "      <th></th>\n",
       "      <th>Customer_ID</th>\n",
       "      <th>Invoice</th>\n",
       "      <th>Age</th>\n",
       "      <th>Gender</th>\n",
       "      <th>Revenue_Total</th>\n",
       "      <th>N_Purchases</th>\n",
       "      <th>Purchase_DATE</th>\n",
       "      <th>Purchase_VALUE</th>\n",
       "      <th>Pay_Method</th>\n",
       "      <th>Time_Spent</th>\n",
       "      <th>Browser</th>\n",
       "      <th>Newsletter</th>\n",
       "      <th>Voucher</th>\n",
       "    </tr>\n",
       "  </thead>\n",
       "  <tbody>\n",
       "    <tr>\n",
       "      <th>0</th>\n",
       "      <td>NaN</td>\n",
       "      <td>489548</td>\n",
       "      <td>53</td>\n",
       "      <td>Male</td>\n",
       "      <td>45.3</td>\n",
       "      <td>2</td>\n",
       "      <td>2021-06-22</td>\n",
       "      <td>24.915</td>\n",
       "      <td>Cards</td>\n",
       "      <td>885</td>\n",
       "      <td>Chrome</td>\n",
       "      <td>Not Subsribed</td>\n",
       "      <td>Not Used</td>\n",
       "    </tr>\n",
       "    <tr>\n",
       "      <th>1</th>\n",
       "      <td>NaN</td>\n",
       "      <td>489549</td>\n",
       "      <td>18</td>\n",
       "      <td>Female</td>\n",
       "      <td>36.2</td>\n",
       "      <td>3</td>\n",
       "      <td>2021-12-10</td>\n",
       "      <td>2.896</td>\n",
       "      <td>Paypal</td>\n",
       "      <td>656</td>\n",
       "      <td>Chrome</td>\n",
       "      <td>Not Subsribed</td>\n",
       "      <td>Used</td>\n",
       "    </tr>\n",
       "    <tr>\n",
       "      <th>2</th>\n",
       "      <td>NaN</td>\n",
       "      <td>489550</td>\n",
       "      <td>52</td>\n",
       "      <td>Female</td>\n",
       "      <td>10.6</td>\n",
       "      <td>1</td>\n",
       "      <td>2021-03-14</td>\n",
       "      <td>10.600</td>\n",
       "      <td>Digital Wallets</td>\n",
       "      <td>761</td>\n",
       "      <td>Chrome</td>\n",
       "      <td>Subsribed</td>\n",
       "      <td>Not Used</td>\n",
       "    </tr>\n",
       "    <tr>\n",
       "      <th>3</th>\n",
       "      <td>NaN</td>\n",
       "      <td>489551</td>\n",
       "      <td>29</td>\n",
       "      <td>Male</td>\n",
       "      <td>54.1</td>\n",
       "      <td>5</td>\n",
       "      <td>2021-10-25</td>\n",
       "      <td>43.280</td>\n",
       "      <td>Cards</td>\n",
       "      <td>906</td>\n",
       "      <td>Chrome</td>\n",
       "      <td>Subsribed</td>\n",
       "      <td>Not Used</td>\n",
       "    </tr>\n",
       "    <tr>\n",
       "      <th>4</th>\n",
       "      <td>NaN</td>\n",
       "      <td>489552</td>\n",
       "      <td>21</td>\n",
       "      <td>Female</td>\n",
       "      <td>56.9</td>\n",
       "      <td>1</td>\n",
       "      <td>2021-09-14</td>\n",
       "      <td>56.900</td>\n",
       "      <td>Cards</td>\n",
       "      <td>605</td>\n",
       "      <td>Chrome</td>\n",
       "      <td>Subsribed</td>\n",
       "      <td>Not Used</td>\n",
       "    </tr>\n",
       "    <tr>\n",
       "      <th>...</th>\n",
       "      <td>...</td>\n",
       "      <td>...</td>\n",
       "      <td>...</td>\n",
       "      <td>...</td>\n",
       "      <td>...</td>\n",
       "      <td>...</td>\n",
       "      <td>...</td>\n",
       "      <td>...</td>\n",
       "      <td>...</td>\n",
       "      <td>...</td>\n",
       "      <td>...</td>\n",
       "      <td>...</td>\n",
       "      <td>...</td>\n",
       "    </tr>\n",
       "    <tr>\n",
       "      <th>5952</th>\n",
       "      <td>NaN</td>\n",
       "      <td>495500</td>\n",
       "      <td>21</td>\n",
       "      <td>Female</td>\n",
       "      <td>39.2</td>\n",
       "      <td>7</td>\n",
       "      <td>2021-03-23</td>\n",
       "      <td>31.752</td>\n",
       "      <td>Paypal</td>\n",
       "      <td>217</td>\n",
       "      <td>Safari</td>\n",
       "      <td>Not Subsribed</td>\n",
       "      <td>Used</td>\n",
       "    </tr>\n",
       "    <tr>\n",
       "      <th>5953</th>\n",
       "      <td>NaN</td>\n",
       "      <td>495501</td>\n",
       "      <td>44</td>\n",
       "      <td>Female</td>\n",
       "      <td>16.8</td>\n",
       "      <td>6</td>\n",
       "      <td>2021-12-23</td>\n",
       "      <td>5.544</td>\n",
       "      <td>Others</td>\n",
       "      <td>548</td>\n",
       "      <td>Chrome</td>\n",
       "      <td>Not Subsribed</td>\n",
       "      <td>Not Used</td>\n",
       "    </tr>\n",
       "    <tr>\n",
       "      <th>5954</th>\n",
       "      <td>NaN</td>\n",
       "      <td>495502</td>\n",
       "      <td>59</td>\n",
       "      <td>Male</td>\n",
       "      <td>38.5</td>\n",
       "      <td>2</td>\n",
       "      <td>2021-12-14</td>\n",
       "      <td>1.925</td>\n",
       "      <td>Digital Wallets</td>\n",
       "      <td>974</td>\n",
       "      <td>Safari</td>\n",
       "      <td>Not Subsribed</td>\n",
       "      <td>Not Used</td>\n",
       "    </tr>\n",
       "    <tr>\n",
       "      <th>5955</th>\n",
       "      <td>NaN</td>\n",
       "      <td>495503</td>\n",
       "      <td>44</td>\n",
       "      <td>Female</td>\n",
       "      <td>15.7</td>\n",
       "      <td>2</td>\n",
       "      <td>2021-11-11</td>\n",
       "      <td>7.536</td>\n",
       "      <td>Cards</td>\n",
       "      <td>239</td>\n",
       "      <td>Edge</td>\n",
       "      <td>Not Subsribed</td>\n",
       "      <td>Used</td>\n",
       "    </tr>\n",
       "    <tr>\n",
       "      <th>5956</th>\n",
       "      <td>NaN</td>\n",
       "      <td>495504</td>\n",
       "      <td>18</td>\n",
       "      <td>Male</td>\n",
       "      <td>10.4</td>\n",
       "      <td>6</td>\n",
       "      <td>2021-02-09</td>\n",
       "      <td>8.632</td>\n",
       "      <td>Digital Wallets</td>\n",
       "      <td>718</td>\n",
       "      <td>Chrome</td>\n",
       "      <td>Not Subsribed</td>\n",
       "      <td>Not Used</td>\n",
       "    </tr>\n",
       "  </tbody>\n",
       "</table>\n",
       "<p>397 rows × 13 columns</p>\n",
       "</div>"
      ],
      "text/plain": [
       "      Customer_ID  Invoice  Age  Gender  Revenue_Total  N_Purchases  \\\n",
       "0             NaN   489548   53    Male           45.3            2   \n",
       "1             NaN   489549   18  Female           36.2            3   \n",
       "2             NaN   489550   52  Female           10.6            1   \n",
       "3             NaN   489551   29    Male           54.1            5   \n",
       "4             NaN   489552   21  Female           56.9            1   \n",
       "...           ...      ...  ...     ...            ...          ...   \n",
       "5952          NaN   495500   21  Female           39.2            7   \n",
       "5953          NaN   495501   44  Female           16.8            6   \n",
       "5954          NaN   495502   59    Male           38.5            2   \n",
       "5955          NaN   495503   44  Female           15.7            2   \n",
       "5956          NaN   495504   18    Male           10.4            6   \n",
       "\n",
       "     Purchase_DATE  Purchase_VALUE       Pay_Method  Time_Spent Browser  \\\n",
       "0       2021-06-22          24.915            Cards         885  Chrome   \n",
       "1       2021-12-10           2.896           Paypal         656  Chrome   \n",
       "2       2021-03-14          10.600  Digital Wallets         761  Chrome   \n",
       "3       2021-10-25          43.280            Cards         906  Chrome   \n",
       "4       2021-09-14          56.900            Cards         605  Chrome   \n",
       "...            ...             ...              ...         ...     ...   \n",
       "5952    2021-03-23          31.752           Paypal         217  Safari   \n",
       "5953    2021-12-23           5.544           Others         548  Chrome   \n",
       "5954    2021-12-14           1.925  Digital Wallets         974  Safari   \n",
       "5955    2021-11-11           7.536            Cards         239    Edge   \n",
       "5956    2021-02-09           8.632  Digital Wallets         718  Chrome   \n",
       "\n",
       "         Newsletter   Voucher  \n",
       "0     Not Subsribed  Not Used  \n",
       "1     Not Subsribed      Used  \n",
       "2         Subsribed  Not Used  \n",
       "3         Subsribed  Not Used  \n",
       "4         Subsribed  Not Used  \n",
       "...             ...       ...  \n",
       "5952  Not Subsribed      Used  \n",
       "5953  Not Subsribed  Not Used  \n",
       "5954  Not Subsribed  Not Used  \n",
       "5955  Not Subsribed      Used  \n",
       "5956  Not Subsribed  Not Used  \n",
       "\n",
       "[397 rows x 13 columns]"
      ]
     },
     "execution_count": 287,
     "metadata": {},
     "output_type": "execute_result"
    }
   ],
   "source": [
    "retail_eda[retail_eda['Customer_ID'].isna()]"
   ]
  },
  {
   "cell_type": "markdown",
   "metadata": {},
   "source": [
    "- For create RFM Analysis, we should aggregate data by each transaction by `Customer_ID`\n",
    "- Which mean we should drop this missing values"
   ]
  },
  {
   "cell_type": "code",
   "execution_count": 288,
   "metadata": {},
   "outputs": [
    {
     "name": "stdout",
     "output_type": "stream",
     "text": [
      "Shape before dropping missing values: (65796, 13)\n",
      "Shape after dropping missing values: (65399, 13)\n"
     ]
    }
   ],
   "source": [
    "# Drop the missing record for `Customer_ID`\n",
    "# Before dropping the missing values\n",
    "print('Shape before dropping missing values:', retail_eda.shape)\n",
    "\n",
    "# Drop NaN values\n",
    "retail_eda = retail_eda[~retail_eda['Customer_ID'].isna()]\n",
    "\n",
    "print('Shape after dropping missing values:', retail_eda.shape)"
   ]
  },
  {
   "cell_type": "code",
   "execution_count": 289,
   "metadata": {},
   "outputs": [
    {
     "data": {
      "text/plain": [
       "Customer_ID       0\n",
       "Invoice           0\n",
       "Age               0\n",
       "Gender            0\n",
       "Revenue_Total     0\n",
       "N_Purchases       0\n",
       "Purchase_DATE     0\n",
       "Purchase_VALUE    0\n",
       "Pay_Method        0\n",
       "Time_Spent        0\n",
       "Browser           0\n",
       "Newsletter        0\n",
       "Voucher           0\n",
       "dtype: int64"
      ]
     },
     "execution_count": 289,
     "metadata": {},
     "output_type": "execute_result"
    }
   ],
   "source": [
    "# Validation of NaN values\n",
    "retail_eda.isna().sum()"
   ]
  },
  {
   "cell_type": "code",
   "execution_count": 290,
   "metadata": {},
   "outputs": [
    {
     "data": {
      "text/plain": [
       "489634    1\n",
       "533550    1\n",
       "533537    1\n",
       "533538    1\n",
       "533539    1\n",
       "         ..\n",
       "511749    1\n",
       "511750    1\n",
       "511751    1\n",
       "511752    1\n",
       "555343    1\n",
       "Name: Invoice, Length: 65399, dtype: int64"
      ]
     },
     "execution_count": 290,
     "metadata": {},
     "output_type": "execute_result"
    }
   ],
   "source": [
    "# Check for Invoice Columns\n",
    "retail_eda['Invoice'].value_counts()"
   ]
  },
  {
   "cell_type": "markdown",
   "metadata": {},
   "source": [
    "- There are no duplicate value in `Invoice`"
   ]
  },
  {
   "cell_type": "code",
   "execution_count": 291,
   "metadata": {},
   "outputs": [
    {
     "data": {
      "text/plain": [
       "881"
      ]
     },
     "execution_count": 291,
     "metadata": {},
     "output_type": "execute_result"
    }
   ],
   "source": [
    "# Check total unique Customer_ID\n",
    "len(set(retail_eda['Customer_ID']))"
   ]
  },
  {
   "cell_type": "code",
   "execution_count": 292,
   "metadata": {},
   "outputs": [
    {
     "name": "stdout",
     "output_type": "stream",
     "text": [
      "Date of First Transaction is : {'2021-01-01 00:00:00'}\n",
      "Date of First Transaction is : {'2022-01-01 00:00:00'}\n"
     ]
    }
   ],
   "source": [
    "# Check First and Last Transaction in Retail\n",
    "print(f'Date of First Transaction is :', {str(retail_eda[\"Purchase_DATE\"].min())})\n",
    "print(f'Date of First Transaction is :', {str(retail_eda[\"Purchase_DATE\"].max())})"
   ]
  },
  {
   "cell_type": "markdown",
   "metadata": {},
   "source": [
    "- From analysis above, we conclude that data consist of 1 years transaction"
   ]
  },
  {
   "cell_type": "markdown",
   "metadata": {},
   "source": [
    "## Create RFM Features"
   ]
  },
  {
   "cell_type": "code",
   "execution_count": 293,
   "metadata": {},
   "outputs": [
    {
     "data": {
      "text/plain": [
       "Timestamp('2022-01-01 00:00:00')"
      ]
     },
     "execution_count": 293,
     "metadata": {},
     "output_type": "execute_result"
    }
   ],
   "source": [
    "# Set the last trasaction data to became the reference date\n",
    "last_trans_date = pd.to_datetime('2022-01-01')\n",
    "\n",
    "last_trans_date"
   ]
  },
  {
   "cell_type": "code",
   "execution_count": 294,
   "metadata": {},
   "outputs": [],
   "source": [
    "# Create function to make RFM Analysis\n",
    "def recency_value(x):\n",
    "    \"\"\"\"\"\"\n",
    "    return (last_trans_date - x.max()).days\n",
    "\n",
    "def tenure_value(x):\n",
    "    \"\"\"\"\"\"\n",
    "    return (x.max() - x.min()).days\n",
    "\n",
    "def frequency_value(x):\n",
    "    \"\"\"\"\"\"\n",
    "    return len(set(x))\n",
    "\n",
    "def retrieve_rfmts(df):\n",
    "    \"\"\"\"\"\"\n",
    "    # Generate value of sales transaction --> Sales = N_Purchases x Purchase_VALUE\n",
    "    df[\"Sales\"] = df[\"N_Purchases\"] * df[\"Purchase_VALUE\"]\n",
    "\n",
    "    # Aggregate by 'Customer_ID' to retrieve RFM + TS\n",
    "    dict_agg_data = {\n",
    "        'Purchase_DATE' : [recency_value, tenure_value],\n",
    "        'Invoice' : frequency_value,\n",
    "        'Sales' : 'sum'\n",
    "    }\n",
    "\n",
    "    rfm_ts_data = df.groupby('Customer_ID').agg(dict_agg_data)\n",
    "\n",
    "    # Change name of column\n",
    "    rfm_ts_data.columns = ['Recency', 'Tenure', 'Frequency', 'Monetary']\n",
    "\n",
    "    # Change type of index\n",
    "    rfm_ts_data.index = rfm_ts_data.index.astype('int')\n",
    "\n",
    "    return rfm_ts_data"
   ]
  },
  {
   "cell_type": "code",
   "execution_count": 295,
   "metadata": {},
   "outputs": [
    {
     "name": "stdout",
     "output_type": "stream",
     "text": [
      "Shape of RFM datashape : (881, 4)\n"
     ]
    }
   ],
   "source": [
    "rfm_data_eda = retrieve_rfmts(df = retail_eda)\n",
    "\n",
    "# Validate the output\n",
    "# Rows of rfm_data_eda == unique number of Customer_ID\n",
    "print('Shape of RFM datashape :', rfm_data_eda.shape)\n",
    "assert rfm_data_eda.shape[0] == len(set(retail_eda['Customer_ID']))"
   ]
  },
  {
   "cell_type": "code",
   "execution_count": 296,
   "metadata": {},
   "outputs": [
    {
     "data": {
      "text/html": [
       "<div>\n",
       "<style scoped>\n",
       "    .dataframe tbody tr th:only-of-type {\n",
       "        vertical-align: middle;\n",
       "    }\n",
       "\n",
       "    .dataframe tbody tr th {\n",
       "        vertical-align: top;\n",
       "    }\n",
       "\n",
       "    .dataframe thead th {\n",
       "        text-align: right;\n",
       "    }\n",
       "</style>\n",
       "<table border=\"1\" class=\"dataframe\">\n",
       "  <thead>\n",
       "    <tr style=\"text-align: right;\">\n",
       "      <th></th>\n",
       "      <th>Recency</th>\n",
       "      <th>Tenure</th>\n",
       "      <th>Frequency</th>\n",
       "      <th>Monetary</th>\n",
       "    </tr>\n",
       "    <tr>\n",
       "      <th>Customer_ID</th>\n",
       "      <th></th>\n",
       "      <th></th>\n",
       "      <th></th>\n",
       "      <th></th>\n",
       "    </tr>\n",
       "  </thead>\n",
       "  <tbody>\n",
       "    <tr>\n",
       "      <th>504308</th>\n",
       "      <td>1</td>\n",
       "      <td>362</td>\n",
       "      <td>450</td>\n",
       "      <td>25499.332</td>\n",
       "    </tr>\n",
       "    <tr>\n",
       "      <th>504309</th>\n",
       "      <td>40</td>\n",
       "      <td>322</td>\n",
       "      <td>10</td>\n",
       "      <td>892.388</td>\n",
       "    </tr>\n",
       "    <tr>\n",
       "      <th>504310</th>\n",
       "      <td>4</td>\n",
       "      <td>288</td>\n",
       "      <td>8</td>\n",
       "      <td>682.436</td>\n",
       "    </tr>\n",
       "    <tr>\n",
       "      <th>504311</th>\n",
       "      <td>33</td>\n",
       "      <td>290</td>\n",
       "      <td>9</td>\n",
       "      <td>736.446</td>\n",
       "    </tr>\n",
       "    <tr>\n",
       "      <th>504312</th>\n",
       "      <td>11</td>\n",
       "      <td>220</td>\n",
       "      <td>5</td>\n",
       "      <td>54.155</td>\n",
       "    </tr>\n",
       "  </tbody>\n",
       "</table>\n",
       "</div>"
      ],
      "text/plain": [
       "             Recency  Tenure  Frequency   Monetary\n",
       "Customer_ID                                       \n",
       "504308             1     362        450  25499.332\n",
       "504309            40     322         10    892.388\n",
       "504310             4     288          8    682.436\n",
       "504311            33     290          9    736.446\n",
       "504312            11     220          5     54.155"
      ]
     },
     "execution_count": 296,
     "metadata": {},
     "output_type": "execute_result"
    }
   ],
   "source": [
    "# Do sanity check\n",
    "rfm_data_eda.head()"
   ]
  },
  {
   "cell_type": "code",
   "execution_count": 297,
   "metadata": {},
   "outputs": [
    {
     "data": {
      "text/html": [
       "<div>\n",
       "<style scoped>\n",
       "    .dataframe tbody tr th:only-of-type {\n",
       "        vertical-align: middle;\n",
       "    }\n",
       "\n",
       "    .dataframe tbody tr th {\n",
       "        vertical-align: top;\n",
       "    }\n",
       "\n",
       "    .dataframe thead th {\n",
       "        text-align: right;\n",
       "    }\n",
       "</style>\n",
       "<table border=\"1\" class=\"dataframe\">\n",
       "  <thead>\n",
       "    <tr style=\"text-align: right;\">\n",
       "      <th></th>\n",
       "      <th>Recency</th>\n",
       "      <th>Tenure</th>\n",
       "      <th>Frequency</th>\n",
       "      <th>Monetary</th>\n",
       "    </tr>\n",
       "  </thead>\n",
       "  <tbody>\n",
       "    <tr>\n",
       "      <th>count</th>\n",
       "      <td>881.000000</td>\n",
       "      <td>881.000000</td>\n",
       "      <td>881.000000</td>\n",
       "      <td>881.000000</td>\n",
       "    </tr>\n",
       "    <tr>\n",
       "      <th>mean</th>\n",
       "      <td>10.518729</td>\n",
       "      <td>343.486947</td>\n",
       "      <td>74.232690</td>\n",
       "      <td>4298.080144</td>\n",
       "    </tr>\n",
       "    <tr>\n",
       "      <th>std</th>\n",
       "      <td>19.044205</td>\n",
       "      <td>31.567390</td>\n",
       "      <td>57.813762</td>\n",
       "      <td>3370.302997</td>\n",
       "    </tr>\n",
       "    <tr>\n",
       "      <th>min</th>\n",
       "      <td>0.000000</td>\n",
       "      <td>114.000000</td>\n",
       "      <td>3.000000</td>\n",
       "      <td>54.155000</td>\n",
       "    </tr>\n",
       "    <tr>\n",
       "      <th>25%</th>\n",
       "      <td>1.000000</td>\n",
       "      <td>340.000000</td>\n",
       "      <td>23.000000</td>\n",
       "      <td>1331.508000</td>\n",
       "    </tr>\n",
       "    <tr>\n",
       "      <th>50%</th>\n",
       "      <td>4.000000</td>\n",
       "      <td>356.000000</td>\n",
       "      <td>59.000000</td>\n",
       "      <td>3467.950000</td>\n",
       "    </tr>\n",
       "    <tr>\n",
       "      <th>75%</th>\n",
       "      <td>12.000000</td>\n",
       "      <td>361.000000</td>\n",
       "      <td>118.000000</td>\n",
       "      <td>6848.626000</td>\n",
       "    </tr>\n",
       "    <tr>\n",
       "      <th>max</th>\n",
       "      <td>199.000000</td>\n",
       "      <td>365.000000</td>\n",
       "      <td>450.000000</td>\n",
       "      <td>25499.332000</td>\n",
       "    </tr>\n",
       "  </tbody>\n",
       "</table>\n",
       "</div>"
      ],
      "text/plain": [
       "          Recency      Tenure   Frequency      Monetary\n",
       "count  881.000000  881.000000  881.000000    881.000000\n",
       "mean    10.518729  343.486947   74.232690   4298.080144\n",
       "std     19.044205   31.567390   57.813762   3370.302997\n",
       "min      0.000000  114.000000    3.000000     54.155000\n",
       "25%      1.000000  340.000000   23.000000   1331.508000\n",
       "50%      4.000000  356.000000   59.000000   3467.950000\n",
       "75%     12.000000  361.000000  118.000000   6848.626000\n",
       "max    199.000000  365.000000  450.000000  25499.332000"
      ]
     },
     "execution_count": 297,
     "metadata": {},
     "output_type": "execute_result"
    }
   ],
   "source": [
    "# Check data description of `rfm_data_eda`\n",
    "rfm_data_eda.describe()"
   ]
  },
  {
   "cell_type": "markdown",
   "metadata": {},
   "source": [
    "- Based on EDA on statistical descriptive in `rfm_data_eda`, there is no negative value in all columns"
   ]
  },
  {
   "cell_type": "markdown",
   "metadata": {},
   "source": [
    "#### Check for `Frequency` & `Tenure`"
   ]
  },
  {
   "cell_type": "code",
   "execution_count": 298,
   "metadata": {},
   "outputs": [
    {
     "data": {
      "text/html": [
       "<div>\n",
       "<style scoped>\n",
       "    .dataframe tbody tr th:only-of-type {\n",
       "        vertical-align: middle;\n",
       "    }\n",
       "\n",
       "    .dataframe tbody tr th {\n",
       "        vertical-align: top;\n",
       "    }\n",
       "\n",
       "    .dataframe thead th {\n",
       "        text-align: right;\n",
       "    }\n",
       "</style>\n",
       "<table border=\"1\" class=\"dataframe\">\n",
       "  <thead>\n",
       "    <tr style=\"text-align: right;\">\n",
       "      <th></th>\n",
       "      <th>Recency</th>\n",
       "      <th>Tenure</th>\n",
       "      <th>Frequency</th>\n",
       "      <th>Monetary</th>\n",
       "    </tr>\n",
       "    <tr>\n",
       "      <th>Customer_ID</th>\n",
       "      <th></th>\n",
       "      <th></th>\n",
       "      <th></th>\n",
       "      <th></th>\n",
       "    </tr>\n",
       "  </thead>\n",
       "  <tbody>\n",
       "  </tbody>\n",
       "</table>\n",
       "</div>"
      ],
      "text/plain": [
       "Empty DataFrame\n",
       "Columns: [Recency, Tenure, Frequency, Monetary]\n",
       "Index: []"
      ]
     },
     "execution_count": 298,
     "metadata": {},
     "output_type": "execute_result"
    }
   ],
   "source": [
    "# Check for frequency == 1 in rfm_data_eda\n",
    "rfm_data_eda[rfm_data_eda['Frequency'] == 1]"
   ]
  },
  {
   "cell_type": "markdown",
   "metadata": {},
   "source": [
    "- There are no one on time purchaser\n",
    "- Check customer tenure = 0 \n",
    "- We want to know is there any customer with tenure = 0 and frequency > 1"
   ]
  },
  {
   "cell_type": "code",
   "execution_count": 299,
   "metadata": {},
   "outputs": [
    {
     "data": {
      "text/html": [
       "<div>\n",
       "<style scoped>\n",
       "    .dataframe tbody tr th:only-of-type {\n",
       "        vertical-align: middle;\n",
       "    }\n",
       "\n",
       "    .dataframe tbody tr th {\n",
       "        vertical-align: top;\n",
       "    }\n",
       "\n",
       "    .dataframe thead th {\n",
       "        text-align: right;\n",
       "    }\n",
       "</style>\n",
       "<table border=\"1\" class=\"dataframe\">\n",
       "  <thead>\n",
       "    <tr style=\"text-align: right;\">\n",
       "      <th></th>\n",
       "      <th>Recency</th>\n",
       "      <th>Tenure</th>\n",
       "      <th>Frequency</th>\n",
       "      <th>Monetary</th>\n",
       "    </tr>\n",
       "    <tr>\n",
       "      <th>Customer_ID</th>\n",
       "      <th></th>\n",
       "      <th></th>\n",
       "      <th></th>\n",
       "      <th></th>\n",
       "    </tr>\n",
       "  </thead>\n",
       "  <tbody>\n",
       "  </tbody>\n",
       "</table>\n",
       "</div>"
      ],
      "text/plain": [
       "Empty DataFrame\n",
       "Columns: [Recency, Tenure, Frequency, Monetary]\n",
       "Index: []"
      ]
     },
     "execution_count": 299,
     "metadata": {},
     "output_type": "execute_result"
    }
   ],
   "source": [
    "# Check for tenure == 0 in rfm_data_eda\n",
    "rfm_data_eda[rfm_data_eda['Tenure'] == 0]"
   ]
  },
  {
   "cell_type": "markdown",
   "metadata": {},
   "source": [
    "- We can conclude that there are no one customer"
   ]
  },
  {
   "cell_type": "markdown",
   "metadata": {},
   "source": [
    "- Check for `Monetary`"
   ]
  },
  {
   "cell_type": "code",
   "execution_count": 300,
   "metadata": {},
   "outputs": [
    {
     "data": {
      "text/plain": [
       "count    0.0\n",
       "mean     NaN\n",
       "std      NaN\n",
       "min      NaN\n",
       "25%      NaN\n",
       "50%      NaN\n",
       "75%      NaN\n",
       "max      NaN\n",
       "Name: Monetary, dtype: float64"
      ]
     },
     "execution_count": 300,
     "metadata": {},
     "output_type": "execute_result"
    }
   ],
   "source": [
    "# Monetary\n",
    "rfm_data_eda[rfm_data_eda['Frequency'] == 1]['Monetary'].describe()"
   ]
  },
  {
   "cell_type": "markdown",
   "metadata": {},
   "source": [
    "**Summary**\n",
    "- There are no one customer who be the one-time purchaser on data"
   ]
  },
  {
   "cell_type": "markdown",
   "metadata": {},
   "source": [
    "#### Data Distribution"
   ]
  },
  {
   "cell_type": "code",
   "execution_count": 301,
   "metadata": {},
   "outputs": [
    {
     "data": {
      "image/png": "[encoded data removed]",
      "text/plain": [
       "<Figure size 640x480 with 1 Axes>"
      ]
     },
     "metadata": {},
     "output_type": "display_data"
    },
    {
     "data": {
      "image/png": "[encoded data removed]",
      "text/plain": [
       "<Figure size 640x480 with 1 Axes>"
      ]
     },
     "metadata": {},
     "output_type": "display_data"
    },
    {
     "data": {
      "image/png": "[encoded data removed]",
      "text/plain": [
       "<Figure size 640x480 with 1 Axes>"
      ]
     },
     "metadata": {},
     "output_type": "display_data"
    },
    {
     "data": {
      "image/png": "[encoded data removed]",
      "text/plain": [
       "<Figure size 640x480 with 1 Axes>"
      ]
     },
     "metadata": {},
     "output_type": "display_data"
    }
   ],
   "source": [
    "# Try to plot the distribution\n",
    "for col in rfm_data_eda.columns:\n",
    "    x = rfm_data_eda[col]\n",
    "    sns.histplot(x)\n",
    "    plt.title(col)\n",
    "    plt.show()"
   ]
  },
  {
   "cell_type": "code",
   "execution_count": null,
   "metadata": {},
   "outputs": [
    {
     "data": {
      "text/plain": [
       "{'whiskers': [<matplotlib.lines.Line2D at 0x1dc16a5b280>,\n",
       "  <matplotlib.lines.Line2D at 0x1dc16a5b550>],\n",
       " 'caps': [<matplotlib.lines.Line2D at 0x1dc16a5b820>,\n",
       "  <matplotlib.lines.Line2D at 0x1dc16a5baf0>],\n",
       " 'boxes': [<matplotlib.lines.Line2D at 0x1dc16a5afb0>],\n",
       " 'medians': [<matplotlib.lines.Line2D at 0x1dc16a5bdc0>],\n",
       " 'fliers': [<matplotlib.lines.Line2D at 0x1dc16a8c0d0>],\n",
       " 'means': []}"
      ]
     },
     "metadata": {},
     "output_type": "display_data"
    },
    {
     "data": {
      "image/png": "[encoded data removed]",
      "text/plain": [
       "<Figure size 640x480 with 1 Axes>"
      ]
     },
     "metadata": {},
     "output_type": "display_data"
    }
   ],
   "source": [
    "plt.boxplot(rfm_data_eda['Monetary'])"
   ]
  },
  {
   "cell_type": "markdown",
   "metadata": {},
   "source": [
    "**Summary**\n",
    "- The distribution is skew for all columns. Try further analysis to determine is there any outliers\n",
    "- Use IQR method to determine"
   ]
  },
  {
   "cell_type": "code",
   "execution_count": 304,
   "metadata": {},
   "outputs": [],
   "source": [
    "# Drop ouliers\n",
    "def drop_outlier(df, columns):\n",
    "    \"\"\"\n",
    "    Function to remove record that exceed the outliers value determine by IQR\n",
    "\n",
    "    Parameters\n",
    "    ----------\n",
    "    df : pandas DataFrame\n",
    "        Sample of data\n",
    "\n",
    "    columns : list\n",
    "        Name of columns that want to drop the outliers\n",
    "\n",
    "    Returns\n",
    "    -------\n",
    "    clean_df : pandas DataFrame\n",
    "        Data that has been drop outliers\n",
    "    \"\"\"\n",
    "    # Copy dataframe\n",
    "    clean_df = df.copy()\n",
    "\n",
    "    # Iteration for all columns and record\n",
    "    for column in columns:\n",
    "        # Calculate value of IQR\n",
    "        q1, q3 = np.quantile(clean_df[column], q=[0.25, 0.75])\n",
    "        iqr = q3 - q1\n",
    "        upper_bond = q3 + 1.5*iqr \n",
    "        lower_bond = q1 - 1.5*iqr\n",
    "\n",
    "        # Filter data based on iqr\n",
    "        data_condition_1 = clean_df[column] <= upper_bond\n",
    "        data_condition_2 = clean_df[column] >= lower_bond\n",
    "        clean_df = clean_df[data_condition_1&data_condition_2]\n",
    "\n",
    "    return clean_df\n"
   ]
  },
  {
   "cell_type": "code",
   "execution_count": 305,
   "metadata": {},
   "outputs": [
    {
     "name": "stdout",
     "output_type": "stream",
     "text": [
      "Shape of EDA data : (733, 4)\n"
     ]
    },
    {
     "data": {
      "text/html": [
       "<div>\n",
       "<style scoped>\n",
       "    .dataframe tbody tr th:only-of-type {\n",
       "        vertical-align: middle;\n",
       "    }\n",
       "\n",
       "    .dataframe tbody tr th {\n",
       "        vertical-align: top;\n",
       "    }\n",
       "\n",
       "    .dataframe thead th {\n",
       "        text-align: right;\n",
       "    }\n",
       "</style>\n",
       "<table border=\"1\" class=\"dataframe\">\n",
       "  <thead>\n",
       "    <tr style=\"text-align: right;\">\n",
       "      <th></th>\n",
       "      <th>Recency</th>\n",
       "      <th>Tenure</th>\n",
       "      <th>Frequency</th>\n",
       "      <th>Monetary</th>\n",
       "    </tr>\n",
       "  </thead>\n",
       "  <tbody>\n",
       "    <tr>\n",
       "      <th>count</th>\n",
       "      <td>733.000000</td>\n",
       "      <td>733.000000</td>\n",
       "      <td>733.000000</td>\n",
       "      <td>733.000000</td>\n",
       "    </tr>\n",
       "    <tr>\n",
       "      <th>mean</th>\n",
       "      <td>5.038199</td>\n",
       "      <td>354.787176</td>\n",
       "      <td>85.377899</td>\n",
       "      <td>4944.521000</td>\n",
       "    </tr>\n",
       "    <tr>\n",
       "      <th>std</th>\n",
       "      <td>5.841828</td>\n",
       "      <td>9.549325</td>\n",
       "      <td>53.359748</td>\n",
       "      <td>3102.858155</td>\n",
       "    </tr>\n",
       "    <tr>\n",
       "      <th>min</th>\n",
       "      <td>0.000000</td>\n",
       "      <td>325.000000</td>\n",
       "      <td>7.000000</td>\n",
       "      <td>419.437000</td>\n",
       "    </tr>\n",
       "    <tr>\n",
       "      <th>25%</th>\n",
       "      <td>1.000000</td>\n",
       "      <td>350.000000</td>\n",
       "      <td>39.000000</td>\n",
       "      <td>2203.387000</td>\n",
       "    </tr>\n",
       "    <tr>\n",
       "      <th>50%</th>\n",
       "      <td>3.000000</td>\n",
       "      <td>358.000000</td>\n",
       "      <td>77.000000</td>\n",
       "      <td>4443.646000</td>\n",
       "    </tr>\n",
       "    <tr>\n",
       "      <th>75%</th>\n",
       "      <td>7.000000</td>\n",
       "      <td>362.000000</td>\n",
       "      <td>128.000000</td>\n",
       "      <td>7399.816000</td>\n",
       "    </tr>\n",
       "    <tr>\n",
       "      <th>max</th>\n",
       "      <td>28.000000</td>\n",
       "      <td>365.000000</td>\n",
       "      <td>210.000000</td>\n",
       "      <td>13037.662000</td>\n",
       "    </tr>\n",
       "  </tbody>\n",
       "</table>\n",
       "</div>"
      ],
      "text/plain": [
       "          Recency      Tenure   Frequency      Monetary\n",
       "count  733.000000  733.000000  733.000000    733.000000\n",
       "mean     5.038199  354.787176   85.377899   4944.521000\n",
       "std      5.841828    9.549325   53.359748   3102.858155\n",
       "min      0.000000  325.000000    7.000000    419.437000\n",
       "25%      1.000000  350.000000   39.000000   2203.387000\n",
       "50%      3.000000  358.000000   77.000000   4443.646000\n",
       "75%      7.000000  362.000000  128.000000   7399.816000\n",
       "max     28.000000  365.000000  210.000000  13037.662000"
      ]
     },
     "execution_count": 305,
     "metadata": {},
     "output_type": "execute_result"
    }
   ],
   "source": [
    "# Drop the outliers by function\n",
    "rfm_data_eda = drop_outlier(df = rfm_data_eda,\n",
    "                            columns = ['Recency','Tenure','Frequency','Monetary'])\n",
    "\n",
    "# Data validation\n",
    "print('Shape of EDA data :', rfm_data_eda.shape)\n",
    "rfm_data_eda.describe()"
   ]
  },
  {
   "cell_type": "code",
   "execution_count": 306,
   "metadata": {},
   "outputs": [
    {
     "data": {
      "image/png": "[encoded data removed]",
      "text/plain": [
       "<Figure size 640x480 with 1 Axes>"
      ]
     },
     "metadata": {},
     "output_type": "display_data"
    },
    {
     "data": {
      "image/png": "[encoded data removed]",
      "text/plain": [
       "<Figure size 640x480 with 1 Axes>"
      ]
     },
     "metadata": {},
     "output_type": "display_data"
    },
    {
     "data": {
      "image/png": "[encoded data removed]",
      "text/plain": [
       "<Figure size 640x480 with 1 Axes>"
      ]
     },
     "metadata": {},
     "output_type": "display_data"
    },
    {
     "data": {
      "image/png": "[encoded data removed]",
      "text/plain": [
       "<Figure size 640x480 with 1 Axes>"
      ]
     },
     "metadata": {},
     "output_type": "display_data"
    }
   ],
   "source": [
    "# Try to plot the distribution\n",
    "for col in rfm_data_eda.columns:\n",
    "    x = rfm_data_eda[col]\n",
    "    sns.histplot(x)\n",
    "    plt.title(col)\n",
    "    plt.show()"
   ]
  },
  {
   "cell_type": "markdown",
   "metadata": {},
   "source": [
    "### Data Preprocessing"
   ]
  },
  {
   "cell_type": "markdown",
   "metadata": {},
   "source": [
    "#### Preprocess Raw Data"
   ]
  },
  {
   "cell_type": "code",
   "execution_count": 310,
   "metadata": {},
   "outputs": [],
   "source": [
    "# Create function to preprocess data\n",
    "def preprocess_data(df):\n",
    "    \"\"\"\n",
    "    Function to preprocess data to RFM data\n",
    "\n",
    "    Parameters\n",
    "    ----------\n",
    "    df : pandas DataFrame\n",
    "        Raw data\n",
    "    \n",
    "    Returns\n",
    "    -------\n",
    "    rfm_data : pandas DataFrame\n",
    "        The RFM dataset\n",
    "    \"\"\"\n",
    "    # Drop missing values in `Customer_ID`\n",
    "    raw_data = df[~df['Customer_ID'].isna()]\n",
    "\n",
    "    # Generate RFM dataset\n",
    "    rfm_data = retrieve_rfmts(df = raw_data)\n",
    "\n",
    "    # Create RFM data validation\n",
    "    print(\"Shape of data shape :\", rfm_data.shape)\n",
    "    assert rfm_data.shape[0] == len(set(raw_data['Customer_ID']))\n",
    "\n",
    "    return rfm_data"
   ]
  },
  {
   "cell_type": "code",
   "execution_count": 311,
   "metadata": {},
   "outputs": [
    {
     "name": "stdout",
     "output_type": "stream",
     "text": [
      "Shape of data shape : (881, 4)\n"
     ]
    },
    {
     "data": {
      "text/html": [
       "<div>\n",
       "<style scoped>\n",
       "    .dataframe tbody tr th:only-of-type {\n",
       "        vertical-align: middle;\n",
       "    }\n",
       "\n",
       "    .dataframe tbody tr th {\n",
       "        vertical-align: top;\n",
       "    }\n",
       "\n",
       "    .dataframe thead th {\n",
       "        text-align: right;\n",
       "    }\n",
       "</style>\n",
       "<table border=\"1\" class=\"dataframe\">\n",
       "  <thead>\n",
       "    <tr style=\"text-align: right;\">\n",
       "      <th></th>\n",
       "      <th>Recency</th>\n",
       "      <th>Tenure</th>\n",
       "      <th>Frequency</th>\n",
       "      <th>Monetary</th>\n",
       "    </tr>\n",
       "    <tr>\n",
       "      <th>Customer_ID</th>\n",
       "      <th></th>\n",
       "      <th></th>\n",
       "      <th></th>\n",
       "      <th></th>\n",
       "    </tr>\n",
       "  </thead>\n",
       "  <tbody>\n",
       "    <tr>\n",
       "      <th>504308</th>\n",
       "      <td>1</td>\n",
       "      <td>362</td>\n",
       "      <td>450</td>\n",
       "      <td>25499.332</td>\n",
       "    </tr>\n",
       "    <tr>\n",
       "      <th>504309</th>\n",
       "      <td>40</td>\n",
       "      <td>322</td>\n",
       "      <td>10</td>\n",
       "      <td>892.388</td>\n",
       "    </tr>\n",
       "    <tr>\n",
       "      <th>504310</th>\n",
       "      <td>4</td>\n",
       "      <td>288</td>\n",
       "      <td>8</td>\n",
       "      <td>682.436</td>\n",
       "    </tr>\n",
       "    <tr>\n",
       "      <th>504311</th>\n",
       "      <td>33</td>\n",
       "      <td>290</td>\n",
       "      <td>9</td>\n",
       "      <td>736.446</td>\n",
       "    </tr>\n",
       "    <tr>\n",
       "      <th>504312</th>\n",
       "      <td>11</td>\n",
       "      <td>220</td>\n",
       "      <td>5</td>\n",
       "      <td>54.155</td>\n",
       "    </tr>\n",
       "  </tbody>\n",
       "</table>\n",
       "</div>"
      ],
      "text/plain": [
       "             Recency  Tenure  Frequency   Monetary\n",
       "Customer_ID                                       \n",
       "504308             1     362        450  25499.332\n",
       "504309            40     322         10    892.388\n",
       "504310             4     288          8    682.436\n",
       "504311            33     290          9    736.446\n",
       "504312            11     220          5     54.155"
      ]
     },
     "execution_count": 311,
     "metadata": {},
     "output_type": "execute_result"
    }
   ],
   "source": [
    "# Generate RFM DataFrame\n",
    "rfm_data = preprocess_data(df = retail_eda)\n",
    "\n",
    "rfm_data.head()"
   ]
  },
  {
   "cell_type": "markdown",
   "metadata": {},
   "source": [
    "#### Preprocess RFM Dataset"
   ]
  },
  {
   "cell_type": "code",
   "execution_count": 314,
   "metadata": {},
   "outputs": [],
   "source": [
    "def preprocess_rfm_data(rfm_data):\n",
    "    \"\"\"\n",
    "    Function to preprocecc RFM dataset\n",
    "\n",
    "    Parameters\n",
    "    ----------\n",
    "    rfm_data : pandas DataFrame\n",
    "        Sample of RFM data\n",
    "\n",
    "    Returns\n",
    "    -------\n",
    "    clean_df : pandas DataFrame\n",
    "        RFM DataFrame\n",
    "    \"\"\"\n",
    "    # Filter frequency\n",
    "    freq_data = rfm_data[rfm_data['Frequency'] >= 2]\n",
    "\n",
    "    # Drop outliers\n",
    "    clean_df = drop_outlier(df = freq_data,\n",
    "                            columns = ['Recency','Tenure','Frequency','Monetary'])\n",
    "\n",
    "    # Filter data\n",
    "    clean_df = clean_df[['Recency','Frequency','Monetary']] \n",
    "\n",
    "    # Data Validation\n",
    "    print(\"Shape of data:\", clean_df.shape)\n",
    "\n",
    "    return clean_df"
   ]
  },
  {
   "cell_type": "code",
   "execution_count": 315,
   "metadata": {},
   "outputs": [
    {
     "name": "stdout",
     "output_type": "stream",
     "text": [
      "Shape of data: (733, 3)\n"
     ]
    },
    {
     "data": {
      "text/html": [
       "<div>\n",
       "<style scoped>\n",
       "    .dataframe tbody tr th:only-of-type {\n",
       "        vertical-align: middle;\n",
       "    }\n",
       "\n",
       "    .dataframe tbody tr th {\n",
       "        vertical-align: top;\n",
       "    }\n",
       "\n",
       "    .dataframe thead th {\n",
       "        text-align: right;\n",
       "    }\n",
       "</style>\n",
       "<table border=\"1\" class=\"dataframe\">\n",
       "  <thead>\n",
       "    <tr style=\"text-align: right;\">\n",
       "      <th></th>\n",
       "      <th>Recency</th>\n",
       "      <th>Frequency</th>\n",
       "      <th>Monetary</th>\n",
       "    </tr>\n",
       "  </thead>\n",
       "  <tbody>\n",
       "    <tr>\n",
       "      <th>count</th>\n",
       "      <td>733.000000</td>\n",
       "      <td>733.000000</td>\n",
       "      <td>733.000000</td>\n",
       "    </tr>\n",
       "    <tr>\n",
       "      <th>mean</th>\n",
       "      <td>5.038199</td>\n",
       "      <td>85.377899</td>\n",
       "      <td>4944.521000</td>\n",
       "    </tr>\n",
       "    <tr>\n",
       "      <th>std</th>\n",
       "      <td>5.841828</td>\n",
       "      <td>53.359748</td>\n",
       "      <td>3102.858155</td>\n",
       "    </tr>\n",
       "    <tr>\n",
       "      <th>min</th>\n",
       "      <td>0.000000</td>\n",
       "      <td>7.000000</td>\n",
       "      <td>419.437000</td>\n",
       "    </tr>\n",
       "    <tr>\n",
       "      <th>25%</th>\n",
       "      <td>1.000000</td>\n",
       "      <td>39.000000</td>\n",
       "      <td>2203.387000</td>\n",
       "    </tr>\n",
       "    <tr>\n",
       "      <th>50%</th>\n",
       "      <td>3.000000</td>\n",
       "      <td>77.000000</td>\n",
       "      <td>4443.646000</td>\n",
       "    </tr>\n",
       "    <tr>\n",
       "      <th>75%</th>\n",
       "      <td>7.000000</td>\n",
       "      <td>128.000000</td>\n",
       "      <td>7399.816000</td>\n",
       "    </tr>\n",
       "    <tr>\n",
       "      <th>max</th>\n",
       "      <td>28.000000</td>\n",
       "      <td>210.000000</td>\n",
       "      <td>13037.662000</td>\n",
       "    </tr>\n",
       "  </tbody>\n",
       "</table>\n",
       "</div>"
      ],
      "text/plain": [
       "          Recency   Frequency      Monetary\n",
       "count  733.000000  733.000000    733.000000\n",
       "mean     5.038199   85.377899   4944.521000\n",
       "std      5.841828   53.359748   3102.858155\n",
       "min      0.000000    7.000000    419.437000\n",
       "25%      1.000000   39.000000   2203.387000\n",
       "50%      3.000000   77.000000   4443.646000\n",
       "75%      7.000000  128.000000   7399.816000\n",
       "max     28.000000  210.000000  13037.662000"
      ]
     },
     "execution_count": 315,
     "metadata": {},
     "output_type": "execute_result"
    }
   ],
   "source": [
    "# Generate the clean RFM data\n",
    "rfm_clean_data = preprocess_rfm_data(rfm_data = rfm_data)\n",
    "\n",
    "rfm_clean_data.describe()"
   ]
  },
  {
   "cell_type": "markdown",
   "metadata": {},
   "source": [
    "- Outliers has been removed"
   ]
  },
  {
   "cell_type": "markdown",
   "metadata": {},
   "source": []
  }
 ],
 "metadata": {
  "kernelspec": {
   "display_name": "Python 3",
   "language": "python",
   "name": "python3"
  },
  "language_info": {
   "codemirror_mode": {
    "name": "ipython",
    "version": 3
   },
   "file_extension": ".py",
   "mimetype": "text/x-python",
   "name": "python",
   "nbconvert_exporter": "python",
   "pygments_lexer": "ipython3",
   "version": "3.10.4"
  },
  "orig_nbformat": 4
 },
 "nbformat": 4,
 "nbformat_minor": 2
}
