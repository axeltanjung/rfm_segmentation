{
 "cells": [
  {
   "cell_type": "markdown",
   "metadata": {},
   "source": [
    "# **Customer Segmentation using RFM Analysis by Binning and K-Means Method**"
   ]
  },
  {
   "cell_type": "markdown",
   "metadata": {},
   "source": [
    "## Business Understanding\n"
   ]
  },
  {
   "cell_type": "markdown",
   "metadata": {},
   "source": [
    "**Company Book & Gift**, second largers bookstore company in Europe, that sells various books from any genre has decline sales approximately 10% for 2 month. After make an analysis, Market Team conclude that the marketing initiative that has been created from the company doesnt targeted fit into the right segment. For make a better marketing initiative, Marketing Team should define dan create a robust segmented customer layer to create initiative of marketing campaign. Another issue is the resource that want to be allocated is limited, so it should be spread efficiently. Company Book & Gift must recognizes customers behavior that have the same needs, preferences, or purchasing behaviors.\n",
    "\n",
    "The Book & Gift is a well-established retail business specializing in selling books, e-books, and related products. With the rapid evolution of the retail industry and changing consumer preferences, the company recognizes the need to better understand its customer base and tailor its marketing strategies accordingly. To achieve this goal, the company has decided to embark on a customer segmentation projects.\n",
    "\n",
    "The customer segmentation project will involve analyzing historical customer data, transaction records, and customer interactions to identify distinct customer segments. These segments will be used to refine marketing strategies, enhance customer engagement, and ultimately drive business growth. By undertaking this customer segmentation project, the Bookstore Company aims to enhance its customer relationships, increase sales, and optimize its marketing efforts. With a deeper understanding of its customer base, the company can adapt to changing market dynamics and provide a more personalized shopping experience, ultimately securing its position in the competitive retail landscape.\n",
    "The input of this problem is ineffective marketing targeting. So we will to use Binning & K-Means method to create market segmentation. Hopefully, those market segment can be implement specific marketing strategies to increase sales.\n"
   ]
  },
  {
   "cell_type": "markdown",
   "metadata": {},
   "source": [
    "### **Business Objective**\n",
    "\n",
    "•\t**Increase Sales** <br>\n",
    "Increase overall sales by targeting specific customer segments with tailored marketing strategies and product recommendations.<br>\n",
    "\n",
    "•\t**Improve Customer Experience** <br>\n",
    "Enhance the shopping experience by offering personalized recommendations and promotions.<br>\n",
    "\n",
    "•\t**Optimize Inventory** <br>\n",
    "Improve inventory management by stocking products that align with the preferences of different customer segments.<br>\n",
    "\n",
    "•\t**Reduce Marketing Costs** <br>\n",
    "Reduce marketing expenses by focusing resources on high-potential customer segments.<br>\n",
    "\n"
   ]
  },
  {
   "cell_type": "markdown",
   "metadata": {},
   "source": [
    "## **C.\tDeliverables**\n",
    "•\t**Customer Segmentation Report**: <br>\n",
    "Detailed analysis of customer segments, including profiles and recommendations.<br>\n",
    "\n",
    "•\t**Implementation Plans**: <br>\n",
    "A roadmap for executing the segmented marketing strategies..<br>\n",
    "\n",
    "•\t**Training**: <br>\n",
    "Training sessions for relevant teams on how to use customer segments effectively.<br>\n",
    "\n"
   ]
  },
  {
   "cell_type": "markdown",
   "metadata": {},
   "source": [
    "### **Business Questions / Problem Statements**\n",
    "---\n",
    "\n",
    "- How can we effectively segment our customer base to better understand customer behavior and implement targeted marketing strategies?"
   ]
  },
  {
   "cell_type": "markdown",
   "metadata": {},
   "source": [
    "## **Related Works**\n",
    "•\tThe Customer Base Audit – Peter Fader <br>\n",
    "\n",
    "•\tCustomer Analytics for Dummies – Wiley (2015) by Jeff Sauro<br>\n",
    "\n",
    "•\tModeling Markets – by Peter S.H Leeflang, Jaap E. Wieringa, Tammo H.A. Bijmolt, Koen H. Pauwels<br>\n",
    "\n",
    "•\tMarket Segmentation Analysis (2018) – by Sara Dolnicar, Bettina Grun, Friedrich Leisch<br>\n",
    "\n",
    "•\tDatabase Marketing (2008) – by Robert C. Blattberg, Byung-Do Kim, Scott A. Neslin<br>\n",
    "\n",
    "•\tResearch on K-Value Selection Method of K-Means Clustering Algorithm (2019) – by Yuan, C. & Yang, H<br>\n",
    "\n",
    "•\tLecture Notes 11 Clustering – Carnegie Mellon University – by Amit K Verma, Anthony (Tony) Rollet<br>\n",
    "\n",
    "•\tLecture Notes Clustering – Universitat Heidelberg by Erich Schubert<br>\n",
    "\n",
    "•\tVisualizing RFM Segmetation by Ron Kohavi and Rajesh Parekh<br>\n"
   ]
  },
  {
   "cell_type": "markdown",
   "metadata": {},
   "source": [
    "### **Define the Problem**\n",
    "---\n",
    "\n",
    "1. **What are the inputs?** Purchasing behavior records: recency, frequency, and monetary.\n",
    "2. **What are the outputs?** Customer segments\n",
    "3. **What do we do with the segmentation?** Marketing team will treat each segment based on their characteristics, e.g. create a loyalty coupon"
   ]
  },
  {
   "cell_type": "markdown",
   "metadata": {},
   "source": [
    "### **Modelling Task**\n",
    "---\n",
    "- **Task:**\n",
    "  - Clustering\n",
    "- **Model used:**\n",
    "  - Ranking based\n",
    "  - K-means\n",
    "- **Cluster Evaluation:**\n",
    "  - Elbow method"
   ]
  },
  {
   "cell_type": "markdown",
   "metadata": {},
   "source": [
    "## 2. Workflow Analysis"
   ]
  },
  {
   "cell_type": "markdown",
   "metadata": {},
   "source": [
    "### Machine Learning Workflow\n",
    "---\n",
    "\n",
    "### 1. Importing Data to Python\n",
    "    * Data validation\n",
    "### 2. Exploratory Data Analysis\n",
    "    * Data exploration\n",
    "### 3. Data Preprocessing\n",
    "    * Missing value handling, feature engineering, and normalization\n",
    "### 4. Modeling\n",
    "    * Finding best model\n",
    "### 5. Recommendation\n",
    "    * Business recommendation and Actionable insights"
   ]
  },
  {
   "cell_type": "markdown",
   "metadata": {},
   "source": [
    "## 3. Data Description\n",
    "---"
   ]
  },
  {
   "cell_type": "markdown",
   "metadata": {},
   "source": [
    "- `Customer ID`: Customer number. Nominal, a 5-digit integral number uniquely assigned to each customer. <br><br>\n",
    "- `Invoice`: Invoice number. Nominal, a 6-digit integral number uniquely assigned to each transaction.\n",
    "<br><br>\n",
    "- `Revenue_Total`: Total revenue that generated from unique customer from first buy. <br><br>\n",
    "- `N_Purchases`: The quantities of each product (item) per transaction. Numeric. <br><br>\n",
    "- `Purchase_DATE`: Purchase Date and time. Numeric, the day when each transaction was generated. <br><br>\n",
    "- `Purchase_VALUE`: Unit price. Numeric, Product price per unit in sterling. <br><br>\n",
    "- `Pay_Method`: Method for purchase the item (Cards, PayPal, Digital Wallets).  <br><br>\n",
    "- `Time_Spent`: Average time of customer on website (in second). <br><br>\n",
    "- `Browser`: Chrome, Safari, Edge, Other. <br><br>\n",
    "- `Newsletter`: Subscribed or Not Subscribed <br><br>\n",
    "- `Voucher`: Used or Not Used <br><br>"
   ]
  },
  {
   "cell_type": "markdown",
   "metadata": {},
   "source": [
    "### **Preprocessed data:**\n",
    "\n",
    "- **Frequency** <br>\n",
    "It measures how often a customer engages with the business. Frequency = Count number of transactions customer\n",
    "\n",
    "- **Tenure** <br>\n",
    "It refers the ‘age’ of the customers being our customer. Tenure = First cust. purchase date - last cust. purchase date\n",
    "\n",
    "- **Recency** <br>\n",
    "It measures how recently a customer has engaged with the business. Recency = Reference date (e.g., today) - Customer last purchase date\n",
    "\n",
    "- **Monetary** <br>\n",
    "It refers to the total monetary value of a customer's transactions or purchases. Monetary = Product Price * Quantity Order"
   ]
  },
  {
   "cell_type": "markdown",
   "metadata": {},
   "source": [
    "## Import Data"
   ]
  },
  {
   "cell_type": "code",
   "execution_count": 2,
   "metadata": {},
   "outputs": [],
   "source": [
    "# Import library that needs\n",
    "import pandas as pd\n",
    "import numpy as np\n",
    "import matplotlib.pyplot as plt\n",
    "import seaborn as sns"
   ]
  },
  {
   "cell_type": "code",
   "execution_count": 3,
   "metadata": {},
   "outputs": [],
   "source": [
    "# Load dataset\n",
    "retail_df = pd.read_csv(\"../data/online_retail.csv\")"
   ]
  },
  {
   "cell_type": "code",
   "execution_count": 4,
   "metadata": {},
   "outputs": [],
   "source": [
    "# Create function to read dataframe\n",
    "\n",
    "def load_dataset(data_path):\n",
    "    \"\"\"\n",
    "    Function to read dataset with csv extension, check either have any duplicate data.\n",
    "\n",
    "    Parameters:\n",
    "    -----------\n",
    "    data_path : str\n",
    "        Path for load the data\n",
    "\n",
    "    Returns\n",
    "    -------\n",
    "    retail_df : pandas DataFrame\n",
    "        Retail dataset in dataframe type\n",
    "    \"\"\"\n",
    "    # Load dataset\n",
    "    retail_df = pd.read_csv(data_path, low_memory=False)\n",
    "\n",
    "    # Drop any duplicate data\n",
    "    retail_df = retail_df.drop_duplicates()\n",
    "\n",
    "    # Show the shape of data\n",
    "    print(\"Shape of data :\", retail_df.shape)\n",
    "\n",
    "    return retail_df"
   ]
  },
  {
   "cell_type": "code",
   "execution_count": 5,
   "metadata": {},
   "outputs": [
    {
     "name": "stdout",
     "output_type": "stream",
     "text": [
      "Shape of data : (65796, 11)\n"
     ]
    }
   ],
   "source": [
    "# Load data\n",
    "data_path = \"../data/online_retail.csv\"\n",
    "\n",
    "retail_df = load_dataset(data_path)"
   ]
  },
  {
   "cell_type": "code",
   "execution_count": 6,
   "metadata": {},
   "outputs": [
    {
     "data": {
      "text/html": [
       "<div>\n",
       "<style scoped>\n",
       "    .dataframe tbody tr th:only-of-type {\n",
       "        vertical-align: middle;\n",
       "    }\n",
       "\n",
       "    .dataframe tbody tr th {\n",
       "        vertical-align: top;\n",
       "    }\n",
       "\n",
       "    .dataframe thead th {\n",
       "        text-align: right;\n",
       "    }\n",
       "</style>\n",
       "<table border=\"1\" class=\"dataframe\">\n",
       "  <thead>\n",
       "    <tr style=\"text-align: right;\">\n",
       "      <th></th>\n",
       "      <th>Customer_ID</th>\n",
       "      <th>Invoice</th>\n",
       "      <th>Revenue_Total</th>\n",
       "      <th>N_Purchases</th>\n",
       "      <th>Purchase_DATE</th>\n",
       "      <th>Purchase_VALUE</th>\n",
       "      <th>Pay_Method</th>\n",
       "      <th>Time_Spent</th>\n",
       "      <th>Browser</th>\n",
       "      <th>Newsletter</th>\n",
       "      <th>Voucher</th>\n",
       "    </tr>\n",
       "  </thead>\n",
       "  <tbody>\n",
       "    <tr>\n",
       "      <th>0</th>\n",
       "      <td>NaN</td>\n",
       "      <td>489548</td>\n",
       "      <td>45.3</td>\n",
       "      <td>2</td>\n",
       "      <td>22.06.21</td>\n",
       "      <td>24.915</td>\n",
       "      <td>Cards</td>\n",
       "      <td>885</td>\n",
       "      <td>Chrome</td>\n",
       "      <td>Not Subsribed</td>\n",
       "      <td>Not Used</td>\n",
       "    </tr>\n",
       "    <tr>\n",
       "      <th>1</th>\n",
       "      <td>NaN</td>\n",
       "      <td>489549</td>\n",
       "      <td>36.2</td>\n",
       "      <td>3</td>\n",
       "      <td>10.12.21</td>\n",
       "      <td>2.896</td>\n",
       "      <td>Paypal</td>\n",
       "      <td>656</td>\n",
       "      <td>Chrome</td>\n",
       "      <td>Not Subsribed</td>\n",
       "      <td>Used</td>\n",
       "    </tr>\n",
       "    <tr>\n",
       "      <th>2</th>\n",
       "      <td>NaN</td>\n",
       "      <td>489550</td>\n",
       "      <td>10.6</td>\n",
       "      <td>1</td>\n",
       "      <td>14.03.21</td>\n",
       "      <td>10.600</td>\n",
       "      <td>Digital Wallets</td>\n",
       "      <td>761</td>\n",
       "      <td>Chrome</td>\n",
       "      <td>Subsribed</td>\n",
       "      <td>Not Used</td>\n",
       "    </tr>\n",
       "    <tr>\n",
       "      <th>3</th>\n",
       "      <td>NaN</td>\n",
       "      <td>489551</td>\n",
       "      <td>54.1</td>\n",
       "      <td>5</td>\n",
       "      <td>25.10.21</td>\n",
       "      <td>43.280</td>\n",
       "      <td>Cards</td>\n",
       "      <td>906</td>\n",
       "      <td>Chrome</td>\n",
       "      <td>Subsribed</td>\n",
       "      <td>Not Used</td>\n",
       "    </tr>\n",
       "    <tr>\n",
       "      <th>4</th>\n",
       "      <td>NaN</td>\n",
       "      <td>489552</td>\n",
       "      <td>56.9</td>\n",
       "      <td>1</td>\n",
       "      <td>14.09.21</td>\n",
       "      <td>56.900</td>\n",
       "      <td>Cards</td>\n",
       "      <td>605</td>\n",
       "      <td>Chrome</td>\n",
       "      <td>Subsribed</td>\n",
       "      <td>Not Used</td>\n",
       "    </tr>\n",
       "  </tbody>\n",
       "</table>\n",
       "</div>"
      ],
      "text/plain": [
       "   Customer_ID  Invoice  Revenue_Total  N_Purchases Purchase_DATE  \\\n",
       "0          NaN   489548           45.3            2      22.06.21   \n",
       "1          NaN   489549           36.2            3      10.12.21   \n",
       "2          NaN   489550           10.6            1      14.03.21   \n",
       "3          NaN   489551           54.1            5      25.10.21   \n",
       "4          NaN   489552           56.9            1      14.09.21   \n",
       "\n",
       "   Purchase_VALUE       Pay_Method  Time_Spent Browser     Newsletter  \\\n",
       "0          24.915            Cards         885  Chrome  Not Subsribed   \n",
       "1           2.896           Paypal         656  Chrome  Not Subsribed   \n",
       "2          10.600  Digital Wallets         761  Chrome      Subsribed   \n",
       "3          43.280            Cards         906  Chrome      Subsribed   \n",
       "4          56.900            Cards         605  Chrome      Subsribed   \n",
       "\n",
       "    Voucher  \n",
       "0  Not Used  \n",
       "1      Used  \n",
       "2  Not Used  \n",
       "3  Not Used  \n",
       "4  Not Used  "
      ]
     },
     "execution_count": 6,
     "metadata": {},
     "output_type": "execute_result"
    }
   ],
   "source": [
    "# Check the data using .head()\n",
    "retail_df.head()"
   ]
  },
  {
   "cell_type": "code",
   "execution_count": 7,
   "metadata": {},
   "outputs": [
    {
     "data": {
      "text/plain": [
       "0"
      ]
     },
     "execution_count": 7,
     "metadata": {},
     "output_type": "execute_result"
    }
   ],
   "source": [
    "# Check if there's any duplicate value\n",
    "retail_df.duplicated().sum()"
   ]
  },
  {
   "cell_type": "code",
   "execution_count": 8,
   "metadata": {},
   "outputs": [
    {
     "data": {
      "text/plain": [
       "Customer_ID       float64\n",
       "Invoice             int64\n",
       "Revenue_Total     float64\n",
       "N_Purchases         int64\n",
       "Purchase_DATE      object\n",
       "Purchase_VALUE    float64\n",
       "Pay_Method         object\n",
       "Time_Spent          int64\n",
       "Browser            object\n",
       "Newsletter         object\n",
       "Voucher            object\n",
       "dtype: object"
      ]
     },
     "execution_count": 8,
     "metadata": {},
     "output_type": "execute_result"
    }
   ],
   "source": [
    "# Check data types for all columns\n",
    "retail_df.dtypes"
   ]
  },
  {
   "cell_type": "code",
   "execution_count": 9,
   "metadata": {},
   "outputs": [
    {
     "name": "stderr",
     "output_type": "stream",
     "text": [
      "C:\\Users\\Axel\\AppData\\Local\\Temp\\ipykernel_24512\\3273906813.py:3: FutureWarning: The default value of regex will change from True to False in a future version. In addition, single character regular expressions will *not* be treated as literal strings when regex=True.\n",
      "  retail_df[\"Purchase_DATE\"] = retail_df[\"Purchase_DATE\"].str.replace(\".\",\"-\")\n"
     ]
    }
   ],
   "source": [
    "# Change the datatype of \"Purchase_DATE\" from object to timeseries.\n",
    "# Replace \".\" char to \"-\"\n",
    "retail_df[\"Purchase_DATE\"] = retail_df[\"Purchase_DATE\"].str.replace(\".\",\"-\")\n",
    "\n",
    "# Replace `21` in 2 last characters to `2021`\n",
    "retail_df[\"Purchase_DATE\"] = retail_df[\"Purchase_DATE\"].str[:-2] + '20' + retail_df[\"Purchase_DATE\"].str[-2:]\n",
    "\n",
    "# Typecasting format of column `Purchase_DATE` to datetime\n",
    "retail_df[\"Purchase_DATE\"] = pd.to_datetime(retail_df[\"Purchase_DATE\"],infer_datetime_format=True)"
   ]
  },
  {
   "cell_type": "code",
   "execution_count": 10,
   "metadata": {},
   "outputs": [
    {
     "data": {
      "text/plain": [
       "Customer_ID              float64\n",
       "Invoice                    int64\n",
       "Revenue_Total            float64\n",
       "N_Purchases                int64\n",
       "Purchase_DATE     datetime64[ns]\n",
       "Purchase_VALUE           float64\n",
       "Pay_Method                object\n",
       "Time_Spent                 int64\n",
       "Browser                   object\n",
       "Newsletter                object\n",
       "Voucher                   object\n",
       "dtype: object"
      ]
     },
     "execution_count": 10,
     "metadata": {},
     "output_type": "execute_result"
    }
   ],
   "source": [
    "# Validate of \"Purchase_DATE\" column data types\n",
    "retail_df.dtypes"
   ]
  },
  {
   "cell_type": "markdown",
   "metadata": {},
   "source": [
    "# 4. Exporatory Data Analysis"
   ]
  },
  {
   "cell_type": "code",
   "execution_count": 11,
   "metadata": {},
   "outputs": [
    {
     "name": "stdout",
     "output_type": "stream",
     "text": [
      "Shape of `retail_df`: (65796, 11)\n",
      "Shape of `retail_eda`: (65796, 11)\n"
     ]
    }
   ],
   "source": [
    "# Create the copy of data so the data wouldn't be overwritten\n",
    "retail_eda = retail_df.copy()\n",
    "\n",
    "# Validate the shape of data\n",
    "print(\"Shape of `retail_df`:\", retail_df.shape)\n",
    "print(\"Shape of `retail_eda`:\", retail_eda.shape)"
   ]
  },
  {
   "cell_type": "code",
   "execution_count": 12,
   "metadata": {},
   "outputs": [
    {
     "data": {
      "text/html": [
       "<div>\n",
       "<style scoped>\n",
       "    .dataframe tbody tr th:only-of-type {\n",
       "        vertical-align: middle;\n",
       "    }\n",
       "\n",
       "    .dataframe tbody tr th {\n",
       "        vertical-align: top;\n",
       "    }\n",
       "\n",
       "    .dataframe thead th {\n",
       "        text-align: right;\n",
       "    }\n",
       "</style>\n",
       "<table border=\"1\" class=\"dataframe\">\n",
       "  <thead>\n",
       "    <tr style=\"text-align: right;\">\n",
       "      <th></th>\n",
       "      <th>Customer_ID</th>\n",
       "      <th>Invoice</th>\n",
       "      <th>Revenue_Total</th>\n",
       "      <th>N_Purchases</th>\n",
       "      <th>Purchase_VALUE</th>\n",
       "      <th>Time_Spent</th>\n",
       "    </tr>\n",
       "  </thead>\n",
       "  <tbody>\n",
       "    <tr>\n",
       "      <th>count</th>\n",
       "      <td>65399.000000</td>\n",
       "      <td>65796.000000</td>\n",
       "      <td>65796.000000</td>\n",
       "      <td>65796.000000</td>\n",
       "      <td>65796.000000</td>\n",
       "      <td>65796.000000</td>\n",
       "    </tr>\n",
       "    <tr>\n",
       "      <th>mean</th>\n",
       "      <td>504930.113656</td>\n",
       "      <td>522445.500000</td>\n",
       "      <td>27.732935</td>\n",
       "      <td>3.992477</td>\n",
       "      <td>15.968699</td>\n",
       "      <td>598.925603</td>\n",
       "    </tr>\n",
       "    <tr>\n",
       "      <th>std</th>\n",
       "      <td>205.567125</td>\n",
       "      <td>18993.813493</td>\n",
       "      <td>14.941878</td>\n",
       "      <td>2.004370</td>\n",
       "      <td>13.229295</td>\n",
       "      <td>277.833635</td>\n",
       "    </tr>\n",
       "    <tr>\n",
       "      <th>min</th>\n",
       "      <td>504308.000000</td>\n",
       "      <td>489548.000000</td>\n",
       "      <td>0.500000</td>\n",
       "      <td>1.000000</td>\n",
       "      <td>0.005000</td>\n",
       "      <td>120.000000</td>\n",
       "    </tr>\n",
       "    <tr>\n",
       "      <th>25%</th>\n",
       "      <td>504810.000000</td>\n",
       "      <td>505996.750000</td>\n",
       "      <td>15.300000</td>\n",
       "      <td>2.000000</td>\n",
       "      <td>4.819750</td>\n",
       "      <td>358.000000</td>\n",
       "    </tr>\n",
       "    <tr>\n",
       "      <th>50%</th>\n",
       "      <td>504979.000000</td>\n",
       "      <td>522445.500000</td>\n",
       "      <td>30.100000</td>\n",
       "      <td>4.000000</td>\n",
       "      <td>12.640000</td>\n",
       "      <td>598.000000</td>\n",
       "    </tr>\n",
       "    <tr>\n",
       "      <th>75%</th>\n",
       "      <td>505096.000000</td>\n",
       "      <td>538894.250000</td>\n",
       "      <td>37.600000</td>\n",
       "      <td>6.000000</td>\n",
       "      <td>24.752000</td>\n",
       "      <td>840.000000</td>\n",
       "    </tr>\n",
       "    <tr>\n",
       "      <th>max</th>\n",
       "      <td>505188.000000</td>\n",
       "      <td>555343.000000</td>\n",
       "      <td>59.900000</td>\n",
       "      <td>7.000000</td>\n",
       "      <td>59.900000</td>\n",
       "      <td>1080.000000</td>\n",
       "    </tr>\n",
       "  </tbody>\n",
       "</table>\n",
       "</div>"
      ],
      "text/plain": [
       "         Customer_ID        Invoice  Revenue_Total   N_Purchases  \\\n",
       "count   65399.000000   65796.000000   65796.000000  65796.000000   \n",
       "mean   504930.113656  522445.500000      27.732935      3.992477   \n",
       "std       205.567125   18993.813493      14.941878      2.004370   \n",
       "min    504308.000000  489548.000000       0.500000      1.000000   \n",
       "25%    504810.000000  505996.750000      15.300000      2.000000   \n",
       "50%    504979.000000  522445.500000      30.100000      4.000000   \n",
       "75%    505096.000000  538894.250000      37.600000      6.000000   \n",
       "max    505188.000000  555343.000000      59.900000      7.000000   \n",
       "\n",
       "       Purchase_VALUE    Time_Spent  \n",
       "count    65796.000000  65796.000000  \n",
       "mean        15.968699    598.925603  \n",
       "std         13.229295    277.833635  \n",
       "min          0.005000    120.000000  \n",
       "25%          4.819750    358.000000  \n",
       "50%         12.640000    598.000000  \n",
       "75%         24.752000    840.000000  \n",
       "max         59.900000   1080.000000  "
      ]
     },
     "execution_count": 12,
     "metadata": {},
     "output_type": "execute_result"
    }
   ],
   "source": [
    "# Check statistical descriptive of dataset (For numerical columns)\n",
    "retail_eda.describe()"
   ]
  },
  {
   "cell_type": "markdown",
   "metadata": {},
   "source": [
    "- All values is positive, which is rational because neither of value can be negative\n",
    "- There are potential outlier in `Revenue_Total`, `Purchase_Value`, and `Time_Spent`. Need further analysis to proof "
   ]
  },
  {
   "cell_type": "code",
   "execution_count": 13,
   "metadata": {},
   "outputs": [
    {
     "data": {
      "text/plain": [
       "Customer_ID       397\n",
       "Invoice             0\n",
       "Revenue_Total       0\n",
       "N_Purchases         0\n",
       "Purchase_DATE       0\n",
       "Purchase_VALUE      0\n",
       "Pay_Method          0\n",
       "Time_Spent          0\n",
       "Browser             0\n",
       "Newsletter          0\n",
       "Voucher             0\n",
       "dtype: int64"
      ]
     },
     "execution_count": 13,
     "metadata": {},
     "output_type": "execute_result"
    }
   ],
   "source": [
    "# Check possibilities of missing values\n",
    "retail_eda.isna().sum()"
   ]
  },
  {
   "cell_type": "markdown",
   "metadata": {},
   "source": [
    "`Column_ID` columns has some NaN value. Check the column first to handling missing values"
   ]
  },
  {
   "cell_type": "code",
   "execution_count": 14,
   "metadata": {},
   "outputs": [
    {
     "data": {
      "text/html": [
       "<div>\n",
       "<style scoped>\n",
       "    .dataframe tbody tr th:only-of-type {\n",
       "        vertical-align: middle;\n",
       "    }\n",
       "\n",
       "    .dataframe tbody tr th {\n",
       "        vertical-align: top;\n",
       "    }\n",
       "\n",
       "    .dataframe thead th {\n",
       "        text-align: right;\n",
       "    }\n",
       "</style>\n",
       "<table border=\"1\" class=\"dataframe\">\n",
       "  <thead>\n",
       "    <tr style=\"text-align: right;\">\n",
       "      <th></th>\n",
       "      <th>Customer_ID</th>\n",
       "      <th>Invoice</th>\n",
       "      <th>Revenue_Total</th>\n",
       "      <th>N_Purchases</th>\n",
       "      <th>Purchase_DATE</th>\n",
       "      <th>Purchase_VALUE</th>\n",
       "      <th>Pay_Method</th>\n",
       "      <th>Time_Spent</th>\n",
       "      <th>Browser</th>\n",
       "      <th>Newsletter</th>\n",
       "      <th>Voucher</th>\n",
       "    </tr>\n",
       "  </thead>\n",
       "  <tbody>\n",
       "    <tr>\n",
       "      <th>0</th>\n",
       "      <td>NaN</td>\n",
       "      <td>489548</td>\n",
       "      <td>45.3</td>\n",
       "      <td>2</td>\n",
       "      <td>2021-06-22</td>\n",
       "      <td>24.915</td>\n",
       "      <td>Cards</td>\n",
       "      <td>885</td>\n",
       "      <td>Chrome</td>\n",
       "      <td>Not Subsribed</td>\n",
       "      <td>Not Used</td>\n",
       "    </tr>\n",
       "    <tr>\n",
       "      <th>1</th>\n",
       "      <td>NaN</td>\n",
       "      <td>489549</td>\n",
       "      <td>36.2</td>\n",
       "      <td>3</td>\n",
       "      <td>2021-12-10</td>\n",
       "      <td>2.896</td>\n",
       "      <td>Paypal</td>\n",
       "      <td>656</td>\n",
       "      <td>Chrome</td>\n",
       "      <td>Not Subsribed</td>\n",
       "      <td>Used</td>\n",
       "    </tr>\n",
       "    <tr>\n",
       "      <th>2</th>\n",
       "      <td>NaN</td>\n",
       "      <td>489550</td>\n",
       "      <td>10.6</td>\n",
       "      <td>1</td>\n",
       "      <td>2021-03-14</td>\n",
       "      <td>10.600</td>\n",
       "      <td>Digital Wallets</td>\n",
       "      <td>761</td>\n",
       "      <td>Chrome</td>\n",
       "      <td>Subsribed</td>\n",
       "      <td>Not Used</td>\n",
       "    </tr>\n",
       "    <tr>\n",
       "      <th>3</th>\n",
       "      <td>NaN</td>\n",
       "      <td>489551</td>\n",
       "      <td>54.1</td>\n",
       "      <td>5</td>\n",
       "      <td>2021-10-25</td>\n",
       "      <td>43.280</td>\n",
       "      <td>Cards</td>\n",
       "      <td>906</td>\n",
       "      <td>Chrome</td>\n",
       "      <td>Subsribed</td>\n",
       "      <td>Not Used</td>\n",
       "    </tr>\n",
       "    <tr>\n",
       "      <th>4</th>\n",
       "      <td>NaN</td>\n",
       "      <td>489552</td>\n",
       "      <td>56.9</td>\n",
       "      <td>1</td>\n",
       "      <td>2021-09-14</td>\n",
       "      <td>56.900</td>\n",
       "      <td>Cards</td>\n",
       "      <td>605</td>\n",
       "      <td>Chrome</td>\n",
       "      <td>Subsribed</td>\n",
       "      <td>Not Used</td>\n",
       "    </tr>\n",
       "    <tr>\n",
       "      <th>...</th>\n",
       "      <td>...</td>\n",
       "      <td>...</td>\n",
       "      <td>...</td>\n",
       "      <td>...</td>\n",
       "      <td>...</td>\n",
       "      <td>...</td>\n",
       "      <td>...</td>\n",
       "      <td>...</td>\n",
       "      <td>...</td>\n",
       "      <td>...</td>\n",
       "      <td>...</td>\n",
       "    </tr>\n",
       "    <tr>\n",
       "      <th>5952</th>\n",
       "      <td>NaN</td>\n",
       "      <td>495500</td>\n",
       "      <td>39.2</td>\n",
       "      <td>7</td>\n",
       "      <td>2021-03-23</td>\n",
       "      <td>31.752</td>\n",
       "      <td>Paypal</td>\n",
       "      <td>217</td>\n",
       "      <td>Safari</td>\n",
       "      <td>Not Subsribed</td>\n",
       "      <td>Used</td>\n",
       "    </tr>\n",
       "    <tr>\n",
       "      <th>5953</th>\n",
       "      <td>NaN</td>\n",
       "      <td>495501</td>\n",
       "      <td>16.8</td>\n",
       "      <td>6</td>\n",
       "      <td>2021-12-23</td>\n",
       "      <td>5.544</td>\n",
       "      <td>Others</td>\n",
       "      <td>548</td>\n",
       "      <td>Chrome</td>\n",
       "      <td>Not Subsribed</td>\n",
       "      <td>Not Used</td>\n",
       "    </tr>\n",
       "    <tr>\n",
       "      <th>5954</th>\n",
       "      <td>NaN</td>\n",
       "      <td>495502</td>\n",
       "      <td>38.5</td>\n",
       "      <td>2</td>\n",
       "      <td>2021-12-14</td>\n",
       "      <td>1.925</td>\n",
       "      <td>Digital Wallets</td>\n",
       "      <td>974</td>\n",
       "      <td>Safari</td>\n",
       "      <td>Not Subsribed</td>\n",
       "      <td>Not Used</td>\n",
       "    </tr>\n",
       "    <tr>\n",
       "      <th>5955</th>\n",
       "      <td>NaN</td>\n",
       "      <td>495503</td>\n",
       "      <td>15.7</td>\n",
       "      <td>2</td>\n",
       "      <td>2021-11-11</td>\n",
       "      <td>7.536</td>\n",
       "      <td>Cards</td>\n",
       "      <td>239</td>\n",
       "      <td>Edge</td>\n",
       "      <td>Not Subsribed</td>\n",
       "      <td>Used</td>\n",
       "    </tr>\n",
       "    <tr>\n",
       "      <th>5956</th>\n",
       "      <td>NaN</td>\n",
       "      <td>495504</td>\n",
       "      <td>10.4</td>\n",
       "      <td>6</td>\n",
       "      <td>2021-02-09</td>\n",
       "      <td>8.632</td>\n",
       "      <td>Digital Wallets</td>\n",
       "      <td>718</td>\n",
       "      <td>Chrome</td>\n",
       "      <td>Not Subsribed</td>\n",
       "      <td>Not Used</td>\n",
       "    </tr>\n",
       "  </tbody>\n",
       "</table>\n",
       "<p>397 rows × 11 columns</p>\n",
       "</div>"
      ],
      "text/plain": [
       "      Customer_ID  Invoice  Revenue_Total  N_Purchases Purchase_DATE  \\\n",
       "0             NaN   489548           45.3            2    2021-06-22   \n",
       "1             NaN   489549           36.2            3    2021-12-10   \n",
       "2             NaN   489550           10.6            1    2021-03-14   \n",
       "3             NaN   489551           54.1            5    2021-10-25   \n",
       "4             NaN   489552           56.9            1    2021-09-14   \n",
       "...           ...      ...            ...          ...           ...   \n",
       "5952          NaN   495500           39.2            7    2021-03-23   \n",
       "5953          NaN   495501           16.8            6    2021-12-23   \n",
       "5954          NaN   495502           38.5            2    2021-12-14   \n",
       "5955          NaN   495503           15.7            2    2021-11-11   \n",
       "5956          NaN   495504           10.4            6    2021-02-09   \n",
       "\n",
       "      Purchase_VALUE       Pay_Method  Time_Spent Browser     Newsletter  \\\n",
       "0             24.915            Cards         885  Chrome  Not Subsribed   \n",
       "1              2.896           Paypal         656  Chrome  Not Subsribed   \n",
       "2             10.600  Digital Wallets         761  Chrome      Subsribed   \n",
       "3             43.280            Cards         906  Chrome      Subsribed   \n",
       "4             56.900            Cards         605  Chrome      Subsribed   \n",
       "...              ...              ...         ...     ...            ...   \n",
       "5952          31.752           Paypal         217  Safari  Not Subsribed   \n",
       "5953           5.544           Others         548  Chrome  Not Subsribed   \n",
       "5954           1.925  Digital Wallets         974  Safari  Not Subsribed   \n",
       "5955           7.536            Cards         239    Edge  Not Subsribed   \n",
       "5956           8.632  Digital Wallets         718  Chrome  Not Subsribed   \n",
       "\n",
       "       Voucher  \n",
       "0     Not Used  \n",
       "1         Used  \n",
       "2     Not Used  \n",
       "3     Not Used  \n",
       "4     Not Used  \n",
       "...        ...  \n",
       "5952      Used  \n",
       "5953  Not Used  \n",
       "5954  Not Used  \n",
       "5955      Used  \n",
       "5956  Not Used  \n",
       "\n",
       "[397 rows x 11 columns]"
      ]
     },
     "execution_count": 14,
     "metadata": {},
     "output_type": "execute_result"
    }
   ],
   "source": [
    "retail_eda[retail_eda['Customer_ID'].isna()]"
   ]
  },
  {
   "cell_type": "markdown",
   "metadata": {},
   "source": [
    "- For create RFM Analysis, we should aggregate data by each transaction by `Customer_ID`\n",
    "- Which mean we should drop this missing values"
   ]
  },
  {
   "cell_type": "code",
   "execution_count": 15,
   "metadata": {},
   "outputs": [
    {
     "name": "stdout",
     "output_type": "stream",
     "text": [
      "Shape before dropping missing values: (65796, 11)\n",
      "Shape after dropping missing values: (65399, 11)\n"
     ]
    }
   ],
   "source": [
    "# Drop the missing record for `Customer_ID`\n",
    "# Before dropping the missing values\n",
    "print('Shape before dropping missing values:', retail_eda.shape)\n",
    "\n",
    "# Drop NaN values\n",
    "retail_eda = retail_eda[~retail_eda['Customer_ID'].isna()]\n",
    "\n",
    "print('Shape after dropping missing values:', retail_eda.shape)"
   ]
  },
  {
   "cell_type": "code",
   "execution_count": 16,
   "metadata": {},
   "outputs": [
    {
     "data": {
      "text/plain": [
       "Customer_ID       0\n",
       "Invoice           0\n",
       "Revenue_Total     0\n",
       "N_Purchases       0\n",
       "Purchase_DATE     0\n",
       "Purchase_VALUE    0\n",
       "Pay_Method        0\n",
       "Time_Spent        0\n",
       "Browser           0\n",
       "Newsletter        0\n",
       "Voucher           0\n",
       "dtype: int64"
      ]
     },
     "execution_count": 16,
     "metadata": {},
     "output_type": "execute_result"
    }
   ],
   "source": [
    "# Validation of NaN values\n",
    "retail_eda.isna().sum()"
   ]
  },
  {
   "cell_type": "code",
   "execution_count": 17,
   "metadata": {},
   "outputs": [
    {
     "data": {
      "text/plain": [
       "489634    1\n",
       "533550    1\n",
       "533537    1\n",
       "533538    1\n",
       "533539    1\n",
       "         ..\n",
       "511749    1\n",
       "511750    1\n",
       "511751    1\n",
       "511752    1\n",
       "555343    1\n",
       "Name: Invoice, Length: 65399, dtype: int64"
      ]
     },
     "execution_count": 17,
     "metadata": {},
     "output_type": "execute_result"
    }
   ],
   "source": [
    "# Check for Invoice Columns\n",
    "retail_eda['Invoice'].value_counts()"
   ]
  },
  {
   "cell_type": "markdown",
   "metadata": {},
   "source": [
    "- There are no duplicate value in `Invoice`"
   ]
  },
  {
   "cell_type": "code",
   "execution_count": 18,
   "metadata": {},
   "outputs": [
    {
     "data": {
      "text/plain": [
       "881"
      ]
     },
     "execution_count": 18,
     "metadata": {},
     "output_type": "execute_result"
    }
   ],
   "source": [
    "# Check total unique Customer_ID\n",
    "len(set(retail_eda['Customer_ID']))"
   ]
  },
  {
   "cell_type": "code",
   "execution_count": 19,
   "metadata": {},
   "outputs": [
    {
     "name": "stdout",
     "output_type": "stream",
     "text": [
      "Date of First Transaction is : {'2021-01-01 00:00:00'}\n",
      "Date of Last Transaction is : {'2022-01-01 00:00:00'}\n"
     ]
    }
   ],
   "source": [
    "# Check First and Last Transaction in Retail\n",
    "print(f'Date of First Transaction is :', {str(retail_eda[\"Purchase_DATE\"].min())})\n",
    "print(f'Date of Last Transaction is :', {str(retail_eda[\"Purchase_DATE\"].max())})"
   ]
  },
  {
   "cell_type": "markdown",
   "metadata": {},
   "source": [
    "- From analysis above, we conclude that data consist of 1 years transaction"
   ]
  },
  {
   "cell_type": "markdown",
   "metadata": {},
   "source": [
    "## Create RFM Features"
   ]
  },
  {
   "cell_type": "code",
   "execution_count": 24,
   "metadata": {},
   "outputs": [
    {
     "data": {
      "text/plain": [
       "Timestamp('2022-01-01 00:00:00')"
      ]
     },
     "execution_count": 24,
     "metadata": {},
     "output_type": "execute_result"
    }
   ],
   "source": [
    "# Set the last trasaction data to became the reference date\n",
    "last_trans_date = pd.to_datetime('2022-01-01')\n",
    "\n",
    "last_trans_date"
   ]
  },
  {
   "cell_type": "markdown",
   "metadata": {},
   "source": [
    "- **Recency** (R) <br>\n",
    "Recency refers to the time elapsed since a customer's last interaction or transaction with a company.\n",
    "It measures **how recently a customer has engaged** with the business\n",
    "\n",
    "- **Frequency** (F)<br>\n",
    "Frequency represents the number of transaction occurs.\n",
    "It measures how often a customer engages with the business.\n",
    "\n",
    "- **Monetary** (M)<br>\n",
    "Monetary refers to the total monetary value of a customer's transactions or purchases.\n",
    "\n",
    "- **Tenure** (T) <br>\n",
    "The length of time a customer remains a customer **until the latest date**\n",
    "\n",
    "\n",
    "<br>"
   ]
  },
  {
   "cell_type": "code",
   "execution_count": 25,
   "metadata": {},
   "outputs": [],
   "source": [
    "# Create function to make RFM Analysis\n",
    "def recency_value(x):\n",
    "    \"\"\"\"\"\"\n",
    "    return (last_trans_date - x.max()).days\n",
    "\n",
    "def tenure_value(x):\n",
    "    \"\"\"\"\"\"\n",
    "    return (x.max() - x.min()).days\n",
    "\n",
    "def frequency_value(x):\n",
    "    \"\"\"\"\"\"\n",
    "    return len(set(x))\n",
    "\n",
    "def retrieve_rfmts(df):\n",
    "    \"\"\"\"\"\"\n",
    "    # Generate value of sales transaction --> Sales = N_Purchases x Purchase_VALUE\n",
    "    df[\"Sales\"] = df[\"N_Purchases\"] * df[\"Purchase_VALUE\"]\n",
    "\n",
    "    # Aggregate by 'Customer_ID' to retrieve RFM + TS\n",
    "    dict_agg_data = {\n",
    "        'Purchase_DATE' : [recency_value, tenure_value],\n",
    "        'Invoice' : frequency_value,\n",
    "        'Sales' : 'sum'\n",
    "    }\n",
    "\n",
    "    rfm_ts_data = df.groupby('Customer_ID').agg(dict_agg_data)\n",
    "\n",
    "    # Change name of column\n",
    "    rfm_ts_data.columns = ['Recency', 'Tenure', 'Frequency', 'Monetary']\n",
    "\n",
    "    # Change type of index\n",
    "    rfm_ts_data.index = rfm_ts_data.index.astype('int')\n",
    "\n",
    "    return rfm_ts_data"
   ]
  },
  {
   "cell_type": "code",
   "execution_count": 26,
   "metadata": {},
   "outputs": [
    {
     "name": "stdout",
     "output_type": "stream",
     "text": [
      "Shape of RFM datashape : (881, 4)\n"
     ]
    }
   ],
   "source": [
    "rfm_data_eda = retrieve_rfmts(df = retail_eda)\n",
    "\n",
    "# Validate the output\n",
    "# Rows of rfm_data_eda == unique number of Customer_ID\n",
    "print('Shape of RFM datashape :', rfm_data_eda.shape)\n",
    "assert rfm_data_eda.shape[0] == len(set(retail_eda['Customer_ID']))"
   ]
  },
  {
   "cell_type": "code",
   "execution_count": 27,
   "metadata": {},
   "outputs": [
    {
     "data": {
      "text/html": [
       "<div>\n",
       "<style scoped>\n",
       "    .dataframe tbody tr th:only-of-type {\n",
       "        vertical-align: middle;\n",
       "    }\n",
       "\n",
       "    .dataframe tbody tr th {\n",
       "        vertical-align: top;\n",
       "    }\n",
       "\n",
       "    .dataframe thead th {\n",
       "        text-align: right;\n",
       "    }\n",
       "</style>\n",
       "<table border=\"1\" class=\"dataframe\">\n",
       "  <thead>\n",
       "    <tr style=\"text-align: right;\">\n",
       "      <th></th>\n",
       "      <th>Recency</th>\n",
       "      <th>Tenure</th>\n",
       "      <th>Frequency</th>\n",
       "      <th>Monetary</th>\n",
       "    </tr>\n",
       "    <tr>\n",
       "      <th>Customer_ID</th>\n",
       "      <th></th>\n",
       "      <th></th>\n",
       "      <th></th>\n",
       "      <th></th>\n",
       "    </tr>\n",
       "  </thead>\n",
       "  <tbody>\n",
       "    <tr>\n",
       "      <th>504308</th>\n",
       "      <td>1</td>\n",
       "      <td>362</td>\n",
       "      <td>450</td>\n",
       "      <td>25499.332</td>\n",
       "    </tr>\n",
       "    <tr>\n",
       "      <th>504309</th>\n",
       "      <td>40</td>\n",
       "      <td>322</td>\n",
       "      <td>10</td>\n",
       "      <td>892.388</td>\n",
       "    </tr>\n",
       "    <tr>\n",
       "      <th>504310</th>\n",
       "      <td>4</td>\n",
       "      <td>288</td>\n",
       "      <td>8</td>\n",
       "      <td>682.436</td>\n",
       "    </tr>\n",
       "    <tr>\n",
       "      <th>504311</th>\n",
       "      <td>33</td>\n",
       "      <td>290</td>\n",
       "      <td>9</td>\n",
       "      <td>736.446</td>\n",
       "    </tr>\n",
       "    <tr>\n",
       "      <th>504312</th>\n",
       "      <td>11</td>\n",
       "      <td>220</td>\n",
       "      <td>5</td>\n",
       "      <td>54.155</td>\n",
       "    </tr>\n",
       "  </tbody>\n",
       "</table>\n",
       "</div>"
      ],
      "text/plain": [
       "             Recency  Tenure  Frequency   Monetary\n",
       "Customer_ID                                       \n",
       "504308             1     362        450  25499.332\n",
       "504309            40     322         10    892.388\n",
       "504310             4     288          8    682.436\n",
       "504311            33     290          9    736.446\n",
       "504312            11     220          5     54.155"
      ]
     },
     "execution_count": 27,
     "metadata": {},
     "output_type": "execute_result"
    }
   ],
   "source": [
    "# Do sanity check\n",
    "rfm_data_eda.head()"
   ]
  },
  {
   "cell_type": "code",
   "execution_count": 28,
   "metadata": {},
   "outputs": [
    {
     "data": {
      "text/html": [
       "<div>\n",
       "<style scoped>\n",
       "    .dataframe tbody tr th:only-of-type {\n",
       "        vertical-align: middle;\n",
       "    }\n",
       "\n",
       "    .dataframe tbody tr th {\n",
       "        vertical-align: top;\n",
       "    }\n",
       "\n",
       "    .dataframe thead th {\n",
       "        text-align: right;\n",
       "    }\n",
       "</style>\n",
       "<table border=\"1\" class=\"dataframe\">\n",
       "  <thead>\n",
       "    <tr style=\"text-align: right;\">\n",
       "      <th></th>\n",
       "      <th>Recency</th>\n",
       "      <th>Tenure</th>\n",
       "      <th>Frequency</th>\n",
       "      <th>Monetary</th>\n",
       "    </tr>\n",
       "  </thead>\n",
       "  <tbody>\n",
       "    <tr>\n",
       "      <th>count</th>\n",
       "      <td>881.000000</td>\n",
       "      <td>881.000000</td>\n",
       "      <td>881.000000</td>\n",
       "      <td>881.000000</td>\n",
       "    </tr>\n",
       "    <tr>\n",
       "      <th>mean</th>\n",
       "      <td>10.518729</td>\n",
       "      <td>343.486947</td>\n",
       "      <td>74.232690</td>\n",
       "      <td>4298.080144</td>\n",
       "    </tr>\n",
       "    <tr>\n",
       "      <th>std</th>\n",
       "      <td>19.044205</td>\n",
       "      <td>31.567390</td>\n",
       "      <td>57.813762</td>\n",
       "      <td>3370.302997</td>\n",
       "    </tr>\n",
       "    <tr>\n",
       "      <th>min</th>\n",
       "      <td>0.000000</td>\n",
       "      <td>114.000000</td>\n",
       "      <td>3.000000</td>\n",
       "      <td>54.155000</td>\n",
       "    </tr>\n",
       "    <tr>\n",
       "      <th>25%</th>\n",
       "      <td>1.000000</td>\n",
       "      <td>340.000000</td>\n",
       "      <td>23.000000</td>\n",
       "      <td>1331.508000</td>\n",
       "    </tr>\n",
       "    <tr>\n",
       "      <th>50%</th>\n",
       "      <td>4.000000</td>\n",
       "      <td>356.000000</td>\n",
       "      <td>59.000000</td>\n",
       "      <td>3467.950000</td>\n",
       "    </tr>\n",
       "    <tr>\n",
       "      <th>75%</th>\n",
       "      <td>12.000000</td>\n",
       "      <td>361.000000</td>\n",
       "      <td>118.000000</td>\n",
       "      <td>6848.626000</td>\n",
       "    </tr>\n",
       "    <tr>\n",
       "      <th>max</th>\n",
       "      <td>199.000000</td>\n",
       "      <td>365.000000</td>\n",
       "      <td>450.000000</td>\n",
       "      <td>25499.332000</td>\n",
       "    </tr>\n",
       "  </tbody>\n",
       "</table>\n",
       "</div>"
      ],
      "text/plain": [
       "          Recency      Tenure   Frequency      Monetary\n",
       "count  881.000000  881.000000  881.000000    881.000000\n",
       "mean    10.518729  343.486947   74.232690   4298.080144\n",
       "std     19.044205   31.567390   57.813762   3370.302997\n",
       "min      0.000000  114.000000    3.000000     54.155000\n",
       "25%      1.000000  340.000000   23.000000   1331.508000\n",
       "50%      4.000000  356.000000   59.000000   3467.950000\n",
       "75%     12.000000  361.000000  118.000000   6848.626000\n",
       "max    199.000000  365.000000  450.000000  25499.332000"
      ]
     },
     "execution_count": 28,
     "metadata": {},
     "output_type": "execute_result"
    }
   ],
   "source": [
    "# Check data description of `rfm_data_eda`\n",
    "rfm_data_eda.describe()"
   ]
  },
  {
   "cell_type": "markdown",
   "metadata": {},
   "source": [
    "- Based on EDA on statistical descriptive in `rfm_data_eda`, there is no negative value in all columns"
   ]
  },
  {
   "cell_type": "markdown",
   "metadata": {},
   "source": [
    "#### Check for `Frequency` & `Tenure`"
   ]
  },
  {
   "cell_type": "code",
   "execution_count": 29,
   "metadata": {},
   "outputs": [
    {
     "data": {
      "text/html": [
       "<div>\n",
       "<style scoped>\n",
       "    .dataframe tbody tr th:only-of-type {\n",
       "        vertical-align: middle;\n",
       "    }\n",
       "\n",
       "    .dataframe tbody tr th {\n",
       "        vertical-align: top;\n",
       "    }\n",
       "\n",
       "    .dataframe thead th {\n",
       "        text-align: right;\n",
       "    }\n",
       "</style>\n",
       "<table border=\"1\" class=\"dataframe\">\n",
       "  <thead>\n",
       "    <tr style=\"text-align: right;\">\n",
       "      <th></th>\n",
       "      <th>Recency</th>\n",
       "      <th>Tenure</th>\n",
       "      <th>Frequency</th>\n",
       "      <th>Monetary</th>\n",
       "    </tr>\n",
       "    <tr>\n",
       "      <th>Customer_ID</th>\n",
       "      <th></th>\n",
       "      <th></th>\n",
       "      <th></th>\n",
       "      <th></th>\n",
       "    </tr>\n",
       "  </thead>\n",
       "  <tbody>\n",
       "  </tbody>\n",
       "</table>\n",
       "</div>"
      ],
      "text/plain": [
       "Empty DataFrame\n",
       "Columns: [Recency, Tenure, Frequency, Monetary]\n",
       "Index: []"
      ]
     },
     "execution_count": 29,
     "metadata": {},
     "output_type": "execute_result"
    }
   ],
   "source": [
    "# Check for frequency == 1 in rfm_data_eda\n",
    "rfm_data_eda[rfm_data_eda['Frequency'] == 1]"
   ]
  },
  {
   "cell_type": "markdown",
   "metadata": {},
   "source": [
    "- There are no one on time purchaser\n",
    "- Check customer tenure = 0 \n",
    "- We want to know is there any customer with tenure = 0 and frequency > 1"
   ]
  },
  {
   "cell_type": "code",
   "execution_count": 30,
   "metadata": {},
   "outputs": [
    {
     "data": {
      "text/html": [
       "<div>\n",
       "<style scoped>\n",
       "    .dataframe tbody tr th:only-of-type {\n",
       "        vertical-align: middle;\n",
       "    }\n",
       "\n",
       "    .dataframe tbody tr th {\n",
       "        vertical-align: top;\n",
       "    }\n",
       "\n",
       "    .dataframe thead th {\n",
       "        text-align: right;\n",
       "    }\n",
       "</style>\n",
       "<table border=\"1\" class=\"dataframe\">\n",
       "  <thead>\n",
       "    <tr style=\"text-align: right;\">\n",
       "      <th></th>\n",
       "      <th>Recency</th>\n",
       "      <th>Tenure</th>\n",
       "      <th>Frequency</th>\n",
       "      <th>Monetary</th>\n",
       "    </tr>\n",
       "    <tr>\n",
       "      <th>Customer_ID</th>\n",
       "      <th></th>\n",
       "      <th></th>\n",
       "      <th></th>\n",
       "      <th></th>\n",
       "    </tr>\n",
       "  </thead>\n",
       "  <tbody>\n",
       "  </tbody>\n",
       "</table>\n",
       "</div>"
      ],
      "text/plain": [
       "Empty DataFrame\n",
       "Columns: [Recency, Tenure, Frequency, Monetary]\n",
       "Index: []"
      ]
     },
     "execution_count": 30,
     "metadata": {},
     "output_type": "execute_result"
    }
   ],
   "source": [
    "# Check for tenure == 0 in rfm_data_eda\n",
    "rfm_data_eda[rfm_data_eda['Tenure'] == 0]"
   ]
  },
  {
   "cell_type": "markdown",
   "metadata": {},
   "source": [
    "- We can conclude that there are no one customer"
   ]
  },
  {
   "cell_type": "markdown",
   "metadata": {},
   "source": [
    "- Check for `Monetary`"
   ]
  },
  {
   "cell_type": "code",
   "execution_count": 31,
   "metadata": {},
   "outputs": [
    {
     "data": {
      "text/plain": [
       "count    0.0\n",
       "mean     NaN\n",
       "std      NaN\n",
       "min      NaN\n",
       "25%      NaN\n",
       "50%      NaN\n",
       "75%      NaN\n",
       "max      NaN\n",
       "Name: Monetary, dtype: float64"
      ]
     },
     "execution_count": 31,
     "metadata": {},
     "output_type": "execute_result"
    }
   ],
   "source": [
    "# Monetary\n",
    "rfm_data_eda[rfm_data_eda['Frequency'] == 1]['Monetary'].describe()"
   ]
  },
  {
   "cell_type": "markdown",
   "metadata": {},
   "source": [
    "**Summary**\n",
    "- There are no one customer who be the one-time purchaser on data"
   ]
  },
  {
   "cell_type": "markdown",
   "metadata": {},
   "source": [
    "#### Data Distribution"
   ]
  },
  {
   "cell_type": "code",
   "execution_count": 32,
   "metadata": {},
   "outputs": [
    {
     "data": {
      "image/png": "[encoded data removed]",
      "text/plain": [
       "<Figure size 640x480 with 1 Axes>"
      ]
     },
     "metadata": {},
     "output_type": "display_data"
    },
    {
     "data": {
      "image/png": "[encoded data removed]",
      "text/plain": [
       "<Figure size 640x480 with 1 Axes>"
      ]
     },
     "metadata": {},
     "output_type": "display_data"
    },
    {
     "data": {
      "image/png": "[encoded data removed]",
      "text/plain": [
       "<Figure size 640x480 with 1 Axes>"
      ]
     },
     "metadata": {},
     "output_type": "display_data"
    },
    {
     "data": {
      "image/png": "[encoded data removed]",
      "text/plain": [
       "<Figure size 640x480 with 1 Axes>"
      ]
     },
     "metadata": {},
     "output_type": "display_data"
    }
   ],
   "source": [
    "# Try to plot the distribution\n",
    "for col in rfm_data_eda.columns:\n",
    "    x = rfm_data_eda[col]\n",
    "    sns.histplot(x)\n",
    "    plt.title(col)\n",
    "    plt.show()"
   ]
  },
  {
   "cell_type": "markdown",
   "metadata": {},
   "source": [
    "**Summary**\n",
    "- The distribution is skew for all columns. Try further analysis to determine is there any outliers\n",
    "- Use IQR method to determine"
   ]
  },
  {
   "cell_type": "code",
   "execution_count": 34,
   "metadata": {},
   "outputs": [],
   "source": [
    "# Drop ouliers\n",
    "def drop_outlier(df, columns):\n",
    "    \"\"\"\n",
    "    Function to remove record that exceed the outliers value determine by IQR\n",
    "\n",
    "    Parameters\n",
    "    ----------\n",
    "    df : pandas DataFrame\n",
    "        Sample of data\n",
    "\n",
    "    columns : list\n",
    "        Name of columns that want to drop the outliers\n",
    "\n",
    "    Returns\n",
    "    -------\n",
    "    clean_df : pandas DataFrame\n",
    "        Data that has been drop outliers\n",
    "    \"\"\"\n",
    "    # Copy dataframe\n",
    "    clean_df = df.copy()\n",
    "\n",
    "    # Iteration for all columns and record\n",
    "    for column in columns:\n",
    "        # Calculate value of IQR\n",
    "        q1, q3 = np.quantile(clean_df[column], q=[0.25, 0.75])\n",
    "        iqr = q3 - q1\n",
    "        upper_bond = q3 + 1.5*iqr \n",
    "        lower_bond = q1 - 1.5*iqr\n",
    "\n",
    "        # Filter data based on iqr\n",
    "        data_condition_1 = clean_df[column] <= upper_bond\n",
    "        data_condition_2 = clean_df[column] >= lower_bond\n",
    "        clean_df = clean_df[data_condition_1&data_condition_2]\n",
    "\n",
    "    return clean_df\n"
   ]
  },
  {
   "cell_type": "code",
   "execution_count": 35,
   "metadata": {},
   "outputs": [
    {
     "name": "stdout",
     "output_type": "stream",
     "text": [
      "Shape of EDA data : (733, 4)\n"
     ]
    },
    {
     "data": {
      "text/html": [
       "<div>\n",
       "<style scoped>\n",
       "    .dataframe tbody tr th:only-of-type {\n",
       "        vertical-align: middle;\n",
       "    }\n",
       "\n",
       "    .dataframe tbody tr th {\n",
       "        vertical-align: top;\n",
       "    }\n",
       "\n",
       "    .dataframe thead th {\n",
       "        text-align: right;\n",
       "    }\n",
       "</style>\n",
       "<table border=\"1\" class=\"dataframe\">\n",
       "  <thead>\n",
       "    <tr style=\"text-align: right;\">\n",
       "      <th></th>\n",
       "      <th>Recency</th>\n",
       "      <th>Tenure</th>\n",
       "      <th>Frequency</th>\n",
       "      <th>Monetary</th>\n",
       "    </tr>\n",
       "  </thead>\n",
       "  <tbody>\n",
       "    <tr>\n",
       "      <th>count</th>\n",
       "      <td>733.000000</td>\n",
       "      <td>733.000000</td>\n",
       "      <td>733.000000</td>\n",
       "      <td>733.000000</td>\n",
       "    </tr>\n",
       "    <tr>\n",
       "      <th>mean</th>\n",
       "      <td>5.038199</td>\n",
       "      <td>354.787176</td>\n",
       "      <td>85.377899</td>\n",
       "      <td>4944.521000</td>\n",
       "    </tr>\n",
       "    <tr>\n",
       "      <th>std</th>\n",
       "      <td>5.841828</td>\n",
       "      <td>9.549325</td>\n",
       "      <td>53.359748</td>\n",
       "      <td>3102.858155</td>\n",
       "    </tr>\n",
       "    <tr>\n",
       "      <th>min</th>\n",
       "      <td>0.000000</td>\n",
       "      <td>325.000000</td>\n",
       "      <td>7.000000</td>\n",
       "      <td>419.437000</td>\n",
       "    </tr>\n",
       "    <tr>\n",
       "      <th>25%</th>\n",
       "      <td>1.000000</td>\n",
       "      <td>350.000000</td>\n",
       "      <td>39.000000</td>\n",
       "      <td>2203.387000</td>\n",
       "    </tr>\n",
       "    <tr>\n",
       "      <th>50%</th>\n",
       "      <td>3.000000</td>\n",
       "      <td>358.000000</td>\n",
       "      <td>77.000000</td>\n",
       "      <td>4443.646000</td>\n",
       "    </tr>\n",
       "    <tr>\n",
       "      <th>75%</th>\n",
       "      <td>7.000000</td>\n",
       "      <td>362.000000</td>\n",
       "      <td>128.000000</td>\n",
       "      <td>7399.816000</td>\n",
       "    </tr>\n",
       "    <tr>\n",
       "      <th>max</th>\n",
       "      <td>28.000000</td>\n",
       "      <td>365.000000</td>\n",
       "      <td>210.000000</td>\n",
       "      <td>13037.662000</td>\n",
       "    </tr>\n",
       "  </tbody>\n",
       "</table>\n",
       "</div>"
      ],
      "text/plain": [
       "          Recency      Tenure   Frequency      Monetary\n",
       "count  733.000000  733.000000  733.000000    733.000000\n",
       "mean     5.038199  354.787176   85.377899   4944.521000\n",
       "std      5.841828    9.549325   53.359748   3102.858155\n",
       "min      0.000000  325.000000    7.000000    419.437000\n",
       "25%      1.000000  350.000000   39.000000   2203.387000\n",
       "50%      3.000000  358.000000   77.000000   4443.646000\n",
       "75%      7.000000  362.000000  128.000000   7399.816000\n",
       "max     28.000000  365.000000  210.000000  13037.662000"
      ]
     },
     "execution_count": 35,
     "metadata": {},
     "output_type": "execute_result"
    }
   ],
   "source": [
    "# Drop the outliers by function\n",
    "rfm_data_eda = drop_outlier(df = rfm_data_eda,\n",
    "                            columns = ['Recency','Tenure','Frequency','Monetary'])\n",
    "\n",
    "# Data validation\n",
    "print('Shape of EDA data :', rfm_data_eda.shape)\n",
    "rfm_data_eda.describe()"
   ]
  },
  {
   "cell_type": "code",
   "execution_count": 36,
   "metadata": {},
   "outputs": [
    {
     "data": {
      "image/png": "[encoded data removed]",
      "text/plain": [
       "<Figure size 640x480 with 1 Axes>"
      ]
     },
     "metadata": {},
     "output_type": "display_data"
    },
    {
     "data": {
      "image/png": "[encoded data removed]",
      "text/plain": [
       "<Figure size 640x480 with 1 Axes>"
      ]
     },
     "metadata": {},
     "output_type": "display_data"
    },
    {
     "data": {
      "image/png": "[encoded data removed]",
      "text/plain": [
       "<Figure size 640x480 with 1 Axes>"
      ]
     },
     "metadata": {},
     "output_type": "display_data"
    },
    {
     "data": {
      "image/png": "[encoded data removed]",
      "text/plain": [
       "<Figure size 640x480 with 1 Axes>"
      ]
     },
     "metadata": {},
     "output_type": "display_data"
    }
   ],
   "source": [
    "# Try to plot the distribution\n",
    "for col in rfm_data_eda.columns:\n",
    "    x = rfm_data_eda[col]\n",
    "    sns.histplot(x)\n",
    "    plt.title(col)\n",
    "    plt.show()"
   ]
  },
  {
   "cell_type": "markdown",
   "metadata": {},
   "source": [
    "# 5. Data Preprocessing"
   ]
  },
  {
   "cell_type": "markdown",
   "metadata": {},
   "source": [
    "The preprocess data is following the plan from previous EDA\n",
    "\n",
    "1. Remove missing value from `Customer_ID`\n",
    "2. Convert data to RFM + TS data\n",
    "3. Remove `Frequency < 2`\n",
    "4. Remove `Recency`, `Tenure`, `Monetary`, `Frequency` outlier\n",
    "5. Normalize the data (using Min-Max)"
   ]
  },
  {
   "cell_type": "markdown",
   "metadata": {},
   "source": [
    "#### Preprocess Raw Data"
   ]
  },
  {
   "cell_type": "code",
   "execution_count": 37,
   "metadata": {},
   "outputs": [],
   "source": [
    "# Create function to preprocess data\n",
    "def preprocess_dataraw(df):\n",
    "    \"\"\"\n",
    "    Function to preprocess data to RFM data\n",
    "\n",
    "    Parameters\n",
    "    ----------\n",
    "    df : pandas DataFrame\n",
    "        Raw data\n",
    "    \n",
    "    Returns\n",
    "    -------\n",
    "    rfm_data : pandas DataFrame\n",
    "        The RFM dataset\n",
    "    \"\"\"\n",
    "    # Drop missing values in `Customer_ID`\n",
    "    raw_data = df[~df['Customer_ID'].isna()]\n",
    "\n",
    "    # Generate RFM dataset\n",
    "    rfm_data = retrieve_rfmts(df = raw_data)\n",
    "\n",
    "    # Create RFM data validation\n",
    "    print(\"Shape of data shape :\", rfm_data.shape)\n",
    "    assert rfm_data.shape[0] == len(set(raw_data['Customer_ID']))\n",
    "\n",
    "    return rfm_data"
   ]
  },
  {
   "cell_type": "code",
   "execution_count": 38,
   "metadata": {},
   "outputs": [
    {
     "name": "stdout",
     "output_type": "stream",
     "text": [
      "Shape of data shape : (881, 4)\n"
     ]
    },
    {
     "data": {
      "text/html": [
       "<div>\n",
       "<style scoped>\n",
       "    .dataframe tbody tr th:only-of-type {\n",
       "        vertical-align: middle;\n",
       "    }\n",
       "\n",
       "    .dataframe tbody tr th {\n",
       "        vertical-align: top;\n",
       "    }\n",
       "\n",
       "    .dataframe thead th {\n",
       "        text-align: right;\n",
       "    }\n",
       "</style>\n",
       "<table border=\"1\" class=\"dataframe\">\n",
       "  <thead>\n",
       "    <tr style=\"text-align: right;\">\n",
       "      <th></th>\n",
       "      <th>Recency</th>\n",
       "      <th>Tenure</th>\n",
       "      <th>Frequency</th>\n",
       "      <th>Monetary</th>\n",
       "    </tr>\n",
       "    <tr>\n",
       "      <th>Customer_ID</th>\n",
       "      <th></th>\n",
       "      <th></th>\n",
       "      <th></th>\n",
       "      <th></th>\n",
       "    </tr>\n",
       "  </thead>\n",
       "  <tbody>\n",
       "    <tr>\n",
       "      <th>504308</th>\n",
       "      <td>1</td>\n",
       "      <td>362</td>\n",
       "      <td>450</td>\n",
       "      <td>25499.332</td>\n",
       "    </tr>\n",
       "    <tr>\n",
       "      <th>504309</th>\n",
       "      <td>40</td>\n",
       "      <td>322</td>\n",
       "      <td>10</td>\n",
       "      <td>892.388</td>\n",
       "    </tr>\n",
       "    <tr>\n",
       "      <th>504310</th>\n",
       "      <td>4</td>\n",
       "      <td>288</td>\n",
       "      <td>8</td>\n",
       "      <td>682.436</td>\n",
       "    </tr>\n",
       "    <tr>\n",
       "      <th>504311</th>\n",
       "      <td>33</td>\n",
       "      <td>290</td>\n",
       "      <td>9</td>\n",
       "      <td>736.446</td>\n",
       "    </tr>\n",
       "    <tr>\n",
       "      <th>504312</th>\n",
       "      <td>11</td>\n",
       "      <td>220</td>\n",
       "      <td>5</td>\n",
       "      <td>54.155</td>\n",
       "    </tr>\n",
       "  </tbody>\n",
       "</table>\n",
       "</div>"
      ],
      "text/plain": [
       "             Recency  Tenure  Frequency   Monetary\n",
       "Customer_ID                                       \n",
       "504308             1     362        450  25499.332\n",
       "504309            40     322         10    892.388\n",
       "504310             4     288          8    682.436\n",
       "504311            33     290          9    736.446\n",
       "504312            11     220          5     54.155"
      ]
     },
     "execution_count": 38,
     "metadata": {},
     "output_type": "execute_result"
    }
   ],
   "source": [
    "# Generate RFM DataFrame\n",
    "rfm_data = preprocess_dataraw(df = retail_eda)\n",
    "\n",
    "rfm_data.head()"
   ]
  },
  {
   "cell_type": "markdown",
   "metadata": {},
   "source": [
    "#### Preprocess RFM Dataset"
   ]
  },
  {
   "cell_type": "code",
   "execution_count": 39,
   "metadata": {},
   "outputs": [],
   "source": [
    "def preprocess_rfm_data(rfm_data):\n",
    "    \"\"\"\n",
    "    Function to preprocecc RFM dataset\n",
    "\n",
    "    Parameters\n",
    "    ----------\n",
    "    rfm_data : pandas DataFrame\n",
    "        Sample of RFM data\n",
    "\n",
    "    Returns\n",
    "    -------\n",
    "    clean_df : pandas DataFrame\n",
    "        RFM DataFrame\n",
    "    \"\"\"\n",
    "    # Filter frequency\n",
    "    freq_data = rfm_data[rfm_data['Frequency'] >= 2]\n",
    "\n",
    "    # Drop outliers\n",
    "    clean_df = drop_outlier(df = freq_data,\n",
    "                            columns = ['Recency','Tenure','Frequency','Monetary'])\n",
    "\n",
    "    # Filter data\n",
    "    clean_df = clean_df[['Recency','Frequency','Monetary']] \n",
    "\n",
    "    # Data Validation\n",
    "    print(\"Shape of data:\", clean_df.shape)\n",
    "\n",
    "    return clean_df"
   ]
  },
  {
   "cell_type": "code",
   "execution_count": 40,
   "metadata": {},
   "outputs": [
    {
     "name": "stdout",
     "output_type": "stream",
     "text": [
      "Shape of data: (733, 3)\n"
     ]
    },
    {
     "data": {
      "text/html": [
       "<div>\n",
       "<style scoped>\n",
       "    .dataframe tbody tr th:only-of-type {\n",
       "        vertical-align: middle;\n",
       "    }\n",
       "\n",
       "    .dataframe tbody tr th {\n",
       "        vertical-align: top;\n",
       "    }\n",
       "\n",
       "    .dataframe thead th {\n",
       "        text-align: right;\n",
       "    }\n",
       "</style>\n",
       "<table border=\"1\" class=\"dataframe\">\n",
       "  <thead>\n",
       "    <tr style=\"text-align: right;\">\n",
       "      <th></th>\n",
       "      <th>Recency</th>\n",
       "      <th>Frequency</th>\n",
       "      <th>Monetary</th>\n",
       "    </tr>\n",
       "  </thead>\n",
       "  <tbody>\n",
       "    <tr>\n",
       "      <th>count</th>\n",
       "      <td>733.000000</td>\n",
       "      <td>733.000000</td>\n",
       "      <td>733.000000</td>\n",
       "    </tr>\n",
       "    <tr>\n",
       "      <th>mean</th>\n",
       "      <td>5.038199</td>\n",
       "      <td>85.377899</td>\n",
       "      <td>4944.521000</td>\n",
       "    </tr>\n",
       "    <tr>\n",
       "      <th>std</th>\n",
       "      <td>5.841828</td>\n",
       "      <td>53.359748</td>\n",
       "      <td>3102.858155</td>\n",
       "    </tr>\n",
       "    <tr>\n",
       "      <th>min</th>\n",
       "      <td>0.000000</td>\n",
       "      <td>7.000000</td>\n",
       "      <td>419.437000</td>\n",
       "    </tr>\n",
       "    <tr>\n",
       "      <th>25%</th>\n",
       "      <td>1.000000</td>\n",
       "      <td>39.000000</td>\n",
       "      <td>2203.387000</td>\n",
       "    </tr>\n",
       "    <tr>\n",
       "      <th>50%</th>\n",
       "      <td>3.000000</td>\n",
       "      <td>77.000000</td>\n",
       "      <td>4443.646000</td>\n",
       "    </tr>\n",
       "    <tr>\n",
       "      <th>75%</th>\n",
       "      <td>7.000000</td>\n",
       "      <td>128.000000</td>\n",
       "      <td>7399.816000</td>\n",
       "    </tr>\n",
       "    <tr>\n",
       "      <th>max</th>\n",
       "      <td>28.000000</td>\n",
       "      <td>210.000000</td>\n",
       "      <td>13037.662000</td>\n",
       "    </tr>\n",
       "  </tbody>\n",
       "</table>\n",
       "</div>"
      ],
      "text/plain": [
       "          Recency   Frequency      Monetary\n",
       "count  733.000000  733.000000    733.000000\n",
       "mean     5.038199   85.377899   4944.521000\n",
       "std      5.841828   53.359748   3102.858155\n",
       "min      0.000000    7.000000    419.437000\n",
       "25%      1.000000   39.000000   2203.387000\n",
       "50%      3.000000   77.000000   4443.646000\n",
       "75%      7.000000  128.000000   7399.816000\n",
       "max     28.000000  210.000000  13037.662000"
      ]
     },
     "execution_count": 40,
     "metadata": {},
     "output_type": "execute_result"
    }
   ],
   "source": [
    "# Generate the clean RFM data\n",
    "rfm_clean_data = preprocess_rfm_data(rfm_data = rfm_data)\n",
    "\n",
    "rfm_clean_data.describe()"
   ]
  },
  {
   "cell_type": "markdown",
   "metadata": {},
   "source": [
    "- Outliers has been removed"
   ]
  },
  {
   "cell_type": "markdown",
   "metadata": {},
   "source": [
    "#### Normalize Data"
   ]
  },
  {
   "cell_type": "markdown",
   "metadata": {},
   "source": [
    "|"
   ]
  },
  {
   "cell_type": "code",
   "execution_count": 41,
   "metadata": {},
   "outputs": [],
   "source": [
    "# Fit and transfrom using min-max data because the data distribution isn't normal\n",
    "from sklearn.preprocessing import MinMaxScaler\n",
    "\n",
    "def fit_scaler(df):\n",
    "    \"\"\"\n",
    "    Function to fit data into min-max scaler\n",
    "\n",
    "    Parameters\n",
    "    ----------\n",
    "    df : pandas DataFrame\n",
    "        Sample of RFM Dataset\n",
    "\n",
    "    Returns\n",
    "    -------\n",
    "    scaler : object\n",
    "        Using min-max scaler\n",
    "    \"\"\"\n",
    "    # Fit scaler to data\n",
    "    scaler = MinMaxScaler()\n",
    "    scaler.fit(df)\n",
    "\n",
    "    return scaler\n",
    "\n",
    "def transform_scaler(df, scaler):\n",
    "    \"\"\"\n",
    "    Function to transform data into min-max scaler\n",
    "\n",
    "    Parameters\n",
    "    ----------\n",
    "    df : pandas DataFrame\n",
    "        Sample of RFM Dataset\n",
    "\n",
    "    scaler : object\n",
    "        Using min-max scaler\n",
    "\n",
    "    Returns\n",
    "    -------\n",
    "    clean_df : pandas DataFrame\n",
    "        Data that has been transform\n",
    "\n",
    "    \"\"\"\n",
    "    # Transfrom with scaler\n",
    "    clean_df = pd.DataFrame(scaler.transform(df))\n",
    "    clean_df.index = df.index\n",
    "    clean_df.columns = df.columns\n",
    "\n",
    "    # Data Validation\n",
    "    print(\"Shape of data :\", df.shape)\n",
    "\n",
    "    return clean_df"
   ]
  },
  {
   "cell_type": "code",
   "execution_count": 42,
   "metadata": {},
   "outputs": [
    {
     "name": "stdout",
     "output_type": "stream",
     "text": [
      "Shape of data : (733, 3)\n"
     ]
    },
    {
     "data": {
      "text/html": [
       "<div>\n",
       "<style scoped>\n",
       "    .dataframe tbody tr th:only-of-type {\n",
       "        vertical-align: middle;\n",
       "    }\n",
       "\n",
       "    .dataframe tbody tr th {\n",
       "        vertical-align: top;\n",
       "    }\n",
       "\n",
       "    .dataframe thead th {\n",
       "        text-align: right;\n",
       "    }\n",
       "</style>\n",
       "<table border=\"1\" class=\"dataframe\">\n",
       "  <thead>\n",
       "    <tr style=\"text-align: right;\">\n",
       "      <th></th>\n",
       "      <th>Recency</th>\n",
       "      <th>Frequency</th>\n",
       "      <th>Monetary</th>\n",
       "    </tr>\n",
       "    <tr>\n",
       "      <th>Customer_ID</th>\n",
       "      <th></th>\n",
       "      <th></th>\n",
       "      <th></th>\n",
       "    </tr>\n",
       "  </thead>\n",
       "  <tbody>\n",
       "    <tr>\n",
       "      <th>504316</th>\n",
       "      <td>0.892857</td>\n",
       "      <td>0.009852</td>\n",
       "      <td>0.006133</td>\n",
       "    </tr>\n",
       "    <tr>\n",
       "      <th>504318</th>\n",
       "      <td>0.321429</td>\n",
       "      <td>0.019704</td>\n",
       "      <td>0.021071</td>\n",
       "    </tr>\n",
       "    <tr>\n",
       "      <th>504320</th>\n",
       "      <td>0.607143</td>\n",
       "      <td>0.009852</td>\n",
       "      <td>0.036387</td>\n",
       "    </tr>\n",
       "    <tr>\n",
       "      <th>504330</th>\n",
       "      <td>0.214286</td>\n",
       "      <td>0.004926</td>\n",
       "      <td>0.009863</td>\n",
       "    </tr>\n",
       "    <tr>\n",
       "      <th>504333</th>\n",
       "      <td>0.500000</td>\n",
       "      <td>0.019704</td>\n",
       "      <td>0.038331</td>\n",
       "    </tr>\n",
       "  </tbody>\n",
       "</table>\n",
       "</div>"
      ],
      "text/plain": [
       "              Recency  Frequency  Monetary\n",
       "Customer_ID                               \n",
       "504316       0.892857   0.009852  0.006133\n",
       "504318       0.321429   0.019704  0.021071\n",
       "504320       0.607143   0.009852  0.036387\n",
       "504330       0.214286   0.004926  0.009863\n",
       "504333       0.500000   0.019704  0.038331"
      ]
     },
     "execution_count": 42,
     "metadata": {},
     "output_type": "execute_result"
    }
   ],
   "source": [
    "# Fit scaler to dataset\n",
    "scaler = fit_scaler(df = rfm_clean_data)\n",
    "\n",
    "# Transform data\n",
    "rfm_data_scaled = transform_scaler(df = rfm_clean_data,\n",
    "                                    scaler = scaler)\n",
    "\n",
    "rfm_data_scaled.head()"
   ]
  },
  {
   "cell_type": "code",
   "execution_count": 43,
   "metadata": {},
   "outputs": [
    {
     "data": {
      "text/html": [
       "<div>\n",
       "<style scoped>\n",
       "    .dataframe tbody tr th:only-of-type {\n",
       "        vertical-align: middle;\n",
       "    }\n",
       "\n",
       "    .dataframe tbody tr th {\n",
       "        vertical-align: top;\n",
       "    }\n",
       "\n",
       "    .dataframe thead th {\n",
       "        text-align: right;\n",
       "    }\n",
       "</style>\n",
       "<table border=\"1\" class=\"dataframe\">\n",
       "  <thead>\n",
       "    <tr style=\"text-align: right;\">\n",
       "      <th></th>\n",
       "      <th>Recency</th>\n",
       "      <th>Frequency</th>\n",
       "      <th>Monetary</th>\n",
       "    </tr>\n",
       "  </thead>\n",
       "  <tbody>\n",
       "    <tr>\n",
       "      <th>count</th>\n",
       "      <td>733.000000</td>\n",
       "      <td>733.000000</td>\n",
       "      <td>733.000000</td>\n",
       "    </tr>\n",
       "    <tr>\n",
       "      <th>mean</th>\n",
       "      <td>0.179936</td>\n",
       "      <td>0.386098</td>\n",
       "      <td>0.358615</td>\n",
       "    </tr>\n",
       "    <tr>\n",
       "      <th>std</th>\n",
       "      <td>0.208637</td>\n",
       "      <td>0.262856</td>\n",
       "      <td>0.245903</td>\n",
       "    </tr>\n",
       "    <tr>\n",
       "      <th>min</th>\n",
       "      <td>0.000000</td>\n",
       "      <td>0.000000</td>\n",
       "      <td>0.000000</td>\n",
       "    </tr>\n",
       "    <tr>\n",
       "      <th>25%</th>\n",
       "      <td>0.035714</td>\n",
       "      <td>0.157635</td>\n",
       "      <td>0.141379</td>\n",
       "    </tr>\n",
       "    <tr>\n",
       "      <th>50%</th>\n",
       "      <td>0.107143</td>\n",
       "      <td>0.344828</td>\n",
       "      <td>0.318920</td>\n",
       "    </tr>\n",
       "    <tr>\n",
       "      <th>75%</th>\n",
       "      <td>0.250000</td>\n",
       "      <td>0.596059</td>\n",
       "      <td>0.553198</td>\n",
       "    </tr>\n",
       "    <tr>\n",
       "      <th>max</th>\n",
       "      <td>1.000000</td>\n",
       "      <td>1.000000</td>\n",
       "      <td>1.000000</td>\n",
       "    </tr>\n",
       "  </tbody>\n",
       "</table>\n",
       "</div>"
      ],
      "text/plain": [
       "          Recency   Frequency    Monetary\n",
       "count  733.000000  733.000000  733.000000\n",
       "mean     0.179936    0.386098    0.358615\n",
       "std      0.208637    0.262856    0.245903\n",
       "min      0.000000    0.000000    0.000000\n",
       "25%      0.035714    0.157635    0.141379\n",
       "50%      0.107143    0.344828    0.318920\n",
       "75%      0.250000    0.596059    0.553198\n",
       "max      1.000000    1.000000    1.000000"
      ]
     },
     "execution_count": 43,
     "metadata": {},
     "output_type": "execute_result"
    }
   ],
   "source": [
    "rfm_data_scaled.describe()"
   ]
  },
  {
   "cell_type": "markdown",
   "metadata": {},
   "source": [
    "#### Create Pipeline for Preprocessing Data"
   ]
  },
  {
   "cell_type": "code",
   "execution_count": 44,
   "metadata": {},
   "outputs": [],
   "source": [
    "def preprocess_data(df, scaler=None):\n",
    "    \"\"\"\n",
    "    Pipeline function to preprocess data\n",
    "\n",
    "    Parameters\n",
    "    ----------\n",
    "    df : pandas DataFrame\n",
    "        Raw of dataset\n",
    "\n",
    "    scaler : object, default=None\n",
    "        Min-max scaler for scaling data\n",
    "\n",
    "    Returns\n",
    "    -------\n",
    "    clean_df : pandas DataFrame\n",
    "        The clean dataframe\n",
    "    \"\"\"\n",
    "    # Retrieve the RFM data\n",
    "    rfm_data = preprocess_dataraw(df = df)\n",
    "\n",
    "    # Retrieve the clean dataset\n",
    "    rfm_clean_data = preprocess_rfm_data(rfm_data = rfm_data)\n",
    "\n",
    "    # Normalize data\n",
    "    if scaler is None:\n",
    "        # Create scaler\n",
    "        scaler = fit_scaler(df = rfm_clean_data)\n",
    "\n",
    "    clean_df = transform_scaler(df = rfm_clean_data,\n",
    "                                scaler = scaler)\n",
    "\n",
    "    # Data Validation\n",
    "    print('Shape of clean data :', clean_df.shape)\n",
    "\n",
    "    return clean_df, scaler\n"
   ]
  },
  {
   "cell_type": "code",
   "execution_count": 45,
   "metadata": {},
   "outputs": [
    {
     "name": "stderr",
     "output_type": "stream",
     "text": [
      "C:\\Users\\Axel\\AppData\\Local\\Temp\\ipykernel_17856\\1659154623.py:17: SettingWithCopyWarning: \n",
      "A value is trying to be set on a copy of a slice from a DataFrame.\n",
      "Try using .loc[row_indexer,col_indexer] = value instead\n",
      "\n",
      "See the caveats in the documentation: https://pandas.pydata.org/pandas-docs/stable/user_guide/indexing.html#returning-a-view-versus-a-copy\n",
      "  df[\"Sales\"] = df[\"N_Purchases\"] * df[\"Purchase_VALUE\"]\n"
     ]
    },
    {
     "name": "stdout",
     "output_type": "stream",
     "text": [
      "Shape of data shape : (881, 4)\n",
      "Shape of data: (733, 3)\n",
      "Shape of data : (733, 3)\n",
      "Shape of clean data : (733, 3)\n"
     ]
    }
   ],
   "source": [
    "clean_df, scaler = preprocess_data(df = retail_df)"
   ]
  },
  {
   "cell_type": "code",
   "execution_count": 46,
   "metadata": {},
   "outputs": [
    {
     "data": {
      "text/html": [
       "<div>\n",
       "<style scoped>\n",
       "    .dataframe tbody tr th:only-of-type {\n",
       "        vertical-align: middle;\n",
       "    }\n",
       "\n",
       "    .dataframe tbody tr th {\n",
       "        vertical-align: top;\n",
       "    }\n",
       "\n",
       "    .dataframe thead th {\n",
       "        text-align: right;\n",
       "    }\n",
       "</style>\n",
       "<table border=\"1\" class=\"dataframe\">\n",
       "  <thead>\n",
       "    <tr style=\"text-align: right;\">\n",
       "      <th></th>\n",
       "      <th>Recency</th>\n",
       "      <th>Frequency</th>\n",
       "      <th>Monetary</th>\n",
       "    </tr>\n",
       "    <tr>\n",
       "      <th>Customer_ID</th>\n",
       "      <th></th>\n",
       "      <th></th>\n",
       "      <th></th>\n",
       "    </tr>\n",
       "  </thead>\n",
       "  <tbody>\n",
       "    <tr>\n",
       "      <th>504316</th>\n",
       "      <td>0.892857</td>\n",
       "      <td>0.009852</td>\n",
       "      <td>0.006133</td>\n",
       "    </tr>\n",
       "    <tr>\n",
       "      <th>504318</th>\n",
       "      <td>0.321429</td>\n",
       "      <td>0.019704</td>\n",
       "      <td>0.021071</td>\n",
       "    </tr>\n",
       "    <tr>\n",
       "      <th>504320</th>\n",
       "      <td>0.607143</td>\n",
       "      <td>0.009852</td>\n",
       "      <td>0.036387</td>\n",
       "    </tr>\n",
       "    <tr>\n",
       "      <th>504330</th>\n",
       "      <td>0.214286</td>\n",
       "      <td>0.004926</td>\n",
       "      <td>0.009863</td>\n",
       "    </tr>\n",
       "    <tr>\n",
       "      <th>504333</th>\n",
       "      <td>0.500000</td>\n",
       "      <td>0.019704</td>\n",
       "      <td>0.038331</td>\n",
       "    </tr>\n",
       "  </tbody>\n",
       "</table>\n",
       "</div>"
      ],
      "text/plain": [
       "              Recency  Frequency  Monetary\n",
       "Customer_ID                               \n",
       "504316       0.892857   0.009852  0.006133\n",
       "504318       0.321429   0.019704  0.021071\n",
       "504320       0.607143   0.009852  0.036387\n",
       "504330       0.214286   0.004926  0.009863\n",
       "504333       0.500000   0.019704  0.038331"
      ]
     },
     "execution_count": 46,
     "metadata": {},
     "output_type": "execute_result"
    }
   ],
   "source": [
    "clean_df.head()"
   ]
  },
  {
   "cell_type": "code",
   "execution_count": 47,
   "metadata": {},
   "outputs": [
    {
     "data": {
      "text/html": [
       "<div>\n",
       "<style scoped>\n",
       "    .dataframe tbody tr th:only-of-type {\n",
       "        vertical-align: middle;\n",
       "    }\n",
       "\n",
       "    .dataframe tbody tr th {\n",
       "        vertical-align: top;\n",
       "    }\n",
       "\n",
       "    .dataframe thead th {\n",
       "        text-align: right;\n",
       "    }\n",
       "</style>\n",
       "<table border=\"1\" class=\"dataframe\">\n",
       "  <thead>\n",
       "    <tr style=\"text-align: right;\">\n",
       "      <th></th>\n",
       "      <th>Recency</th>\n",
       "      <th>Frequency</th>\n",
       "      <th>Monetary</th>\n",
       "    </tr>\n",
       "  </thead>\n",
       "  <tbody>\n",
       "    <tr>\n",
       "      <th>count</th>\n",
       "      <td>733.000000</td>\n",
       "      <td>733.000000</td>\n",
       "      <td>733.000000</td>\n",
       "    </tr>\n",
       "    <tr>\n",
       "      <th>mean</th>\n",
       "      <td>0.179936</td>\n",
       "      <td>0.386098</td>\n",
       "      <td>0.358615</td>\n",
       "    </tr>\n",
       "    <tr>\n",
       "      <th>std</th>\n",
       "      <td>0.208637</td>\n",
       "      <td>0.262856</td>\n",
       "      <td>0.245903</td>\n",
       "    </tr>\n",
       "    <tr>\n",
       "      <th>min</th>\n",
       "      <td>0.000000</td>\n",
       "      <td>0.000000</td>\n",
       "      <td>0.000000</td>\n",
       "    </tr>\n",
       "    <tr>\n",
       "      <th>25%</th>\n",
       "      <td>0.035714</td>\n",
       "      <td>0.157635</td>\n",
       "      <td>0.141379</td>\n",
       "    </tr>\n",
       "    <tr>\n",
       "      <th>50%</th>\n",
       "      <td>0.107143</td>\n",
       "      <td>0.344828</td>\n",
       "      <td>0.318920</td>\n",
       "    </tr>\n",
       "    <tr>\n",
       "      <th>75%</th>\n",
       "      <td>0.250000</td>\n",
       "      <td>0.596059</td>\n",
       "      <td>0.553198</td>\n",
       "    </tr>\n",
       "    <tr>\n",
       "      <th>max</th>\n",
       "      <td>1.000000</td>\n",
       "      <td>1.000000</td>\n",
       "      <td>1.000000</td>\n",
       "    </tr>\n",
       "  </tbody>\n",
       "</table>\n",
       "</div>"
      ],
      "text/plain": [
       "          Recency   Frequency    Monetary\n",
       "count  733.000000  733.000000  733.000000\n",
       "mean     0.179936    0.386098    0.358615\n",
       "std      0.208637    0.262856    0.245903\n",
       "min      0.000000    0.000000    0.000000\n",
       "25%      0.035714    0.157635    0.141379\n",
       "50%      0.107143    0.344828    0.318920\n",
       "75%      0.250000    0.596059    0.553198\n",
       "max      1.000000    1.000000    1.000000"
      ]
     },
     "execution_count": 47,
     "metadata": {},
     "output_type": "execute_result"
    }
   ],
   "source": [
    "clean_df.describe()"
   ]
  },
  {
   "cell_type": "markdown",
   "metadata": {},
   "source": [
    "# 6 Clustering"
   ]
  },
  {
   "cell_type": "markdown",
   "metadata": {},
   "source": [
    "**Approch** \n",
    "\n",
    "In this study, we will used to approach:\n",
    "- Ranking Method\n",
    "- K-Means clustering"
   ]
  },
  {
   "cell_type": "markdown",
   "metadata": {},
   "source": [
    "#### Ranking Method"
   ]
  },
  {
   "cell_type": "code",
   "execution_count": 48,
   "metadata": {},
   "outputs": [],
   "source": [
    "# Copy dataset firsts\n",
    "df_bin = clean_df.copy()"
   ]
  },
  {
   "cell_type": "markdown",
   "metadata": {},
   "source": [
    "We should determine how many bins that want to be plotted in data. The numbers of bin determine by the business resource and needs to treat the cluster. This method is performed by Arthur Hughes that each bin of the three RFM attributes independently into **five** equal bins "
   ]
  },
  {
   "cell_type": "code",
   "execution_count": 49,
   "metadata": {},
   "outputs": [],
   "source": [
    "def rfm_binning(df):\n",
    "    \"\"\"\n",
    "    Function to devided the data into several binning and ranking the bin\n",
    "\n",
    "    Parameters\n",
    "    ---------\n",
    "    df : pandas DataFrame\n",
    "        Input to binning method (DataFrame)\n",
    "\n",
    "    Returns\n",
    "    -------\n",
    "    df : pandas DataFrame\n",
    "        Output of binning method\n",
    "    \"\"\"\n",
    "    # Calculate the quantile of each variable \n",
    "    quant = df.quantile(q=[0.2,0.4,0.6,0.8])\n",
    "\n",
    "    # Create bin base on variable\n",
    "    r_bins = [-np.inf] + list(quant['Recency']) + [np.inf]\n",
    "    f_bins = [-np.inf] + list(quant['Frequency']) + [np.inf]\n",
    "    m_bins = [-np.inf] + list(quant['Monetary']) + [np.inf]\n",
    "\n",
    "    # Create label for bins\n",
    "    labels = [1, 2, 3, 4, 5]\n",
    "\n",
    "    # Label for Recency (Lower Recency, Higher Ranking)\n",
    "    labels_r = [5, 4, 3, 2, 1]\n",
    "\n",
    "    # Create bin into 5 groups\n",
    "    df['R_Group'] = pd.cut(df['Recency'], bins=r_bins, labels=labels_r).astype(int)\n",
    "    df['F_Group'] = pd.cut(df['Frequency'], bins=f_bins, labels=labels).astype(int)\n",
    "    df['M_Group'] = pd.cut(df['Monetary'], bins=m_bins, labels=labels).astype(int)\n",
    "\n",
    "    # RFM Score average\n",
    "    df['RFM_Score'] = np.round((df['R_Group']+df['F_Group']+df['M_Group'])/3,2)\n",
    "\n",
    "    return df"
   ]
  },
  {
   "cell_type": "code",
   "execution_count": 50,
   "metadata": {},
   "outputs": [],
   "source": [
    "# Devide data into bin\n",
    "df_bin = rfm_binning(df_bin)"
   ]
  },
  {
   "cell_type": "code",
   "execution_count": 51,
   "metadata": {},
   "outputs": [
    {
     "data": {
      "text/html": [
       "<div>\n",
       "<style scoped>\n",
       "    .dataframe tbody tr th:only-of-type {\n",
       "        vertical-align: middle;\n",
       "    }\n",
       "\n",
       "    .dataframe tbody tr th {\n",
       "        vertical-align: top;\n",
       "    }\n",
       "\n",
       "    .dataframe thead th {\n",
       "        text-align: right;\n",
       "    }\n",
       "</style>\n",
       "<table border=\"1\" class=\"dataframe\">\n",
       "  <thead>\n",
       "    <tr style=\"text-align: right;\">\n",
       "      <th></th>\n",
       "      <th>Recency</th>\n",
       "      <th>Frequency</th>\n",
       "      <th>Monetary</th>\n",
       "      <th>R_Group</th>\n",
       "      <th>F_Group</th>\n",
       "      <th>M_Group</th>\n",
       "      <th>RFM_Score</th>\n",
       "    </tr>\n",
       "    <tr>\n",
       "      <th>Customer_ID</th>\n",
       "      <th></th>\n",
       "      <th></th>\n",
       "      <th></th>\n",
       "      <th></th>\n",
       "      <th></th>\n",
       "      <th></th>\n",
       "      <th></th>\n",
       "    </tr>\n",
       "  </thead>\n",
       "  <tbody>\n",
       "    <tr>\n",
       "      <th>504316</th>\n",
       "      <td>0.892857</td>\n",
       "      <td>0.009852</td>\n",
       "      <td>0.006133</td>\n",
       "      <td>1</td>\n",
       "      <td>1</td>\n",
       "      <td>1</td>\n",
       "      <td>1.00</td>\n",
       "    </tr>\n",
       "    <tr>\n",
       "      <th>504318</th>\n",
       "      <td>0.321429</td>\n",
       "      <td>0.019704</td>\n",
       "      <td>0.021071</td>\n",
       "      <td>2</td>\n",
       "      <td>1</td>\n",
       "      <td>1</td>\n",
       "      <td>1.33</td>\n",
       "    </tr>\n",
       "    <tr>\n",
       "      <th>504320</th>\n",
       "      <td>0.607143</td>\n",
       "      <td>0.009852</td>\n",
       "      <td>0.036387</td>\n",
       "      <td>1</td>\n",
       "      <td>1</td>\n",
       "      <td>1</td>\n",
       "      <td>1.00</td>\n",
       "    </tr>\n",
       "    <tr>\n",
       "      <th>504330</th>\n",
       "      <td>0.214286</td>\n",
       "      <td>0.004926</td>\n",
       "      <td>0.009863</td>\n",
       "      <td>2</td>\n",
       "      <td>1</td>\n",
       "      <td>1</td>\n",
       "      <td>1.33</td>\n",
       "    </tr>\n",
       "    <tr>\n",
       "      <th>504333</th>\n",
       "      <td>0.500000</td>\n",
       "      <td>0.019704</td>\n",
       "      <td>0.038331</td>\n",
       "      <td>1</td>\n",
       "      <td>1</td>\n",
       "      <td>1</td>\n",
       "      <td>1.00</td>\n",
       "    </tr>\n",
       "  </tbody>\n",
       "</table>\n",
       "</div>"
      ],
      "text/plain": [
       "              Recency  Frequency  Monetary  R_Group  F_Group  M_Group  \\\n",
       "Customer_ID                                                             \n",
       "504316       0.892857   0.009852  0.006133        1        1        1   \n",
       "504318       0.321429   0.019704  0.021071        2        1        1   \n",
       "504320       0.607143   0.009852  0.036387        1        1        1   \n",
       "504330       0.214286   0.004926  0.009863        2        1        1   \n",
       "504333       0.500000   0.019704  0.038331        1        1        1   \n",
       "\n",
       "             RFM_Score  \n",
       "Customer_ID             \n",
       "504316            1.00  \n",
       "504318            1.33  \n",
       "504320            1.00  \n",
       "504330            1.33  \n",
       "504333            1.00  "
      ]
     },
     "execution_count": 51,
     "metadata": {},
     "output_type": "execute_result"
    }
   ],
   "source": [
    "# Check the data output\n",
    "df_bin.head()"
   ]
  },
  {
   "cell_type": "code",
   "execution_count": 53,
   "metadata": {},
   "outputs": [
    {
     "data": {
      "text/plain": [
       "Recency      float64\n",
       "Frequency    float64\n",
       "Monetary     float64\n",
       "R_Group        int32\n",
       "F_Group        int32\n",
       "M_Group        int32\n",
       "RFM_Score    float64\n",
       "dtype: object"
      ]
     },
     "execution_count": 53,
     "metadata": {},
     "output_type": "execute_result"
    }
   ],
   "source": [
    "# Check the data type\n",
    "df_bin.dtypes"
   ]
  },
  {
   "cell_type": "code",
   "execution_count": 54,
   "metadata": {},
   "outputs": [
    {
     "data": {
      "text/html": [
       "<div>\n",
       "<style scoped>\n",
       "    .dataframe tbody tr th:only-of-type {\n",
       "        vertical-align: middle;\n",
       "    }\n",
       "\n",
       "    .dataframe tbody tr th {\n",
       "        vertical-align: top;\n",
       "    }\n",
       "\n",
       "    .dataframe thead th {\n",
       "        text-align: right;\n",
       "    }\n",
       "</style>\n",
       "<table border=\"1\" class=\"dataframe\">\n",
       "  <thead>\n",
       "    <tr style=\"text-align: right;\">\n",
       "      <th></th>\n",
       "      <th>Recency</th>\n",
       "      <th>Frequency</th>\n",
       "      <th>Monetary</th>\n",
       "      <th>R_Group</th>\n",
       "      <th>F_Group</th>\n",
       "      <th>M_Group</th>\n",
       "      <th>RFM_Score</th>\n",
       "    </tr>\n",
       "  </thead>\n",
       "  <tbody>\n",
       "    <tr>\n",
       "      <th>count</th>\n",
       "      <td>733.000000</td>\n",
       "      <td>733.000000</td>\n",
       "      <td>733.000000</td>\n",
       "      <td>733.000000</td>\n",
       "      <td>733.000000</td>\n",
       "      <td>733.000000</td>\n",
       "      <td>733.000000</td>\n",
       "    </tr>\n",
       "    <tr>\n",
       "      <th>mean</th>\n",
       "      <td>0.179936</td>\n",
       "      <td>0.386098</td>\n",
       "      <td>0.358615</td>\n",
       "      <td>3.130969</td>\n",
       "      <td>2.989086</td>\n",
       "      <td>3.000000</td>\n",
       "      <td>3.040136</td>\n",
       "    </tr>\n",
       "    <tr>\n",
       "      <th>std</th>\n",
       "      <td>0.208637</td>\n",
       "      <td>0.262856</td>\n",
       "      <td>0.245903</td>\n",
       "      <td>1.421645</td>\n",
       "      <td>1.418993</td>\n",
       "      <td>1.416144</td>\n",
       "      <td>1.259945</td>\n",
       "    </tr>\n",
       "    <tr>\n",
       "      <th>min</th>\n",
       "      <td>0.000000</td>\n",
       "      <td>0.000000</td>\n",
       "      <td>0.000000</td>\n",
       "      <td>1.000000</td>\n",
       "      <td>1.000000</td>\n",
       "      <td>1.000000</td>\n",
       "      <td>1.000000</td>\n",
       "    </tr>\n",
       "    <tr>\n",
       "      <th>25%</th>\n",
       "      <td>0.035714</td>\n",
       "      <td>0.157635</td>\n",
       "      <td>0.141379</td>\n",
       "      <td>2.000000</td>\n",
       "      <td>2.000000</td>\n",
       "      <td>2.000000</td>\n",
       "      <td>2.000000</td>\n",
       "    </tr>\n",
       "    <tr>\n",
       "      <th>50%</th>\n",
       "      <td>0.107143</td>\n",
       "      <td>0.344828</td>\n",
       "      <td>0.318920</td>\n",
       "      <td>3.000000</td>\n",
       "      <td>3.000000</td>\n",
       "      <td>3.000000</td>\n",
       "      <td>3.330000</td>\n",
       "    </tr>\n",
       "    <tr>\n",
       "      <th>75%</th>\n",
       "      <td>0.250000</td>\n",
       "      <td>0.596059</td>\n",
       "      <td>0.553198</td>\n",
       "      <td>4.000000</td>\n",
       "      <td>4.000000</td>\n",
       "      <td>4.000000</td>\n",
       "      <td>4.000000</td>\n",
       "    </tr>\n",
       "    <tr>\n",
       "      <th>max</th>\n",
       "      <td>1.000000</td>\n",
       "      <td>1.000000</td>\n",
       "      <td>1.000000</td>\n",
       "      <td>5.000000</td>\n",
       "      <td>5.000000</td>\n",
       "      <td>5.000000</td>\n",
       "      <td>5.000000</td>\n",
       "    </tr>\n",
       "  </tbody>\n",
       "</table>\n",
       "</div>"
      ],
      "text/plain": [
       "          Recency   Frequency    Monetary     R_Group     F_Group     M_Group  \\\n",
       "count  733.000000  733.000000  733.000000  733.000000  733.000000  733.000000   \n",
       "mean     0.179936    0.386098    0.358615    3.130969    2.989086    3.000000   \n",
       "std      0.208637    0.262856    0.245903    1.421645    1.418993    1.416144   \n",
       "min      0.000000    0.000000    0.000000    1.000000    1.000000    1.000000   \n",
       "25%      0.035714    0.157635    0.141379    2.000000    2.000000    2.000000   \n",
       "50%      0.107143    0.344828    0.318920    3.000000    3.000000    3.000000   \n",
       "75%      0.250000    0.596059    0.553198    4.000000    4.000000    4.000000   \n",
       "max      1.000000    1.000000    1.000000    5.000000    5.000000    5.000000   \n",
       "\n",
       "        RFM_Score  \n",
       "count  733.000000  \n",
       "mean     3.040136  \n",
       "std      1.259945  \n",
       "min      1.000000  \n",
       "25%      2.000000  \n",
       "50%      3.330000  \n",
       "75%      4.000000  \n",
       "max      5.000000  "
      ]
     },
     "execution_count": 54,
     "metadata": {},
     "output_type": "execute_result"
    }
   ],
   "source": [
    "# Check the statistic descriptive stats\n",
    "df_bin.describe()"
   ]
  },
  {
   "cell_type": "markdown",
   "metadata": {},
   "source": [
    "- For RFM score 0-1 will be assigned as Dissatisfied Customers\n",
    "- For RFM score 1-2 will be assigned as Sporadic Shoppers\n",
    "- For RFM score 2-3 will be assigned as Deal-Driven Shoppers\n",
    "- For RFM score 3-4 will be assigned as Loyal Consumers\n",
    "- For RFM score 4-5 will be assigned as Enthusiastic Shoppers"
   ]
  },
  {
   "cell_type": "code",
   "execution_count": 56,
   "metadata": {},
   "outputs": [],
   "source": [
    "def assign_segmentation(df_rfm):\n",
    "    \"\"\"\n",
    "    Function to assign RFM_Score to each segment\n",
    "\n",
    "    Parameters\n",
    "    ----------\n",
    "    df_rfm : pandas DataFrame\n",
    "        Binned and preprocessed rfm dataframe\n",
    "    \n",
    "    Returns\n",
    "    -------\n",
    "    df_rfm : pandas DataFrame\n",
    "        Rfm dataframe that have been segmented by name\n",
    "  \n",
    "    \"\"\"\n",
    "    # Assign name of each segment\n",
    "    labels = ['Dissatisfied Customers', 'Sporadic Shoppers', \n",
    "              'Deal-Driven Shoppers', 'Loyal Consumers', \n",
    "              'Enthusiastic Shoppers']\n",
    "    \n",
    "    df_rfm['Segment'] = pd.cut(df_rfm['RFM_Score'],\n",
    "                                bins = [0, 1, 2, 3, 4, 5],\n",
    "                                labels = labels)\n",
    "    \n",
    "    return df_rfm"
   ]
  },
  {
   "cell_type": "code",
   "execution_count": 57,
   "metadata": {},
   "outputs": [],
   "source": [
    "# Create labels bins\n",
    "df_bin = assign_segmentation(df_bin)"
   ]
  },
  {
   "cell_type": "code",
   "execution_count": 61,
   "metadata": {},
   "outputs": [
    {
     "data": {
      "text/html": [
       "<div>\n",
       "<style scoped>\n",
       "    .dataframe tbody tr th:only-of-type {\n",
       "        vertical-align: middle;\n",
       "    }\n",
       "\n",
       "    .dataframe tbody tr th {\n",
       "        vertical-align: top;\n",
       "    }\n",
       "\n",
       "    .dataframe thead th {\n",
       "        text-align: right;\n",
       "    }\n",
       "</style>\n",
       "<table border=\"1\" class=\"dataframe\">\n",
       "  <thead>\n",
       "    <tr style=\"text-align: right;\">\n",
       "      <th></th>\n",
       "      <th>Recency</th>\n",
       "      <th>Frequency</th>\n",
       "      <th>Monetary</th>\n",
       "      <th>R_Group</th>\n",
       "      <th>F_Group</th>\n",
       "      <th>M_Group</th>\n",
       "      <th>RFM_Score</th>\n",
       "      <th>Segment</th>\n",
       "    </tr>\n",
       "    <tr>\n",
       "      <th>Customer_ID</th>\n",
       "      <th></th>\n",
       "      <th></th>\n",
       "      <th></th>\n",
       "      <th></th>\n",
       "      <th></th>\n",
       "      <th></th>\n",
       "      <th></th>\n",
       "      <th></th>\n",
       "    </tr>\n",
       "  </thead>\n",
       "  <tbody>\n",
       "    <tr>\n",
       "      <th>504316</th>\n",
       "      <td>0.892857</td>\n",
       "      <td>0.009852</td>\n",
       "      <td>0.006133</td>\n",
       "      <td>1</td>\n",
       "      <td>1</td>\n",
       "      <td>1</td>\n",
       "      <td>1.00</td>\n",
       "      <td>Dissatisfied Customers</td>\n",
       "    </tr>\n",
       "    <tr>\n",
       "      <th>504318</th>\n",
       "      <td>0.321429</td>\n",
       "      <td>0.019704</td>\n",
       "      <td>0.021071</td>\n",
       "      <td>2</td>\n",
       "      <td>1</td>\n",
       "      <td>1</td>\n",
       "      <td>1.33</td>\n",
       "      <td>Sporadic Shoppers</td>\n",
       "    </tr>\n",
       "    <tr>\n",
       "      <th>504320</th>\n",
       "      <td>0.607143</td>\n",
       "      <td>0.009852</td>\n",
       "      <td>0.036387</td>\n",
       "      <td>1</td>\n",
       "      <td>1</td>\n",
       "      <td>1</td>\n",
       "      <td>1.00</td>\n",
       "      <td>Dissatisfied Customers</td>\n",
       "    </tr>\n",
       "    <tr>\n",
       "      <th>504330</th>\n",
       "      <td>0.214286</td>\n",
       "      <td>0.004926</td>\n",
       "      <td>0.009863</td>\n",
       "      <td>2</td>\n",
       "      <td>1</td>\n",
       "      <td>1</td>\n",
       "      <td>1.33</td>\n",
       "      <td>Sporadic Shoppers</td>\n",
       "    </tr>\n",
       "    <tr>\n",
       "      <th>504333</th>\n",
       "      <td>0.500000</td>\n",
       "      <td>0.019704</td>\n",
       "      <td>0.038331</td>\n",
       "      <td>1</td>\n",
       "      <td>1</td>\n",
       "      <td>1</td>\n",
       "      <td>1.00</td>\n",
       "      <td>Dissatisfied Customers</td>\n",
       "    </tr>\n",
       "  </tbody>\n",
       "</table>\n",
       "</div>"
      ],
      "text/plain": [
       "              Recency  Frequency  Monetary  R_Group  F_Group  M_Group  \\\n",
       "Customer_ID                                                             \n",
       "504316       0.892857   0.009852  0.006133        1        1        1   \n",
       "504318       0.321429   0.019704  0.021071        2        1        1   \n",
       "504320       0.607143   0.009852  0.036387        1        1        1   \n",
       "504330       0.214286   0.004926  0.009863        2        1        1   \n",
       "504333       0.500000   0.019704  0.038331        1        1        1   \n",
       "\n",
       "             RFM_Score                 Segment  \n",
       "Customer_ID                                     \n",
       "504316            1.00  Dissatisfied Customers  \n",
       "504318            1.33       Sporadic Shoppers  \n",
       "504320            1.00  Dissatisfied Customers  \n",
       "504330            1.33       Sporadic Shoppers  \n",
       "504333            1.00  Dissatisfied Customers  "
      ]
     },
     "execution_count": 61,
     "metadata": {},
     "output_type": "execute_result"
    }
   ],
   "source": [
    "# Check the dataset\n",
    "df_bin.head()"
   ]
  },
  {
   "cell_type": "code",
   "execution_count": 62,
   "metadata": {},
   "outputs": [
    {
     "data": {
      "text/html": [
       "<div>\n",
       "<style scoped>\n",
       "    .dataframe tbody tr th:only-of-type {\n",
       "        vertical-align: middle;\n",
       "    }\n",
       "\n",
       "    .dataframe tbody tr th {\n",
       "        vertical-align: top;\n",
       "    }\n",
       "\n",
       "    .dataframe thead th {\n",
       "        text-align: right;\n",
       "    }\n",
       "</style>\n",
       "<table border=\"1\" class=\"dataframe\">\n",
       "  <thead>\n",
       "    <tr style=\"text-align: right;\">\n",
       "      <th></th>\n",
       "      <th>Recency</th>\n",
       "      <th>Frequency</th>\n",
       "      <th>Monetary</th>\n",
       "      <th>R_Group</th>\n",
       "      <th>F_Group</th>\n",
       "      <th>M_Group</th>\n",
       "      <th>RFM_Score</th>\n",
       "      <th>Segment</th>\n",
       "    </tr>\n",
       "    <tr>\n",
       "      <th>Customer_ID</th>\n",
       "      <th></th>\n",
       "      <th></th>\n",
       "      <th></th>\n",
       "      <th></th>\n",
       "      <th></th>\n",
       "      <th></th>\n",
       "      <th></th>\n",
       "      <th></th>\n",
       "    </tr>\n",
       "  </thead>\n",
       "  <tbody>\n",
       "    <tr>\n",
       "      <th>504855</th>\n",
       "      <td>0.000000</td>\n",
       "      <td>0.487685</td>\n",
       "      <td>0.526709</td>\n",
       "      <td>5</td>\n",
       "      <td>4</td>\n",
       "      <td>4</td>\n",
       "      <td>4.33</td>\n",
       "      <td>Enthusiastic Shoppers</td>\n",
       "    </tr>\n",
       "    <tr>\n",
       "      <th>504874</th>\n",
       "      <td>0.000000</td>\n",
       "      <td>0.453202</td>\n",
       "      <td>0.410400</td>\n",
       "      <td>5</td>\n",
       "      <td>4</td>\n",
       "      <td>4</td>\n",
       "      <td>4.33</td>\n",
       "      <td>Enthusiastic Shoppers</td>\n",
       "    </tr>\n",
       "    <tr>\n",
       "      <th>504891</th>\n",
       "      <td>0.000000</td>\n",
       "      <td>0.458128</td>\n",
       "      <td>0.439347</td>\n",
       "      <td>5</td>\n",
       "      <td>4</td>\n",
       "      <td>4</td>\n",
       "      <td>4.33</td>\n",
       "      <td>Enthusiastic Shoppers</td>\n",
       "    </tr>\n",
       "    <tr>\n",
       "      <th>504897</th>\n",
       "      <td>0.000000</td>\n",
       "      <td>0.497537</td>\n",
       "      <td>0.494799</td>\n",
       "      <td>5</td>\n",
       "      <td>4</td>\n",
       "      <td>4</td>\n",
       "      <td>4.33</td>\n",
       "      <td>Enthusiastic Shoppers</td>\n",
       "    </tr>\n",
       "    <tr>\n",
       "      <th>504912</th>\n",
       "      <td>0.000000</td>\n",
       "      <td>0.492611</td>\n",
       "      <td>0.413973</td>\n",
       "      <td>5</td>\n",
       "      <td>4</td>\n",
       "      <td>4</td>\n",
       "      <td>4.33</td>\n",
       "      <td>Enthusiastic Shoppers</td>\n",
       "    </tr>\n",
       "    <tr>\n",
       "      <th>...</th>\n",
       "      <td>...</td>\n",
       "      <td>...</td>\n",
       "      <td>...</td>\n",
       "      <td>...</td>\n",
       "      <td>...</td>\n",
       "      <td>...</td>\n",
       "      <td>...</td>\n",
       "      <td>...</td>\n",
       "    </tr>\n",
       "    <tr>\n",
       "      <th>505183</th>\n",
       "      <td>0.035714</td>\n",
       "      <td>0.822660</td>\n",
       "      <td>0.783538</td>\n",
       "      <td>4</td>\n",
       "      <td>5</td>\n",
       "      <td>5</td>\n",
       "      <td>4.67</td>\n",
       "      <td>Enthusiastic Shoppers</td>\n",
       "    </tr>\n",
       "    <tr>\n",
       "      <th>505184</th>\n",
       "      <td>0.142857</td>\n",
       "      <td>0.940887</td>\n",
       "      <td>0.874406</td>\n",
       "      <td>3</td>\n",
       "      <td>5</td>\n",
       "      <td>5</td>\n",
       "      <td>4.33</td>\n",
       "      <td>Enthusiastic Shoppers</td>\n",
       "    </tr>\n",
       "    <tr>\n",
       "      <th>505185</th>\n",
       "      <td>0.107143</td>\n",
       "      <td>0.881773</td>\n",
       "      <td>0.867865</td>\n",
       "      <td>3</td>\n",
       "      <td>5</td>\n",
       "      <td>5</td>\n",
       "      <td>4.33</td>\n",
       "      <td>Enthusiastic Shoppers</td>\n",
       "    </tr>\n",
       "    <tr>\n",
       "      <th>505186</th>\n",
       "      <td>0.071429</td>\n",
       "      <td>0.935961</td>\n",
       "      <td>0.852887</td>\n",
       "      <td>4</td>\n",
       "      <td>5</td>\n",
       "      <td>5</td>\n",
       "      <td>4.67</td>\n",
       "      <td>Enthusiastic Shoppers</td>\n",
       "    </tr>\n",
       "    <tr>\n",
       "      <th>505187</th>\n",
       "      <td>0.000000</td>\n",
       "      <td>0.871921</td>\n",
       "      <td>0.800996</td>\n",
       "      <td>5</td>\n",
       "      <td>5</td>\n",
       "      <td>5</td>\n",
       "      <td>5.00</td>\n",
       "      <td>Enthusiastic Shoppers</td>\n",
       "    </tr>\n",
       "  </tbody>\n",
       "</table>\n",
       "<p>175 rows × 8 columns</p>\n",
       "</div>"
      ],
      "text/plain": [
       "              Recency  Frequency  Monetary  R_Group  F_Group  M_Group  \\\n",
       "Customer_ID                                                             \n",
       "504855       0.000000   0.487685  0.526709        5        4        4   \n",
       "504874       0.000000   0.453202  0.410400        5        4        4   \n",
       "504891       0.000000   0.458128  0.439347        5        4        4   \n",
       "504897       0.000000   0.497537  0.494799        5        4        4   \n",
       "504912       0.000000   0.492611  0.413973        5        4        4   \n",
       "...               ...        ...       ...      ...      ...      ...   \n",
       "505183       0.035714   0.822660  0.783538        4        5        5   \n",
       "505184       0.142857   0.940887  0.874406        3        5        5   \n",
       "505185       0.107143   0.881773  0.867865        3        5        5   \n",
       "505186       0.071429   0.935961  0.852887        4        5        5   \n",
       "505187       0.000000   0.871921  0.800996        5        5        5   \n",
       "\n",
       "             RFM_Score                Segment  \n",
       "Customer_ID                                    \n",
       "504855            4.33  Enthusiastic Shoppers  \n",
       "504874            4.33  Enthusiastic Shoppers  \n",
       "504891            4.33  Enthusiastic Shoppers  \n",
       "504897            4.33  Enthusiastic Shoppers  \n",
       "504912            4.33  Enthusiastic Shoppers  \n",
       "...                ...                    ...  \n",
       "505183            4.67  Enthusiastic Shoppers  \n",
       "505184            4.33  Enthusiastic Shoppers  \n",
       "505185            4.33  Enthusiastic Shoppers  \n",
       "505186            4.67  Enthusiastic Shoppers  \n",
       "505187            5.00  Enthusiastic Shoppers  \n",
       "\n",
       "[175 rows x 8 columns]"
      ]
     },
     "execution_count": 62,
     "metadata": {},
     "output_type": "execute_result"
    }
   ],
   "source": [
    "# Check data bin with RFM score > 4\n",
    "df_bin[df_bin['RFM_Score'] > 4]"
   ]
  },
  {
   "cell_type": "code",
   "execution_count": 65,
   "metadata": {},
   "outputs": [
    {
     "data": {
      "text/html": [
       "<div>\n",
       "<style scoped>\n",
       "    .dataframe tbody tr th:only-of-type {\n",
       "        vertical-align: middle;\n",
       "    }\n",
       "\n",
       "    .dataframe tbody tr th {\n",
       "        vertical-align: top;\n",
       "    }\n",
       "\n",
       "    .dataframe thead th {\n",
       "        text-align: right;\n",
       "    }\n",
       "</style>\n",
       "<table border=\"1\" class=\"dataframe\">\n",
       "  <thead>\n",
       "    <tr style=\"text-align: right;\">\n",
       "      <th></th>\n",
       "      <th>Recency</th>\n",
       "      <th>Frequency</th>\n",
       "      <th>Monetary</th>\n",
       "      <th>R_Group</th>\n",
       "      <th>F_Group</th>\n",
       "      <th>M_Group</th>\n",
       "      <th>RFM_Score</th>\n",
       "      <th>Segment</th>\n",
       "    </tr>\n",
       "    <tr>\n",
       "      <th>Customer_ID</th>\n",
       "      <th></th>\n",
       "      <th></th>\n",
       "      <th></th>\n",
       "      <th></th>\n",
       "      <th></th>\n",
       "      <th></th>\n",
       "      <th></th>\n",
       "      <th></th>\n",
       "    </tr>\n",
       "  </thead>\n",
       "  <tbody>\n",
       "    <tr>\n",
       "      <th>504681</th>\n",
       "      <td>0.000000</td>\n",
       "      <td>0.211823</td>\n",
       "      <td>0.265541</td>\n",
       "      <td>5</td>\n",
       "      <td>2</td>\n",
       "      <td>3</td>\n",
       "      <td>3.33</td>\n",
       "      <td>Loyal Consumers</td>\n",
       "    </tr>\n",
       "    <tr>\n",
       "      <th>504700</th>\n",
       "      <td>0.000000</td>\n",
       "      <td>0.221675</td>\n",
       "      <td>0.303658</td>\n",
       "      <td>5</td>\n",
       "      <td>2</td>\n",
       "      <td>3</td>\n",
       "      <td>3.33</td>\n",
       "      <td>Loyal Consumers</td>\n",
       "    </tr>\n",
       "    <tr>\n",
       "      <th>504716</th>\n",
       "      <td>0.000000</td>\n",
       "      <td>0.280788</td>\n",
       "      <td>0.271152</td>\n",
       "      <td>5</td>\n",
       "      <td>3</td>\n",
       "      <td>3</td>\n",
       "      <td>3.67</td>\n",
       "      <td>Loyal Consumers</td>\n",
       "    </tr>\n",
       "    <tr>\n",
       "      <th>504724</th>\n",
       "      <td>0.071429</td>\n",
       "      <td>0.295567</td>\n",
       "      <td>0.322853</td>\n",
       "      <td>4</td>\n",
       "      <td>3</td>\n",
       "      <td>3</td>\n",
       "      <td>3.33</td>\n",
       "      <td>Loyal Consumers</td>\n",
       "    </tr>\n",
       "    <tr>\n",
       "      <th>504737</th>\n",
       "      <td>0.000000</td>\n",
       "      <td>0.266010</td>\n",
       "      <td>0.284167</td>\n",
       "      <td>5</td>\n",
       "      <td>3</td>\n",
       "      <td>3</td>\n",
       "      <td>3.67</td>\n",
       "      <td>Loyal Consumers</td>\n",
       "    </tr>\n",
       "    <tr>\n",
       "      <th>...</th>\n",
       "      <td>...</td>\n",
       "      <td>...</td>\n",
       "      <td>...</td>\n",
       "      <td>...</td>\n",
       "      <td>...</td>\n",
       "      <td>...</td>\n",
       "      <td>...</td>\n",
       "      <td>...</td>\n",
       "    </tr>\n",
       "    <tr>\n",
       "      <th>505085</th>\n",
       "      <td>0.035714</td>\n",
       "      <td>0.640394</td>\n",
       "      <td>0.568750</td>\n",
       "      <td>4</td>\n",
       "      <td>4</td>\n",
       "      <td>4</td>\n",
       "      <td>4.00</td>\n",
       "      <td>Loyal Consumers</td>\n",
       "    </tr>\n",
       "    <tr>\n",
       "      <th>505096</th>\n",
       "      <td>0.178571</td>\n",
       "      <td>0.793103</td>\n",
       "      <td>0.792875</td>\n",
       "      <td>2</td>\n",
       "      <td>5</td>\n",
       "      <td>5</td>\n",
       "      <td>4.00</td>\n",
       "      <td>Loyal Consumers</td>\n",
       "    </tr>\n",
       "    <tr>\n",
       "      <th>505111</th>\n",
       "      <td>0.178571</td>\n",
       "      <td>0.699507</td>\n",
       "      <td>0.640639</td>\n",
       "      <td>2</td>\n",
       "      <td>5</td>\n",
       "      <td>5</td>\n",
       "      <td>4.00</td>\n",
       "      <td>Loyal Consumers</td>\n",
       "    </tr>\n",
       "    <tr>\n",
       "      <th>505173</th>\n",
       "      <td>0.178571</td>\n",
       "      <td>0.911330</td>\n",
       "      <td>0.882123</td>\n",
       "      <td>2</td>\n",
       "      <td>5</td>\n",
       "      <td>5</td>\n",
       "      <td>4.00</td>\n",
       "      <td>Loyal Consumers</td>\n",
       "    </tr>\n",
       "    <tr>\n",
       "      <th>505182</th>\n",
       "      <td>0.178571</td>\n",
       "      <td>0.862069</td>\n",
       "      <td>0.747136</td>\n",
       "      <td>2</td>\n",
       "      <td>5</td>\n",
       "      <td>5</td>\n",
       "      <td>4.00</td>\n",
       "      <td>Loyal Consumers</td>\n",
       "    </tr>\n",
       "  </tbody>\n",
       "</table>\n",
       "<p>192 rows × 8 columns</p>\n",
       "</div>"
      ],
      "text/plain": [
       "              Recency  Frequency  Monetary  R_Group  F_Group  M_Group  \\\n",
       "Customer_ID                                                             \n",
       "504681       0.000000   0.211823  0.265541        5        2        3   \n",
       "504700       0.000000   0.221675  0.303658        5        2        3   \n",
       "504716       0.000000   0.280788  0.271152        5        3        3   \n",
       "504724       0.071429   0.295567  0.322853        4        3        3   \n",
       "504737       0.000000   0.266010  0.284167        5        3        3   \n",
       "...               ...        ...       ...      ...      ...      ...   \n",
       "505085       0.035714   0.640394  0.568750        4        4        4   \n",
       "505096       0.178571   0.793103  0.792875        2        5        5   \n",
       "505111       0.178571   0.699507  0.640639        2        5        5   \n",
       "505173       0.178571   0.911330  0.882123        2        5        5   \n",
       "505182       0.178571   0.862069  0.747136        2        5        5   \n",
       "\n",
       "             RFM_Score          Segment  \n",
       "Customer_ID                              \n",
       "504681            3.33  Loyal Consumers  \n",
       "504700            3.33  Loyal Consumers  \n",
       "504716            3.67  Loyal Consumers  \n",
       "504724            3.33  Loyal Consumers  \n",
       "504737            3.67  Loyal Consumers  \n",
       "...                ...              ...  \n",
       "505085            4.00  Loyal Consumers  \n",
       "505096            4.00  Loyal Consumers  \n",
       "505111            4.00  Loyal Consumers  \n",
       "505173            4.00  Loyal Consumers  \n",
       "505182            4.00  Loyal Consumers  \n",
       "\n",
       "[192 rows x 8 columns]"
      ]
     },
     "execution_count": 65,
     "metadata": {},
     "output_type": "execute_result"
    }
   ],
   "source": [
    "# Check data bin with RFM score 3 - 4\n",
    "df_bin[(df_bin['RFM_Score'] > 3) & (df_bin['RFM_Score'] <= 4)]"
   ]
  },
  {
   "cell_type": "markdown",
   "metadata": {},
   "source": [
    "- Plot each cluster using boxplot\n",
    "- Plot each cluster using scatter plot for RFM Variables"
   ]
  },
  {
   "cell_type": "code",
   "execution_count": 66,
   "metadata": {},
   "outputs": [],
   "source": [
    "# Inverse transfor df_bin\n",
    "for column in ['Recency', 'Frequency', 'Monetary']:\n",
    "    # Invers transform X\n",
    "    X = df_bin[column]\n",
    "\n",
    "    # Find the index\n",
    "    index = scaler.feature_names_in_.tolist().index(column)\n",
    "    maximum_value = scaler.data_max_[index]\n",
    "    minimum_value = scaler.data_min_[index]\n",
    "\n",
    "    # Invers Transform\n",
    "    df_bin[column] = X*(maximum_value-minimum_value)+minimum_value"
   ]
  },
  {
   "cell_type": "code",
   "execution_count": 68,
   "metadata": {},
   "outputs": [
    {
     "data": {
      "image/png": "[encoded data removed]",
      "text/plain": [
       "<Figure size 1000x2000 with 3 Axes>"
      ]
     },
     "metadata": {},
     "output_type": "display_data"
    }
   ],
   "source": [
    "# Plot the boxplot\n",
    "fig, axes = plt.subplots(nrows = 3, ncols=1, figsize=(10,20))\n",
    "\n",
    "# Iterate the column\n",
    "for i, column in enumerate(['Recency', 'Frequency', 'Monetary']):\n",
    "    sns.boxplot(data = df_bin,\n",
    "                y = 'Segment',\n",
    "                x = column,\n",
    "                ax = axes[i])\n",
    "    \n",
    "    axes[i].set_title(f'{column} Distribution')\n",
    "\n",
    "plt.tight_layout()\n",
    "plt.show()"
   ]
  },
  {
   "cell_type": "code",
   "execution_count": 69,
   "metadata": {},
   "outputs": [
    {
     "data": {
      "text/html": [
       "<div>\n",
       "<style scoped>\n",
       "    .dataframe tbody tr th:only-of-type {\n",
       "        vertical-align: middle;\n",
       "    }\n",
       "\n",
       "    .dataframe tbody tr th {\n",
       "        vertical-align: top;\n",
       "    }\n",
       "\n",
       "    .dataframe thead th {\n",
       "        text-align: right;\n",
       "    }\n",
       "</style>\n",
       "<table border=\"1\" class=\"dataframe\">\n",
       "  <thead>\n",
       "    <tr style=\"text-align: right;\">\n",
       "      <th></th>\n",
       "      <th>Recency</th>\n",
       "      <th>Frequency</th>\n",
       "      <th>Monetary</th>\n",
       "    </tr>\n",
       "    <tr>\n",
       "      <th>Segment</th>\n",
       "      <th></th>\n",
       "      <th></th>\n",
       "      <th></th>\n",
       "    </tr>\n",
       "  </thead>\n",
       "  <tbody>\n",
       "    <tr>\n",
       "      <th>Dissatisfied Customers</th>\n",
       "      <td>15.84</td>\n",
       "      <td>19.92</td>\n",
       "      <td>1127.11</td>\n",
       "    </tr>\n",
       "    <tr>\n",
       "      <th>Sporadic Shoppers</th>\n",
       "      <td>8.95</td>\n",
       "      <td>33.93</td>\n",
       "      <td>1940.81</td>\n",
       "    </tr>\n",
       "    <tr>\n",
       "      <th>Deal-Driven Shoppers</th>\n",
       "      <td>4.64</td>\n",
       "      <td>61.77</td>\n",
       "      <td>3596.96</td>\n",
       "    </tr>\n",
       "    <tr>\n",
       "      <th>Loyal Consumers</th>\n",
       "      <td>2.26</td>\n",
       "      <td>102.65</td>\n",
       "      <td>5949.51</td>\n",
       "    </tr>\n",
       "    <tr>\n",
       "      <th>Enthusiastic Shoppers</th>\n",
       "      <td>0.85</td>\n",
       "      <td>157.19</td>\n",
       "      <td>9115.70</td>\n",
       "    </tr>\n",
       "  </tbody>\n",
       "</table>\n",
       "</div>"
      ],
      "text/plain": [
       "                        Recency  Frequency  Monetary\n",
       "Segment                                             \n",
       "Dissatisfied Customers    15.84      19.92   1127.11\n",
       "Sporadic Shoppers          8.95      33.93   1940.81\n",
       "Deal-Driven Shoppers       4.64      61.77   3596.96\n",
       "Loyal Consumers            2.26     102.65   5949.51\n",
       "Enthusiastic Shoppers      0.85     157.19   9115.70"
      ]
     },
     "execution_count": 69,
     "metadata": {},
     "output_type": "execute_result"
    }
   ],
   "source": [
    "# Aggregate of mean for each RFM variable\n",
    "df_bin.groupby('Segment').agg({'Recency':'mean',\n",
    "                                'Frequency':'mean',\n",
    "                                'Monetary':'mean'}).round(2)"
   ]
  },
  {
   "cell_type": "markdown",
   "metadata": {},
   "source": [
    "**Enthusiastic Shoppers** <br>\n",
    "\n",
    "---\n",
    "\n",
    "Characteristic: <br>\n",
    "- low recency,  high frequency, and high monetary value\n",
    "- Recency: 1 days\n",
    "- Frequency: 157 transactions\n",
    "- Monetary: \\$ 9116\n",
    "\n",
    "Marketing initiative: <br>\n",
    "- Offer devoted account managers or individualized help to address their particular demands.\n",
    "- Provide tailored product suggestions based on their previous purchases."
   ]
  },
  {
   "cell_type": "markdown",
   "metadata": {},
   "source": [
    "**Loyal Customers** <br>\n",
    "\n",
    "---\n",
    "\n",
    "Characteristic: <br>\n",
    "- low recency, medium frequency, and  high monetary value\n",
    "- Recency: 2 days\n",
    "- Frequency: 103 transactions\n",
    "- Monetary: \\$ 5950\n",
    "\n",
    "Marketing initiative: <br>\n",
    "- Establish a customer loyalty program with tiers of prizes and special advantages.\n",
    "- Offer rewards for referrals to entice customers to recommend their friends and family to your company."
   ]
  },
  {
   "cell_type": "markdown",
   "metadata": {},
   "source": [
    "**Deal-Driven Shoppers** <br>\n",
    "\n",
    "---\n",
    "\n",
    "Characteristic: <br>\n",
    "- medium recency, medium frequency, and  medium monetary\n",
    "- Recency: 5 days\n",
    "- Frequency: 62 transactions\n",
    "- Monetary: \\$ 3597\n",
    "\n",
    "Marketing initiative: <br>\n",
    "- Encourage people to sample your goods or services by providing them with free trials, demos, or introductory discounts."
   ]
  },
  {
   "cell_type": "markdown",
   "metadata": {},
   "source": [
    "**Sporadic Shoppers** <br>\n",
    "\n",
    "---\n",
    "\n",
    "Characteristic: <br>\n",
    "-  high recency, low monetary, and low frequency\n",
    "- Recency: 9 days\n",
    "- Frequency: 34 transactions\n",
    "- Monetary: \\$ 1941\n",
    "\n",
    "Marketing initiative: <br>\n",
    "- Conduct customer satisfaction surveys to identify and address any issues that may be causing their dissatisfaction\n",
    "- Use discount promotional campaign to attract them make transaction"
   ]
  },
  {
   "cell_type": "markdown",
   "metadata": {},
   "source": [
    "**Dissatisfied Customers** <br>\n",
    "\n",
    "---\n",
    "\n",
    "Characteristic: <br>\n",
    "- high recency, low frequency, and low monetary\n",
    "- Recency: 16 days\n",
    "- Frequency: 20 transactions\n",
    "- Monetary: \\$ 1127\n",
    "\n",
    "Marketing initiative: <br>\n",
    "\n",
    "- Run polls or feedback campaigns to better understand their requirements and preferences.\n",
    "- Implement a proactive outreach program for customers to address any issues or complaints they may have."
   ]
  },
  {
   "cell_type": "markdown",
   "metadata": {},
   "source": [
    "# 7. K-Means Clustering"
   ]
  },
  {
   "cell_type": "code",
   "execution_count": 70,
   "metadata": {},
   "outputs": [],
   "source": [
    "# Import package for KMeans\n",
    "from sklearn.cluster import KMeans"
   ]
  },
  {
   "cell_type": "code",
   "execution_count": 71,
   "metadata": {},
   "outputs": [],
   "source": [
    "df_clean_cluster = clean_df[['Recency', 'Frequency', 'Monetary']]"
   ]
  },
  {
   "cell_type": "code",
   "execution_count": 72,
   "metadata": {},
   "outputs": [],
   "source": [
    "# Create place holder for inertia (empty list)\n",
    "inertia = []\n",
    "\n",
    "# Iteration\n",
    "for k in range(1, 11):\n",
    "    # Create k means\n",
    "    kmeans = KMeans(n_clusters=k, random_state=42, n_init=10)\n",
    "\n",
    "    # Fit the object\n",
    "    kmeans.fit(df_clean_cluster)\n",
    "\n",
    "    # Append the result\n",
    "    inertia.append(kmeans.inertia_)"
   ]
  },
  {
   "cell_type": "code",
   "execution_count": 74,
   "metadata": {},
   "outputs": [
    {
     "data": {
      "text/plain": [
       "Text(0.5, 1.0, 'Elbow Method Showing the Optimal K')"
      ]
     },
     "execution_count": 74,
     "metadata": {},
     "output_type": "execute_result"
    },
    {
     "data": {
      "image/png": "[encoded data removed]",
      "text/plain": [
       "<Figure size 800x400 with 1 Axes>"
      ]
     },
     "metadata": {},
     "output_type": "display_data"
    }
   ],
   "source": [
    "plt.figure(figsize=(8,4))\n",
    "\n",
    "# plt.plot(inertia)\n",
    "sns.lineplot(x=range(1,11), y=inertia, color='#000087',\n",
    "             linewidth = 4, marker='o', markersize=10,\n",
    "             markerfacecolor='red')\n",
    "\n",
    "plt.xlabel('Number of Clusters', fontsize = 12)\n",
    "plt.ylabel('Inertia', fontsize=12)\n",
    "plt.title('Elbow Method Showing the Optimal K', fontsize=20)"
   ]
  },
  {
   "cell_type": "markdown",
   "metadata": {},
   "source": [
    "**Review elbow method**\n",
    "\n",
    "---\n",
    "\n",
    "- The point where adding another cluster does not significantly lower the WCSS is known as the optimal number of clusters. \n",
    "- This point can be identified by spotting a sharp bend or elbow in the WCSS graph. \n",
    "- If this is the case, then adding more clusters does not enhance the clustering performance.\n",
    "\n",
    "$$\n",
    "\\text{WCSS} = \\sum_{j=1}^{k} \\sum_{i=1}^{n} ||x_{(ij)} - c_{(j)}||^2\n",
    "$$\n",
    "\n",
    "where:\n",
    "- n represents the total number of data points\n",
    "- k represents the total number of clusters\n",
    "- xi represents the ith data point\n",
    "- cj represents the jth cluster centroid"
   ]
  },
  {
   "cell_type": "markdown",
   "metadata": {},
   "source": [
    "**Elbow method analysis**\n",
    "\n",
    "---\n",
    "\n",
    "- The plot doesn't appear to show \"sharp bending,\" and is instead roughly between \"n_cluster 2\" and \"n_cluster 3.\"\n",
    "- We should consider the business demands when determining the number of clusters needed rather than basing our decision just on the elbow technique.\n",
    "- There are various disadvantages if we opt to cluster into two groups:\n",
    "    - Inadequate granularity: When there are only two clusters, your client segmentation is extremely simplistic and lacks sufficient depth. This may make it challenging to successfully target particular customer segments.\n",
    "    - Ineffective messaging: Insufficient segmentation may result in marketing communications that are too general and do not appeal to either cluster.\n",
    "Because of this, we are considering using either \"n_cluster\" = 3 or \"n_cluster\" = 4, as long as our budget (based on the assumption in the RFM ranking algorithm above) can cover up to 5 clusters.\n",
    "- Given that we are unable to view the \"beding curve\" for n_clusters 4 and 5, we can determine utilizing n_cluster 3."
   ]
  },
  {
   "cell_type": "markdown",
   "metadata": {},
   "source": [
    "- We choose to employ \"n_cluster = 3\" since, according to the elbow technique, there is no appreciable difference in the inertia reduction between \"n_cluster = 4\" and \"n_cluster = 5.\""
   ]
  },
  {
   "cell_type": "markdown",
   "metadata": {},
   "source": [
    "## K-Means Clustering"
   ]
  },
  {
   "cell_type": "code",
   "execution_count": 76,
   "metadata": {},
   "outputs": [
    {
     "data": {
      "text/html": [
       "<style>#sk-container-id-1 {color: black;background-color: white;}#sk-container-id-1 pre{padding: 0;}#sk-container-id-1 div.sk-toggleable {background-color: white;}#sk-container-id-1 label.sk-toggleable__label {cursor: pointer;display: block;width: 100%;margin-bottom: 0;padding: 0.3em;box-sizing: border-box;text-align: center;}#sk-container-id-1 label.sk-toggleable__label-arrow:before {content: \"▸\";float: left;margin-right: 0.25em;color: #696969;}#sk-container-id-1 label.sk-toggleable__label-arrow:hover:before {color: black;}#sk-container-id-1 div.sk-estimator:hover label.sk-toggleable__label-arrow:before {color: black;}#sk-container-id-1 div.sk-toggleable__content {max-height: 0;max-width: 0;overflow: hidden;text-align: left;background-color: #f0f8ff;}#sk-container-id-1 div.sk-toggleable__content pre {margin: 0.2em;color: black;border-radius: 0.25em;background-color: #f0f8ff;}#sk-container-id-1 input.sk-toggleable__control:checked~div.sk-toggleable__content {max-height: 200px;max-width: 100%;overflow: auto;}#sk-container-id-1 input.sk-toggleable__control:checked~label.sk-toggleable__label-arrow:before {content: \"▾\";}#sk-container-id-1 div.sk-estimator input.sk-toggleable__control:checked~label.sk-toggleable__label {background-color: #d4ebff;}#sk-container-id-1 div.sk-label input.sk-toggleable__control:checked~label.sk-toggleable__label {background-color: #d4ebff;}#sk-container-id-1 input.sk-hidden--visually {border: 0;clip: rect(1px 1px 1px 1px);clip: rect(1px, 1px, 1px, 1px);height: 1px;margin: -1px;overflow: hidden;padding: 0;position: absolute;width: 1px;}#sk-container-id-1 div.sk-estimator {font-family: monospace;background-color: #f0f8ff;border: 1px dotted black;border-radius: 0.25em;box-sizing: border-box;margin-bottom: 0.5em;}#sk-container-id-1 div.sk-estimator:hover {background-color: #d4ebff;}#sk-container-id-1 div.sk-parallel-item::after {content: \"\";width: 100%;border-bottom: 1px solid gray;flex-grow: 1;}#sk-container-id-1 div.sk-label:hover label.sk-toggleable__label {background-color: #d4ebff;}#sk-container-id-1 div.sk-serial::before {content: \"\";position: absolute;border-left: 1px solid gray;box-sizing: border-box;top: 0;bottom: 0;left: 50%;z-index: 0;}#sk-container-id-1 div.sk-serial {display: flex;flex-direction: column;align-items: center;background-color: white;padding-right: 0.2em;padding-left: 0.2em;position: relative;}#sk-container-id-1 div.sk-item {position: relative;z-index: 1;}#sk-container-id-1 div.sk-parallel {display: flex;align-items: stretch;justify-content: center;background-color: white;position: relative;}#sk-container-id-1 div.sk-item::before, #sk-container-id-1 div.sk-parallel-item::before {content: \"\";position: absolute;border-left: 1px solid gray;box-sizing: border-box;top: 0;bottom: 0;left: 50%;z-index: -1;}#sk-container-id-1 div.sk-parallel-item {display: flex;flex-direction: column;z-index: 1;position: relative;background-color: white;}#sk-container-id-1 div.sk-parallel-item:first-child::after {align-self: flex-end;width: 50%;}#sk-container-id-1 div.sk-parallel-item:last-child::after {align-self: flex-start;width: 50%;}#sk-container-id-1 div.sk-parallel-item:only-child::after {width: 0;}#sk-container-id-1 div.sk-dashed-wrapped {border: 1px dashed gray;margin: 0 0.4em 0.5em 0.4em;box-sizing: border-box;padding-bottom: 0.4em;background-color: white;}#sk-container-id-1 div.sk-label label {font-family: monospace;font-weight: bold;display: inline-block;line-height: 1.2em;}#sk-container-id-1 div.sk-label-container {text-align: center;}#sk-container-id-1 div.sk-container {/* jupyter's `normalize.less` sets `[hidden] { display: none; }` but bootstrap.min.css set `[hidden] { display: none !important; }` so we also need the `!important` here to be able to override the default hidden behavior on the sphinx rendered scikit-learn.org. See: https://github.com/scikit-learn/scikit-learn/issues/21755 */display: inline-block !important;position: relative;}#sk-container-id-1 div.sk-text-repr-fallback {display: none;}</style><div id=\"sk-container-id-1\" class=\"sk-top-container\"><div class=\"sk-text-repr-fallback\"><pre>KMeans(n_clusters=3, random_state=42)</pre><b>In a Jupyter environment, please rerun this cell to show the HTML representation or trust the notebook. <br />On GitHub, the HTML representation is unable to render, please try loading this page with nbviewer.org.</b></div><div class=\"sk-container\" hidden><div class=\"sk-item\"><div class=\"sk-estimator sk-toggleable\"><input class=\"sk-toggleable__control sk-hidden--visually\" id=\"sk-estimator-id-1\" type=\"checkbox\" checked><label for=\"sk-estimator-id-1\" class=\"sk-toggleable__label sk-toggleable__label-arrow\">KMeans</label><div class=\"sk-toggleable__content\"><pre>KMeans(n_clusters=3, random_state=42)</pre></div></div></div></div></div>"
      ],
      "text/plain": [
       "KMeans(n_clusters=3, random_state=42)"
      ]
     },
     "execution_count": 76,
     "metadata": {},
     "output_type": "execute_result"
    }
   ],
   "source": [
    "# Fit for the best data\n",
    "best_kmeans_cluster = KMeans(n_clusters=3,\n",
    "                             random_state=42,\n",
    "                             n_init=10) # Number of times the k-means algorithm will be run with different initial centroids\n",
    "\n",
    "# Fit the model\n",
    "best_kmeans_cluster.fit(df_clean_cluster)"
   ]
  },
  {
   "cell_type": "code",
   "execution_count": 77,
   "metadata": {},
   "outputs": [
    {
     "data": {
      "text/plain": [
       "array([1, 1, 1, 1, 1, 0, 1, 1, 0, 1, 1, 0, 0, 0, 1, 0, 1, 1, 0, 1, 1, 0,\n",
       "       1, 0, 0, 1, 1, 1, 1, 0, 1, 1, 1, 0, 1, 0, 1, 0, 1, 1, 1, 1, 0, 0,\n",
       "       0, 0, 0, 1, 0, 1, 1, 1, 1, 0, 1, 1, 0, 1, 1, 0, 0, 1, 0, 0, 1, 1,\n",
       "       1, 1, 1, 1, 1, 1, 1, 1, 0, 0, 0, 1, 0, 0, 1, 1, 1, 0, 0, 0, 0, 1,\n",
       "       1, 0, 1, 0, 0, 1, 0, 1, 1, 1, 1, 1, 0, 0, 0, 0, 1, 0, 1, 1, 1, 1,\n",
       "       1, 0, 1, 0, 1, 1, 1, 1, 1, 0, 1, 0, 0, 1, 0, 1, 1, 1, 0, 1, 1, 1,\n",
       "       0, 1, 0, 0, 0, 0, 1, 1, 1, 1, 1, 0, 1, 1, 1, 1, 0, 0, 1, 1, 1, 0,\n",
       "       0, 0, 0, 1, 1, 1, 1, 1, 1, 0, 1, 1, 0, 0, 0, 1, 0, 1, 1, 1, 1, 0,\n",
       "       0, 1, 1, 1, 1, 0, 1, 0, 1, 0, 0, 0, 0, 0, 0, 0, 0, 0, 1, 0, 0, 1,\n",
       "       0, 0, 0, 1, 1, 1, 0, 1, 0, 0, 1, 0, 1, 1, 1, 0, 0, 1, 0, 0, 0, 0,\n",
       "       0, 0, 1, 0, 1, 0, 0, 0, 0, 1, 0, 1, 0, 0, 0, 0, 0, 0, 1, 1, 0, 1,\n",
       "       1, 0, 1, 0, 0, 1, 0, 0, 0, 1, 0, 0, 0, 0, 1, 0, 1, 0, 0, 0, 0, 0,\n",
       "       1, 0, 0, 0, 0, 0, 0, 0, 1, 0, 0, 1, 0, 1, 0, 1, 0, 1, 0, 0, 1, 0,\n",
       "       1, 1, 0, 0, 0, 0, 1, 0, 0, 0, 0, 0, 0, 1, 0, 1, 0, 0, 0, 0, 0, 0,\n",
       "       1, 0, 1, 0, 0, 0, 1, 1, 0, 0, 0, 1, 0, 0, 0, 0, 0, 1, 0, 0, 0, 0,\n",
       "       0, 0, 0, 0, 0, 1, 0, 0, 0, 0, 0, 1, 0, 0, 0, 0, 0, 1, 0, 0, 0, 0,\n",
       "       0, 0, 0, 0, 0, 0, 0, 0, 0, 0, 0, 0, 0, 0, 0, 0, 0, 0, 0, 0, 0, 0,\n",
       "       0, 0, 0, 0, 0, 0, 0, 0, 0, 1, 0, 0, 0, 0, 0, 0, 0, 0, 0, 0, 0, 2,\n",
       "       2, 0, 0, 0, 2, 0, 0, 2, 0, 0, 0, 0, 0, 2, 0, 0, 0, 0, 0, 0, 0, 2,\n",
       "       0, 0, 0, 0, 1, 0, 0, 1, 0, 0, 2, 0, 0, 0, 0, 0, 0, 0, 0, 0, 0, 0,\n",
       "       0, 0, 2, 0, 2, 0, 0, 0, 0, 2, 0, 2, 0, 0, 0, 0, 2, 2, 0, 0, 0, 0,\n",
       "       0, 2, 0, 2, 2, 2, 2, 0, 0, 2, 0, 2, 2, 0, 0, 2, 2, 2, 2, 2, 0, 2,\n",
       "       0, 2, 2, 2, 2, 2, 2, 2, 2, 2, 0, 2, 2, 2, 0, 2, 2, 2, 0, 2, 0, 2,\n",
       "       2, 2, 2, 2, 0, 2, 2, 2, 2, 0, 2, 2, 2, 2, 0, 2, 0, 2, 2, 2, 2, 2,\n",
       "       2, 2, 2, 2, 2, 2, 2, 2, 2, 2, 2, 2, 2, 2, 2, 2, 2, 2, 2, 2, 2, 2,\n",
       "       2, 2, 2, 2, 2, 2, 2, 2, 2, 2, 2, 2, 2, 2, 2, 2, 2, 2, 2, 2, 2, 2,\n",
       "       2, 2, 2, 2, 1, 2, 2, 2, 2, 2, 2, 2, 2, 2, 2, 2, 2, 2, 2, 2, 2, 2,\n",
       "       2, 2, 2, 2, 2, 2, 2, 2, 2, 2, 2, 2, 2, 2, 2, 2, 2, 2, 2, 2, 2, 2,\n",
       "       2, 2, 2, 2, 2, 2, 2, 2, 2, 2, 2, 2, 2, 2, 2, 2, 2, 2, 2, 2, 2, 2,\n",
       "       2, 2, 2, 2, 2, 2, 2, 2, 2, 2, 2, 2, 2, 2, 2, 2, 2, 2, 2, 2, 2, 2,\n",
       "       2, 2, 2, 2, 2, 2, 2, 2, 2, 2, 2, 2, 2, 2, 2, 2, 2, 2, 2, 2, 2, 2,\n",
       "       2, 2, 2, 2, 2, 2, 2, 2, 2, 2, 2, 2, 2, 2, 2, 2, 2, 2, 2, 2, 2, 2,\n",
       "       2, 2, 2, 2, 2, 2, 2, 2, 2, 2, 2, 2, 2, 2, 2, 2, 2, 2, 2, 2, 2, 2,\n",
       "       2, 2, 2, 2, 2, 2, 2])"
      ]
     },
     "execution_count": 77,
     "metadata": {},
     "output_type": "execute_result"
    }
   ],
   "source": [
    "# Prediction\n",
    "label_data = best_kmeans_cluster.predict(df_clean_cluster)\n",
    "label_data"
   ]
  },
  {
   "cell_type": "code",
   "execution_count": 78,
   "metadata": {},
   "outputs": [],
   "source": [
    "# Generate the coordinate centroid\n",
    "centroids = best_kmeans_cluster.cluster_centers_"
   ]
  },
  {
   "cell_type": "code",
   "execution_count": 80,
   "metadata": {},
   "outputs": [
    {
     "data": {
      "text/html": [
       "<div>\n",
       "<style scoped>\n",
       "    .dataframe tbody tr th:only-of-type {\n",
       "        vertical-align: middle;\n",
       "    }\n",
       "\n",
       "    .dataframe tbody tr th {\n",
       "        vertical-align: top;\n",
       "    }\n",
       "\n",
       "    .dataframe thead th {\n",
       "        text-align: right;\n",
       "    }\n",
       "</style>\n",
       "<table border=\"1\" class=\"dataframe\">\n",
       "  <thead>\n",
       "    <tr style=\"text-align: right;\">\n",
       "      <th></th>\n",
       "      <th>Recency</th>\n",
       "      <th>Frequency</th>\n",
       "      <th>Monetary</th>\n",
       "    </tr>\n",
       "    <tr>\n",
       "      <th>Cluster</th>\n",
       "      <th></th>\n",
       "      <th></th>\n",
       "      <th></th>\n",
       "    </tr>\n",
       "  </thead>\n",
       "  <tbody>\n",
       "    <tr>\n",
       "      <th>0</th>\n",
       "      <td>0.106557</td>\n",
       "      <td>0.259856</td>\n",
       "      <td>0.242853</td>\n",
       "    </tr>\n",
       "    <tr>\n",
       "      <th>1</th>\n",
       "      <td>0.505732</td>\n",
       "      <td>0.131910</td>\n",
       "      <td>0.118911</td>\n",
       "    </tr>\n",
       "    <tr>\n",
       "      <th>2</th>\n",
       "      <td>0.065655</td>\n",
       "      <td>0.685655</td>\n",
       "      <td>0.637335</td>\n",
       "    </tr>\n",
       "  </tbody>\n",
       "</table>\n",
       "</div>"
      ],
      "text/plain": [
       "          Recency  Frequency  Monetary\n",
       "Cluster                               \n",
       "0        0.106557   0.259856  0.242853\n",
       "1        0.505732   0.131910  0.118911\n",
       "2        0.065655   0.685655  0.637335"
      ]
     },
     "execution_count": 80,
     "metadata": {},
     "output_type": "execute_result"
    }
   ],
   "source": [
    "# Create DataFrame\n",
    "df_centroid = pd.DataFrame(centroids,\n",
    "                           columns=['Recency', 'Frequency', 'Monetary']).rename_axis('Cluster', axis='index')\n",
    "\n",
    "# Centroid DataFrame\n",
    "df_centroid"
   ]
  },
  {
   "cell_type": "markdown",
   "metadata": {},
   "source": [
    "### Analysis"
   ]
  },
  {
   "cell_type": "code",
   "execution_count": 82,
   "metadata": {},
   "outputs": [
    {
     "data": {
      "text/html": [
       "<div>\n",
       "<style scoped>\n",
       "    .dataframe tbody tr th:only-of-type {\n",
       "        vertical-align: middle;\n",
       "    }\n",
       "\n",
       "    .dataframe tbody tr th {\n",
       "        vertical-align: top;\n",
       "    }\n",
       "\n",
       "    .dataframe thead th {\n",
       "        text-align: right;\n",
       "    }\n",
       "</style>\n",
       "<table border=\"1\" class=\"dataframe\">\n",
       "  <thead>\n",
       "    <tr style=\"text-align: right;\">\n",
       "      <th></th>\n",
       "      <th>Recency</th>\n",
       "      <th>Frequency</th>\n",
       "      <th>Monetary</th>\n",
       "      <th>label</th>\n",
       "    </tr>\n",
       "    <tr>\n",
       "      <th>Customer_ID</th>\n",
       "      <th></th>\n",
       "      <th></th>\n",
       "      <th></th>\n",
       "      <th></th>\n",
       "    </tr>\n",
       "  </thead>\n",
       "  <tbody>\n",
       "    <tr>\n",
       "      <th>504316</th>\n",
       "      <td>25.0</td>\n",
       "      <td>9.0</td>\n",
       "      <td>496.821</td>\n",
       "      <td>1</td>\n",
       "    </tr>\n",
       "    <tr>\n",
       "      <th>504318</th>\n",
       "      <td>9.0</td>\n",
       "      <td>11.0</td>\n",
       "      <td>685.317</td>\n",
       "      <td>1</td>\n",
       "    </tr>\n",
       "    <tr>\n",
       "      <th>504320</th>\n",
       "      <td>17.0</td>\n",
       "      <td>9.0</td>\n",
       "      <td>878.577</td>\n",
       "      <td>1</td>\n",
       "    </tr>\n",
       "    <tr>\n",
       "      <th>504330</th>\n",
       "      <td>6.0</td>\n",
       "      <td>8.0</td>\n",
       "      <td>543.888</td>\n",
       "      <td>1</td>\n",
       "    </tr>\n",
       "    <tr>\n",
       "      <th>504333</th>\n",
       "      <td>14.0</td>\n",
       "      <td>11.0</td>\n",
       "      <td>903.100</td>\n",
       "      <td>1</td>\n",
       "    </tr>\n",
       "  </tbody>\n",
       "</table>\n",
       "</div>"
      ],
      "text/plain": [
       "             Recency  Frequency  Monetary  label\n",
       "Customer_ID                                     \n",
       "504316          25.0        9.0   496.821      1\n",
       "504318           9.0       11.0   685.317      1\n",
       "504320          17.0        9.0   878.577      1\n",
       "504330           6.0        8.0   543.888      1\n",
       "504333          14.0       11.0   903.100      1"
      ]
     },
     "execution_count": 82,
     "metadata": {},
     "output_type": "execute_result"
    }
   ],
   "source": [
    "# Inverse the transform data\n",
    "cluster_df = pd.DataFrame(scaler.inverse_transform(clean_df))\n",
    "cluster_df.index = clean_df.index\n",
    "cluster_df.columns = clean_df.columns\n",
    "\n",
    "# Create data\n",
    "cluster_df = cluster_df[['Recency', 'Frequency', 'Monetary']]\n",
    "cluster_df['label'] = label_data\n",
    "cluster_df.head()"
   ]
  },
  {
   "cell_type": "code",
   "execution_count": 83,
   "metadata": {},
   "outputs": [
    {
     "data": {
      "text/html": [
       "<div>\n",
       "<style scoped>\n",
       "    .dataframe tbody tr th:only-of-type {\n",
       "        vertical-align: middle;\n",
       "    }\n",
       "\n",
       "    .dataframe tbody tr th {\n",
       "        vertical-align: top;\n",
       "    }\n",
       "\n",
       "    .dataframe thead th {\n",
       "        text-align: right;\n",
       "    }\n",
       "</style>\n",
       "<table border=\"1\" class=\"dataframe\">\n",
       "  <thead>\n",
       "    <tr style=\"text-align: right;\">\n",
       "      <th></th>\n",
       "      <th>Recency</th>\n",
       "      <th>Frequency</th>\n",
       "      <th>Monetary</th>\n",
       "      <th>label</th>\n",
       "    </tr>\n",
       "    <tr>\n",
       "      <th>label</th>\n",
       "      <th></th>\n",
       "      <th></th>\n",
       "      <th></th>\n",
       "      <th></th>\n",
       "    </tr>\n",
       "  </thead>\n",
       "  <tbody>\n",
       "    <tr>\n",
       "      <th>0</th>\n",
       "      <td>3.0</td>\n",
       "      <td>59.8</td>\n",
       "      <td>3483.8</td>\n",
       "      <td>305</td>\n",
       "    </tr>\n",
       "    <tr>\n",
       "      <th>1</th>\n",
       "      <td>14.2</td>\n",
       "      <td>33.8</td>\n",
       "      <td>1919.9</td>\n",
       "      <td>162</td>\n",
       "    </tr>\n",
       "    <tr>\n",
       "      <th>2</th>\n",
       "      <td>1.8</td>\n",
       "      <td>146.2</td>\n",
       "      <td>8461.5</td>\n",
       "      <td>266</td>\n",
       "    </tr>\n",
       "  </tbody>\n",
       "</table>\n",
       "</div>"
      ],
      "text/plain": [
       "       Recency  Frequency  Monetary  label\n",
       "label                                     \n",
       "0          3.0       59.8    3483.8    305\n",
       "1         14.2       33.8    1919.9    162\n",
       "2          1.8      146.2    8461.5    266"
      ]
     },
     "execution_count": 83,
     "metadata": {},
     "output_type": "execute_result"
    }
   ],
   "source": [
    "# Calculate the average values for each RFM_Level and return size of each segment\n",
    "cluster_df.groupby('label').agg({\n",
    "    'Recency':'mean',\n",
    "    'Frequency':'mean',\n",
    "    'Monetary':'mean',\n",
    "    'label':'count'\n",
    "}).round(1)"
   ]
  },
  {
   "cell_type": "markdown",
   "metadata": {},
   "source": [
    "- Cluster 0 --> Middle Customer\n",
    "    - Characteristic : Low Recency, Medium Frequency, Medium Monetary\n",
    "- Cluster 1 --> Highly Potential Churn\n",
    "    - Characteristic : High Recency, Low Frequency, Low Monetary\n",
    "- Cluster 2 --> Enthusiastic Customer\n",
    "    - Characteristic : Low Recency, High Frequency, High Monetary"
   ]
  },
  {
   "cell_type": "code",
   "execution_count": 88,
   "metadata": {},
   "outputs": [
    {
     "data": {
      "text/html": [
       "<div>\n",
       "<style scoped>\n",
       "    .dataframe tbody tr th:only-of-type {\n",
       "        vertical-align: middle;\n",
       "    }\n",
       "\n",
       "    .dataframe tbody tr th {\n",
       "        vertical-align: top;\n",
       "    }\n",
       "\n",
       "    .dataframe thead th {\n",
       "        text-align: right;\n",
       "    }\n",
       "</style>\n",
       "<table border=\"1\" class=\"dataframe\">\n",
       "  <thead>\n",
       "    <tr style=\"text-align: right;\">\n",
       "      <th></th>\n",
       "      <th>Recency</th>\n",
       "      <th>Frequency</th>\n",
       "      <th>Monetary</th>\n",
       "      <th>label</th>\n",
       "      <th>Customer_Type</th>\n",
       "    </tr>\n",
       "    <tr>\n",
       "      <th>Customer_ID</th>\n",
       "      <th></th>\n",
       "      <th></th>\n",
       "      <th></th>\n",
       "      <th></th>\n",
       "      <th></th>\n",
       "    </tr>\n",
       "  </thead>\n",
       "  <tbody>\n",
       "    <tr>\n",
       "      <th>504316</th>\n",
       "      <td>25.0</td>\n",
       "      <td>9.0</td>\n",
       "      <td>496.821</td>\n",
       "      <td>1</td>\n",
       "      <td>Highly Potential Churn</td>\n",
       "    </tr>\n",
       "    <tr>\n",
       "      <th>504318</th>\n",
       "      <td>9.0</td>\n",
       "      <td>11.0</td>\n",
       "      <td>685.317</td>\n",
       "      <td>1</td>\n",
       "      <td>Highly Potential Churn</td>\n",
       "    </tr>\n",
       "    <tr>\n",
       "      <th>504320</th>\n",
       "      <td>17.0</td>\n",
       "      <td>9.0</td>\n",
       "      <td>878.577</td>\n",
       "      <td>1</td>\n",
       "      <td>Highly Potential Churn</td>\n",
       "    </tr>\n",
       "    <tr>\n",
       "      <th>504330</th>\n",
       "      <td>6.0</td>\n",
       "      <td>8.0</td>\n",
       "      <td>543.888</td>\n",
       "      <td>1</td>\n",
       "      <td>Highly Potential Churn</td>\n",
       "    </tr>\n",
       "    <tr>\n",
       "      <th>504333</th>\n",
       "      <td>14.0</td>\n",
       "      <td>11.0</td>\n",
       "      <td>903.100</td>\n",
       "      <td>1</td>\n",
       "      <td>Highly Potential Churn</td>\n",
       "    </tr>\n",
       "  </tbody>\n",
       "</table>\n",
       "</div>"
      ],
      "text/plain": [
       "             Recency  Frequency  Monetary  label           Customer_Type\n",
       "Customer_ID                                                             \n",
       "504316          25.0        9.0   496.821      1  Highly Potential Churn\n",
       "504318           9.0       11.0   685.317      1  Highly Potential Churn\n",
       "504320          17.0        9.0   878.577      1  Highly Potential Churn\n",
       "504330           6.0        8.0   543.888      1  Highly Potential Churn\n",
       "504333          14.0       11.0   903.100      1  Highly Potential Churn"
      ]
     },
     "execution_count": 88,
     "metadata": {},
     "output_type": "execute_result"
    }
   ],
   "source": [
    "# Create function to assign the label\n",
    "def assign_label(value):\n",
    "    \"\"\"\n",
    "    Function to assign cluster label\n",
    "    \n",
    "    Parameters:\n",
    "    ----------    \n",
    "    value : int\n",
    "        Number cluster\n",
    "\n",
    "    Returns:\n",
    "    --------\n",
    "    label : str\n",
    "        Label of cluster (Middle Customer, Highly Potential Churn, and Enthusiastic Customer)\n",
    "    \n",
    "    \"\"\"\n",
    "    if value == 0:\n",
    "        return \"Middle Customer\"\n",
    "    elif value == 1:\n",
    "        return \"Highly Potential Churn\"\n",
    "    else:\n",
    "        return \"Enthusiastic Customer\"\n",
    "# Create a column 'Customer_Type' based on 'K_Cluster' values\n",
    "cluster_df[\"Customer_Type\"] = cluster_df['label'].apply(assign_label)\n",
    "\n",
    "# Check the result\n",
    "cluster_df.head()"
   ]
  },
  {
   "cell_type": "code",
   "execution_count": 89,
   "metadata": {},
   "outputs": [
    {
     "data": {
      "image/png": "[encoded data removed]",
      "text/plain": [
       "<Figure size 1000x2000 with 3 Axes>"
      ]
     },
     "metadata": {},
     "output_type": "display_data"
    }
   ],
   "source": [
    "# Plot the boxplot\n",
    "fig, axes = plt.subplots(nrows=3, ncols=1, figsize=(10,20))\n",
    "\n",
    "# Iterate to all columns\n",
    "for i, column in enumerate(['Recency', 'Frequency', 'Monetary']):\n",
    "    sns.boxplot(data = cluster_df,\n",
    "                y = 'Customer_Type',\n",
    "                x = column,\n",
    "                ax = axes[i])\n",
    "    \n",
    "    axes[i].set_title(f'{column} Distribution')\n",
    "\n",
    "plt.tight_layout()\n",
    "plt.show()"
   ]
  },
  {
   "cell_type": "markdown",
   "metadata": {},
   "source": [
    "#### General Recommendation"
   ]
  },
  {
   "cell_type": "markdown",
   "metadata": {},
   "source": [
    "**Enthusiastic Customer**\n",
    "\n",
    "---\n",
    "\n",
    "- General Characteristic (Low recency, high frequency & monetary)\n",
    "  - Recency : 2 days\n",
    "  - Frequency : 146 transactions\n",
    "  - Monetary : \\$ 8462\n",
    "\n",
    "- General marketing initiatives:\n",
    "  - Offer devoted account managers or individualized help to address their particular demands.\n",
    "  - Provide tailored product suggestions based on their previous purchases.\n",
    "  - Establish a customer loyalty program with tiers of prizes and special advantages."
   ]
  },
  {
   "cell_type": "markdown",
   "metadata": {},
   "source": [
    "**Middle Customers**\n",
    "\n",
    "---\n",
    "\n",
    "- General Characteristic (Low recency, medium frequency & monetary)\n",
    "  - Recency : 3 days\n",
    "  - Frequency : 60 transactions \n",
    "  - Monetary : \\$ 3484\n",
    "\n",
    "\n",
    "- General marketing initiatives:\n",
    "  - Encourage people to sample your goods or services by providing them with free trials, demos, or introductory discounts."
   ]
  },
  {
   "cell_type": "markdown",
   "metadata": {},
   "source": [
    "**Highly Potential Churn**\n",
    "\n",
    "---\n",
    "\n",
    "- General Characteristic (high recency, low frequency & monetary)\n",
    "  - Recency : 14 days\n",
    "  - Frequency : 34 transactions\n",
    "  - Monetary : \\$ 1920\n",
    "\n",
    "\n",
    "- General Marketing initiative:\n",
    "  - Implement a proactive customer outreach program to answer any complaints or issues they may have. \n",
    "  - Conduct surveys or feedback campaigns to better understand their wants and preferences. \n",
    "  - Use discount promotional campaigns to entice them to make a purchase."
   ]
  },
  {
   "cell_type": "markdown",
   "metadata": {},
   "source": [
    "## In-Depth Analysis and Recommendation"
   ]
  },
  {
   "cell_type": "markdown",
   "metadata": {},
   "source": [
    "- We wish to analyze the RFM data in a more focused manner.\n",
    "- Before making any precise recommendations, we wish to undertake an analysis and take into account a variety of factors, such as short-term and long-term games.\n",
    "- based on the analysis, choose appropriate business advice and undertake marketing strategies."
   ]
  },
  {
   "cell_type": "code",
   "execution_count": 90,
   "metadata": {},
   "outputs": [],
   "source": [
    "# Use inverse scaling to the clean_data\n",
    "clean_df_ori = pd.DataFrame(scaler.inverse_transform(clean_df))\n",
    "\n",
    "# Replace original index to new dataframe\n",
    "clean_df_ori.index = clean_df.index\n",
    "\n",
    "# Replace original column names to new dataframe\n",
    "clean_df_ori.columns = clean_df.columns\n"
   ]
  },
  {
   "cell_type": "code",
   "execution_count": 91,
   "metadata": {},
   "outputs": [
    {
     "data": {
      "text/html": [
       "<div>\n",
       "<style scoped>\n",
       "    .dataframe tbody tr th:only-of-type {\n",
       "        vertical-align: middle;\n",
       "    }\n",
       "\n",
       "    .dataframe tbody tr th {\n",
       "        vertical-align: top;\n",
       "    }\n",
       "\n",
       "    .dataframe thead th {\n",
       "        text-align: right;\n",
       "    }\n",
       "</style>\n",
       "<table border=\"1\" class=\"dataframe\">\n",
       "  <thead>\n",
       "    <tr style=\"text-align: right;\">\n",
       "      <th></th>\n",
       "      <th>Recency</th>\n",
       "      <th>Frequency</th>\n",
       "      <th>Monetary</th>\n",
       "    </tr>\n",
       "    <tr>\n",
       "      <th>Customer_ID</th>\n",
       "      <th></th>\n",
       "      <th></th>\n",
       "      <th></th>\n",
       "    </tr>\n",
       "  </thead>\n",
       "  <tbody>\n",
       "    <tr>\n",
       "      <th>504316</th>\n",
       "      <td>25.0</td>\n",
       "      <td>9.0</td>\n",
       "      <td>496.821</td>\n",
       "    </tr>\n",
       "    <tr>\n",
       "      <th>504318</th>\n",
       "      <td>9.0</td>\n",
       "      <td>11.0</td>\n",
       "      <td>685.317</td>\n",
       "    </tr>\n",
       "    <tr>\n",
       "      <th>504320</th>\n",
       "      <td>17.0</td>\n",
       "      <td>9.0</td>\n",
       "      <td>878.577</td>\n",
       "    </tr>\n",
       "    <tr>\n",
       "      <th>504330</th>\n",
       "      <td>6.0</td>\n",
       "      <td>8.0</td>\n",
       "      <td>543.888</td>\n",
       "    </tr>\n",
       "    <tr>\n",
       "      <th>504333</th>\n",
       "      <td>14.0</td>\n",
       "      <td>11.0</td>\n",
       "      <td>903.100</td>\n",
       "    </tr>\n",
       "  </tbody>\n",
       "</table>\n",
       "</div>"
      ],
      "text/plain": [
       "             Recency  Frequency  Monetary\n",
       "Customer_ID                              \n",
       "504316          25.0        9.0   496.821\n",
       "504318           9.0       11.0   685.317\n",
       "504320          17.0        9.0   878.577\n",
       "504330           6.0        8.0   543.888\n",
       "504333          14.0       11.0   903.100"
      ]
     },
     "execution_count": 91,
     "metadata": {},
     "output_type": "execute_result"
    }
   ],
   "source": [
    "# Print the clean data\n",
    "clean_df_ori.head()"
   ]
  },
  {
   "cell_type": "markdown",
   "metadata": {},
   "source": [
    "## In-Depth Analysis"
   ]
  },
  {
   "cell_type": "markdown",
   "metadata": {},
   "source": [
    "- We want to know how most customers purchase behavior\n",
    "- We want to make foundation for specific recommendation based on specific condition and segment"
   ]
  },
  {
   "cell_type": "code",
   "execution_count": 92,
   "metadata": {},
   "outputs": [
    {
     "data": {
      "text/html": [
       "<div>\n",
       "<style scoped>\n",
       "    .dataframe tbody tr th:only-of-type {\n",
       "        vertical-align: middle;\n",
       "    }\n",
       "\n",
       "    .dataframe tbody tr th {\n",
       "        vertical-align: top;\n",
       "    }\n",
       "\n",
       "    .dataframe thead th {\n",
       "        text-align: right;\n",
       "    }\n",
       "</style>\n",
       "<table border=\"1\" class=\"dataframe\">\n",
       "  <thead>\n",
       "    <tr style=\"text-align: right;\">\n",
       "      <th></th>\n",
       "      <th>Recency</th>\n",
       "      <th>Frequency</th>\n",
       "      <th>Monetary</th>\n",
       "    </tr>\n",
       "  </thead>\n",
       "  <tbody>\n",
       "    <tr>\n",
       "      <th>count</th>\n",
       "      <td>733.000000</td>\n",
       "      <td>733.000000</td>\n",
       "      <td>733.000000</td>\n",
       "    </tr>\n",
       "    <tr>\n",
       "      <th>mean</th>\n",
       "      <td>5.038199</td>\n",
       "      <td>85.377899</td>\n",
       "      <td>4944.521000</td>\n",
       "    </tr>\n",
       "    <tr>\n",
       "      <th>std</th>\n",
       "      <td>5.841828</td>\n",
       "      <td>53.359748</td>\n",
       "      <td>3102.858155</td>\n",
       "    </tr>\n",
       "    <tr>\n",
       "      <th>min</th>\n",
       "      <td>0.000000</td>\n",
       "      <td>7.000000</td>\n",
       "      <td>419.437000</td>\n",
       "    </tr>\n",
       "    <tr>\n",
       "      <th>25%</th>\n",
       "      <td>1.000000</td>\n",
       "      <td>39.000000</td>\n",
       "      <td>2203.387000</td>\n",
       "    </tr>\n",
       "    <tr>\n",
       "      <th>50%</th>\n",
       "      <td>3.000000</td>\n",
       "      <td>77.000000</td>\n",
       "      <td>4443.646000</td>\n",
       "    </tr>\n",
       "    <tr>\n",
       "      <th>75%</th>\n",
       "      <td>7.000000</td>\n",
       "      <td>128.000000</td>\n",
       "      <td>7399.816000</td>\n",
       "    </tr>\n",
       "    <tr>\n",
       "      <th>max</th>\n",
       "      <td>28.000000</td>\n",
       "      <td>210.000000</td>\n",
       "      <td>13037.662000</td>\n",
       "    </tr>\n",
       "  </tbody>\n",
       "</table>\n",
       "</div>"
      ],
      "text/plain": [
       "          Recency   Frequency      Monetary\n",
       "count  733.000000  733.000000    733.000000\n",
       "mean     5.038199   85.377899   4944.521000\n",
       "std      5.841828   53.359748   3102.858155\n",
       "min      0.000000    7.000000    419.437000\n",
       "25%      1.000000   39.000000   2203.387000\n",
       "50%      3.000000   77.000000   4443.646000\n",
       "75%      7.000000  128.000000   7399.816000\n",
       "max     28.000000  210.000000  13037.662000"
      ]
     },
     "execution_count": 92,
     "metadata": {},
     "output_type": "execute_result"
    }
   ],
   "source": [
    "# Show description statistics\n",
    "clean_df_ori.describe()"
   ]
  },
  {
   "cell_type": "code",
   "execution_count": 93,
   "metadata": {},
   "outputs": [
    {
     "data": {
      "text/plain": [
       "Text(0.5, 1.0, 'Recency Distribution')"
      ]
     },
     "execution_count": 93,
     "metadata": {},
     "output_type": "execute_result"
    },
    {
     "data": {
      "image/png": "[encoded data removed]",
      "text/plain": [
       "<Figure size 1000x1000 with 1 Axes>"
      ]
     },
     "metadata": {},
     "output_type": "display_data"
    }
   ],
   "source": [
    "# Plot recency\n",
    "plt.figure(figsize=(10,10))\n",
    "sns.histplot(clean_df_ori['Recency'])\n",
    "plt.title('Recency Distribution', fontsize=15)"
   ]
  },
  {
   "cell_type": "markdown",
   "metadata": {},
   "source": [
    "- The majority of customers shop recently\n",
    "- The highest count is customers who shop less than 5 days ago\n",
    "- It good for the business, low recency customers are more likely to make transaction when we give them marketing initiative"
   ]
  },
  {
   "cell_type": "code",
   "execution_count": 94,
   "metadata": {},
   "outputs": [
    {
     "data": {
      "text/plain": [
       "Text(0.5, 1.0, 'Monetary Distribution')"
      ]
     },
     "execution_count": 94,
     "metadata": {},
     "output_type": "execute_result"
    },
    {
     "data": {
      "image/png": "[encoded data removed]",
      "text/plain": [
       "<Figure size 1000x1000 with 1 Axes>"
      ]
     },
     "metadata": {},
     "output_type": "display_data"
    }
   ],
   "source": [
    "# Plot monetary\n",
    "plt.figure(figsize=(10,10))\n",
    "sns.histplot(clean_df_ori['Monetary'])\n",
    "plt.title('Monetary Distribution', fontsize=15)\n"
   ]
  },
  {
   "cell_type": "markdown",
   "metadata": {},
   "source": [
    "- The average consumer spends between $419 and $7400 (min - quantile 0.75).\n",
    "- It's rather expensive for a one-year purchase."
   ]
  },
  {
   "cell_type": "code",
   "execution_count": 95,
   "metadata": {},
   "outputs": [
    {
     "data": {
      "text/plain": [
       "Text(0.5, 1.0, 'Frequency Distribution')"
      ]
     },
     "execution_count": 95,
     "metadata": {},
     "output_type": "execute_result"
    },
    {
     "data": {
      "image/png": "[encoded data removed]",
      "text/plain": [
       "<Figure size 1000x1000 with 1 Axes>"
      ]
     },
     "metadata": {},
     "output_type": "display_data"
    }
   ],
   "source": [
    "# Plot monetary\n",
    "plt.figure(figsize=(10,10))\n",
    "sns.histplot(clean_df_ori['Frequency'])\n",
    "plt.title('Frequency Distribution', fontsize=15)"
   ]
  },
  {
   "cell_type": "markdown",
   "metadata": {},
   "source": [
    "- Most customers spend around 7 - 128 times\n",
    "- It's relatively very high for 1 year transaction"
   ]
  },
  {
   "cell_type": "markdown",
   "metadata": {},
   "source": [
    "**RFM with true values**"
   ]
  },
  {
   "cell_type": "code",
   "execution_count": 96,
   "metadata": {},
   "outputs": [
    {
     "data": {
      "text/html": [
       "<div>\n",
       "<style scoped>\n",
       "    .dataframe tbody tr th:only-of-type {\n",
       "        vertical-align: middle;\n",
       "    }\n",
       "\n",
       "    .dataframe tbody tr th {\n",
       "        vertical-align: top;\n",
       "    }\n",
       "\n",
       "    .dataframe thead th {\n",
       "        text-align: right;\n",
       "    }\n",
       "</style>\n",
       "<table border=\"1\" class=\"dataframe\">\n",
       "  <thead>\n",
       "    <tr style=\"text-align: right;\">\n",
       "      <th></th>\n",
       "      <th>Recency</th>\n",
       "      <th>Frequency</th>\n",
       "      <th>Monetary</th>\n",
       "      <th>label</th>\n",
       "      <th>Customer_Type</th>\n",
       "    </tr>\n",
       "    <tr>\n",
       "      <th>Customer_ID</th>\n",
       "      <th></th>\n",
       "      <th></th>\n",
       "      <th></th>\n",
       "      <th></th>\n",
       "      <th></th>\n",
       "    </tr>\n",
       "  </thead>\n",
       "  <tbody>\n",
       "    <tr>\n",
       "      <th>504316</th>\n",
       "      <td>25.0</td>\n",
       "      <td>9.0</td>\n",
       "      <td>496.821</td>\n",
       "      <td>1</td>\n",
       "      <td>Highly Potential Churn</td>\n",
       "    </tr>\n",
       "    <tr>\n",
       "      <th>504318</th>\n",
       "      <td>9.0</td>\n",
       "      <td>11.0</td>\n",
       "      <td>685.317</td>\n",
       "      <td>1</td>\n",
       "      <td>Highly Potential Churn</td>\n",
       "    </tr>\n",
       "    <tr>\n",
       "      <th>504320</th>\n",
       "      <td>17.0</td>\n",
       "      <td>9.0</td>\n",
       "      <td>878.577</td>\n",
       "      <td>1</td>\n",
       "      <td>Highly Potential Churn</td>\n",
       "    </tr>\n",
       "    <tr>\n",
       "      <th>504330</th>\n",
       "      <td>6.0</td>\n",
       "      <td>8.0</td>\n",
       "      <td>543.888</td>\n",
       "      <td>1</td>\n",
       "      <td>Highly Potential Churn</td>\n",
       "    </tr>\n",
       "    <tr>\n",
       "      <th>504333</th>\n",
       "      <td>14.0</td>\n",
       "      <td>11.0</td>\n",
       "      <td>903.100</td>\n",
       "      <td>1</td>\n",
       "      <td>Highly Potential Churn</td>\n",
       "    </tr>\n",
       "  </tbody>\n",
       "</table>\n",
       "</div>"
      ],
      "text/plain": [
       "             Recency  Frequency  Monetary  label           Customer_Type\n",
       "Customer_ID                                                             \n",
       "504316          25.0        9.0   496.821      1  Highly Potential Churn\n",
       "504318           9.0       11.0   685.317      1  Highly Potential Churn\n",
       "504320          17.0        9.0   878.577      1  Highly Potential Churn\n",
       "504330           6.0        8.0   543.888      1  Highly Potential Churn\n",
       "504333          14.0       11.0   903.100      1  Highly Potential Churn"
      ]
     },
     "execution_count": 96,
     "metadata": {},
     "output_type": "execute_result"
    }
   ],
   "source": [
    "# Print clustered data\n",
    "cluster_df.head()"
   ]
  },
  {
   "cell_type": "code",
   "execution_count": 97,
   "metadata": {},
   "outputs": [],
   "source": [
    "# Calculate average value of all RFM_Level for each segment\n",
    "rfm_agg = cluster_df.groupby('Customer_Type').agg({\n",
    "    'Recency':'mean',\n",
    "    'Frequency':'mean',\n",
    "    'Monetary':'mean',\n",
    "    'label':'count'\n",
    "}).round(1)\n",
    "\n",
    "# Change name column\n",
    "rfm_agg.columns = ['Recency', 'Frequency', 'Monetary', 'Count Customers']"
   ]
  },
  {
   "cell_type": "code",
   "execution_count": 98,
   "metadata": {},
   "outputs": [
    {
     "data": {
      "text/html": [
       "<div>\n",
       "<style scoped>\n",
       "    .dataframe tbody tr th:only-of-type {\n",
       "        vertical-align: middle;\n",
       "    }\n",
       "\n",
       "    .dataframe tbody tr th {\n",
       "        vertical-align: top;\n",
       "    }\n",
       "\n",
       "    .dataframe thead th {\n",
       "        text-align: right;\n",
       "    }\n",
       "</style>\n",
       "<table border=\"1\" class=\"dataframe\">\n",
       "  <thead>\n",
       "    <tr style=\"text-align: right;\">\n",
       "      <th></th>\n",
       "      <th>Recency</th>\n",
       "      <th>Frequency</th>\n",
       "      <th>Monetary</th>\n",
       "      <th>Count Customers</th>\n",
       "    </tr>\n",
       "    <tr>\n",
       "      <th>Customer_Type</th>\n",
       "      <th></th>\n",
       "      <th></th>\n",
       "      <th></th>\n",
       "      <th></th>\n",
       "    </tr>\n",
       "  </thead>\n",
       "  <tbody>\n",
       "    <tr>\n",
       "      <th>Enthusiastic Customer</th>\n",
       "      <td>1.8</td>\n",
       "      <td>146.2</td>\n",
       "      <td>8461.5</td>\n",
       "      <td>266</td>\n",
       "    </tr>\n",
       "    <tr>\n",
       "      <th>Highly Potential Churn</th>\n",
       "      <td>14.2</td>\n",
       "      <td>33.8</td>\n",
       "      <td>1919.9</td>\n",
       "      <td>162</td>\n",
       "    </tr>\n",
       "    <tr>\n",
       "      <th>Middle Customer</th>\n",
       "      <td>3.0</td>\n",
       "      <td>59.8</td>\n",
       "      <td>3483.8</td>\n",
       "      <td>305</td>\n",
       "    </tr>\n",
       "  </tbody>\n",
       "</table>\n",
       "</div>"
      ],
      "text/plain": [
       "                        Recency  Frequency  Monetary  Count Customers\n",
       "Customer_Type                                                        \n",
       "Enthusiastic Customer       1.8      146.2    8461.5              266\n",
       "Highly Potential Churn     14.2       33.8    1919.9              162\n",
       "Middle Customer             3.0       59.8    3483.8              305"
      ]
     },
     "execution_count": 98,
     "metadata": {},
     "output_type": "execute_result"
    }
   ],
   "source": [
    "# Print data\n",
    "rfm_agg"
   ]
  },
  {
   "cell_type": "markdown",
   "metadata": {},
   "source": [
    "Using the mean value, we were able to determine each customer's characteristics. Enthusiastic Customers provide the highest average income per segment, but Middle Customers make up the majority of our clientele."
   ]
  },
  {
   "cell_type": "code",
   "execution_count": 99,
   "metadata": {},
   "outputs": [
    {
     "data": {
      "text/html": [
       "<div>\n",
       "<style scoped>\n",
       "    .dataframe tbody tr th:only-of-type {\n",
       "        vertical-align: middle;\n",
       "    }\n",
       "\n",
       "    .dataframe tbody tr th {\n",
       "        vertical-align: top;\n",
       "    }\n",
       "\n",
       "    .dataframe thead th {\n",
       "        text-align: right;\n",
       "    }\n",
       "</style>\n",
       "<table border=\"1\" class=\"dataframe\">\n",
       "  <thead>\n",
       "    <tr style=\"text-align: right;\">\n",
       "      <th></th>\n",
       "      <th>Recency</th>\n",
       "      <th>Frequency</th>\n",
       "      <th>Monetary</th>\n",
       "      <th>Count Customers</th>\n",
       "      <th>percentage revenue</th>\n",
       "    </tr>\n",
       "    <tr>\n",
       "      <th>Customer_Type</th>\n",
       "      <th></th>\n",
       "      <th></th>\n",
       "      <th></th>\n",
       "      <th></th>\n",
       "      <th></th>\n",
       "    </tr>\n",
       "  </thead>\n",
       "  <tbody>\n",
       "    <tr>\n",
       "      <th>Enthusiastic Customer</th>\n",
       "      <td>1.8</td>\n",
       "      <td>146.2</td>\n",
       "      <td>8461.5</td>\n",
       "      <td>266</td>\n",
       "      <td>62.10</td>\n",
       "    </tr>\n",
       "    <tr>\n",
       "      <th>Highly Potential Churn</th>\n",
       "      <td>14.2</td>\n",
       "      <td>33.8</td>\n",
       "      <td>1919.9</td>\n",
       "      <td>162</td>\n",
       "      <td>8.58</td>\n",
       "    </tr>\n",
       "    <tr>\n",
       "      <th>Middle Customer</th>\n",
       "      <td>3.0</td>\n",
       "      <td>59.8</td>\n",
       "      <td>3483.8</td>\n",
       "      <td>305</td>\n",
       "      <td>29.32</td>\n",
       "    </tr>\n",
       "  </tbody>\n",
       "</table>\n",
       "</div>"
      ],
      "text/plain": [
       "                        Recency  Frequency  Monetary  Count Customers  \\\n",
       "Customer_Type                                                           \n",
       "Enthusiastic Customer       1.8      146.2    8461.5              266   \n",
       "Highly Potential Churn     14.2       33.8    1919.9              162   \n",
       "Middle Customer             3.0       59.8    3483.8              305   \n",
       "\n",
       "                        percentage revenue  \n",
       "Customer_Type                               \n",
       "Enthusiastic Customer                62.10  \n",
       "Highly Potential Churn                8.58  \n",
       "Middle Customer                      29.32  "
      ]
     },
     "execution_count": 99,
     "metadata": {},
     "output_type": "execute_result"
    }
   ],
   "source": [
    "# Calculate the revenue percentage per segmentss\n",
    "rfm_agg['percentage revenue'] = np.round(rfm_agg['Monetary']*rfm_agg['Count Customers']/(rfm_agg['Monetary']*rfm_agg['Count Customers']).sum()*100,2)\n",
    "\n",
    "# Print the data\n",
    "rfm_agg"
   ]
  },
  {
   "cell_type": "markdown",
   "metadata": {},
   "source": [
    "The Enthusiastic Customer category generates the majority of our revenue. **In short term**, we can concentrate on giving marketing effort to **Enthusiastic & Middle Customers** with a variety of promotion: We need to retail all of our customers, for instance by discounts, upselling, and cross-selling. Simply said, we should be aware of the reasons why customers leave or remain with our business, provide them loyalty programs tailored to their needs, and engage possible churn customers in discount promotions.\n",
    "\n",
    "<br>\n",
    "\n",
    "We'll provide precise advice for this situation."
   ]
  },
  {
   "cell_type": "markdown",
   "metadata": {},
   "source": [
    "In this analysis, we want to know\n",
    "- the average price every segment in raw data\n",
    "- the average quanity order each segment in raw data"
   ]
  },
  {
   "cell_type": "code",
   "execution_count": 100,
   "metadata": {},
   "outputs": [
    {
     "data": {
      "text/html": [
       "<div>\n",
       "<style scoped>\n",
       "    .dataframe tbody tr th:only-of-type {\n",
       "        vertical-align: middle;\n",
       "    }\n",
       "\n",
       "    .dataframe tbody tr th {\n",
       "        vertical-align: top;\n",
       "    }\n",
       "\n",
       "    .dataframe thead th {\n",
       "        text-align: right;\n",
       "    }\n",
       "</style>\n",
       "<table border=\"1\" class=\"dataframe\">\n",
       "  <thead>\n",
       "    <tr style=\"text-align: right;\">\n",
       "      <th></th>\n",
       "      <th>Customer_ID</th>\n",
       "      <th>Customer_Type</th>\n",
       "    </tr>\n",
       "  </thead>\n",
       "  <tbody>\n",
       "    <tr>\n",
       "      <th>0</th>\n",
       "      <td>504316</td>\n",
       "      <td>Highly Potential Churn</td>\n",
       "    </tr>\n",
       "    <tr>\n",
       "      <th>1</th>\n",
       "      <td>504318</td>\n",
       "      <td>Highly Potential Churn</td>\n",
       "    </tr>\n",
       "    <tr>\n",
       "      <th>2</th>\n",
       "      <td>504320</td>\n",
       "      <td>Highly Potential Churn</td>\n",
       "    </tr>\n",
       "    <tr>\n",
       "      <th>3</th>\n",
       "      <td>504330</td>\n",
       "      <td>Highly Potential Churn</td>\n",
       "    </tr>\n",
       "    <tr>\n",
       "      <th>4</th>\n",
       "      <td>504333</td>\n",
       "      <td>Highly Potential Churn</td>\n",
       "    </tr>\n",
       "  </tbody>\n",
       "</table>\n",
       "</div>"
      ],
      "text/plain": [
       "   Customer_ID           Customer_Type\n",
       "0       504316  Highly Potential Churn\n",
       "1       504318  Highly Potential Churn\n",
       "2       504320  Highly Potential Churn\n",
       "3       504330  Highly Potential Churn\n",
       "4       504333  Highly Potential Churn"
      ]
     },
     "execution_count": 100,
     "metadata": {},
     "output_type": "execute_result"
    }
   ],
   "source": [
    "# Create the copy of cluster_df\n",
    "customer_segmentation = cluster_df.copy().reset_index()\n",
    "\n",
    "# Use customer id and customer type\n",
    "customer_segmentation = customer_segmentation[['Customer_ID', 'Customer_Type']]\n",
    "\n",
    "# Print data\n",
    "customer_segmentation.head()"
   ]
  },
  {
   "cell_type": "code",
   "execution_count": 101,
   "metadata": {},
   "outputs": [
    {
     "data": {
      "text/html": [
       "<div>\n",
       "<style scoped>\n",
       "    .dataframe tbody tr th:only-of-type {\n",
       "        vertical-align: middle;\n",
       "    }\n",
       "\n",
       "    .dataframe tbody tr th {\n",
       "        vertical-align: top;\n",
       "    }\n",
       "\n",
       "    .dataframe thead th {\n",
       "        text-align: right;\n",
       "    }\n",
       "</style>\n",
       "<table border=\"1\" class=\"dataframe\">\n",
       "  <thead>\n",
       "    <tr style=\"text-align: right;\">\n",
       "      <th></th>\n",
       "      <th>Customer_ID</th>\n",
       "      <th>Invoice</th>\n",
       "      <th>Age</th>\n",
       "      <th>Gender</th>\n",
       "      <th>Revenue_Total</th>\n",
       "      <th>N_Purchases</th>\n",
       "      <th>Purchase_DATE</th>\n",
       "      <th>Purchase_VALUE</th>\n",
       "      <th>Pay_Method</th>\n",
       "      <th>Time_Spent</th>\n",
       "      <th>Browser</th>\n",
       "      <th>Newsletter</th>\n",
       "      <th>Voucher</th>\n",
       "    </tr>\n",
       "  </thead>\n",
       "  <tbody>\n",
       "    <tr>\n",
       "      <th>86</th>\n",
       "      <td>504309</td>\n",
       "      <td>489634</td>\n",
       "      <td>18</td>\n",
       "      <td>Female</td>\n",
       "      <td>20.9</td>\n",
       "      <td>6</td>\n",
       "      <td>2021-04-22</td>\n",
       "      <td>18.183</td>\n",
       "      <td>Cards</td>\n",
       "      <td>271</td>\n",
       "      <td>Chrome</td>\n",
       "      <td>Not Subsribed</td>\n",
       "      <td>Not Used</td>\n",
       "    </tr>\n",
       "    <tr>\n",
       "      <th>87</th>\n",
       "      <td>504309</td>\n",
       "      <td>489635</td>\n",
       "      <td>62</td>\n",
       "      <td>Female</td>\n",
       "      <td>24.3</td>\n",
       "      <td>2</td>\n",
       "      <td>2021-10-27</td>\n",
       "      <td>16.524</td>\n",
       "      <td>Cards</td>\n",
       "      <td>168</td>\n",
       "      <td>Others</td>\n",
       "      <td>Not Subsribed</td>\n",
       "      <td>Used</td>\n",
       "    </tr>\n",
       "    <tr>\n",
       "      <th>88</th>\n",
       "      <td>504311</td>\n",
       "      <td>489636</td>\n",
       "      <td>17</td>\n",
       "      <td>Female</td>\n",
       "      <td>28.0</td>\n",
       "      <td>6</td>\n",
       "      <td>2021-11-29</td>\n",
       "      <td>22.680</td>\n",
       "      <td>Digital Wallets</td>\n",
       "      <td>269</td>\n",
       "      <td>Chrome</td>\n",
       "      <td>Not Subsribed</td>\n",
       "      <td>Not Used</td>\n",
       "    </tr>\n",
       "    <tr>\n",
       "      <th>89</th>\n",
       "      <td>504315</td>\n",
       "      <td>489637</td>\n",
       "      <td>21</td>\n",
       "      <td>Male</td>\n",
       "      <td>6.8</td>\n",
       "      <td>1</td>\n",
       "      <td>2021-09-02</td>\n",
       "      <td>6.800</td>\n",
       "      <td>Cards</td>\n",
       "      <td>932</td>\n",
       "      <td>Chrome</td>\n",
       "      <td>Not Subsribed</td>\n",
       "      <td>Not Used</td>\n",
       "    </tr>\n",
       "    <tr>\n",
       "      <th>90</th>\n",
       "      <td>504316</td>\n",
       "      <td>489638</td>\n",
       "      <td>26</td>\n",
       "      <td>Female</td>\n",
       "      <td>5.1</td>\n",
       "      <td>6</td>\n",
       "      <td>2021-10-25</td>\n",
       "      <td>3.723</td>\n",
       "      <td>Paypal</td>\n",
       "      <td>1005</td>\n",
       "      <td>Chrome</td>\n",
       "      <td>Not Subsribed</td>\n",
       "      <td>Used</td>\n",
       "    </tr>\n",
       "  </tbody>\n",
       "</table>\n",
       "</div>"
      ],
      "text/plain": [
       "    Customer_ID  Invoice  Age  Gender  Revenue_Total  N_Purchases  \\\n",
       "86       504309   489634   18  Female           20.9            6   \n",
       "87       504309   489635   62  Female           24.3            2   \n",
       "88       504311   489636   17  Female           28.0            6   \n",
       "89       504315   489637   21    Male            6.8            1   \n",
       "90       504316   489638   26  Female            5.1            6   \n",
       "\n",
       "   Purchase_DATE  Purchase_VALUE       Pay_Method  Time_Spent Browser  \\\n",
       "86    2021-04-22          18.183            Cards         271  Chrome   \n",
       "87    2021-10-27          16.524            Cards         168  Others   \n",
       "88    2021-11-29          22.680  Digital Wallets         269  Chrome   \n",
       "89    2021-09-02           6.800            Cards         932  Chrome   \n",
       "90    2021-10-25           3.723           Paypal        1005  Chrome   \n",
       "\n",
       "       Newsletter   Voucher  \n",
       "86  Not Subsribed  Not Used  \n",
       "87  Not Subsribed      Used  \n",
       "88  Not Subsribed  Not Used  \n",
       "89  Not Subsribed  Not Used  \n",
       "90  Not Subsribed      Used  "
      ]
     },
     "execution_count": 101,
     "metadata": {},
     "output_type": "execute_result"
    }
   ],
   "source": [
    "# Create the copy of data\n",
    "df_trx = retail_df.copy()\n",
    "\n",
    "# Drop missing values\n",
    "df_trx = df_trx.dropna()\n",
    "\n",
    "# Typecasting Customer_ID as int\n",
    "df_trx['Customer_ID'] = df_trx['Customer_ID'].astype(int)\n",
    "\n",
    "# Print the data\n",
    "df_trx.head()"
   ]
  },
  {
   "cell_type": "code",
   "execution_count": 102,
   "metadata": {},
   "outputs": [
    {
     "data": {
      "text/plain": [
       "Customer_ID       0\n",
       "Invoice           0\n",
       "Age               0\n",
       "Gender            0\n",
       "Revenue_Total     0\n",
       "N_Purchases       0\n",
       "Purchase_DATE     0\n",
       "Purchase_VALUE    0\n",
       "Pay_Method        0\n",
       "Time_Spent        0\n",
       "Browser           0\n",
       "Newsletter        0\n",
       "Voucher           0\n",
       "dtype: int64"
      ]
     },
     "execution_count": 102,
     "metadata": {},
     "output_type": "execute_result"
    }
   ],
   "source": [
    "# Check missing values\n",
    "df_trx.isna().sum()"
   ]
  },
  {
   "cell_type": "code",
   "execution_count": 103,
   "metadata": {},
   "outputs": [],
   "source": [
    "# Merge df_trx with customer_segmentation on customer_id column\n",
    "df_trx = df_trx.merge(customer_segmentation[['Customer_ID', 'Customer_Type']], on='Customer_ID', how='left')"
   ]
  },
  {
   "cell_type": "code",
   "execution_count": 105,
   "metadata": {},
   "outputs": [
    {
     "data": {
      "text/html": [
       "<div>\n",
       "<style scoped>\n",
       "    .dataframe tbody tr th:only-of-type {\n",
       "        vertical-align: middle;\n",
       "    }\n",
       "\n",
       "    .dataframe tbody tr th {\n",
       "        vertical-align: top;\n",
       "    }\n",
       "\n",
       "    .dataframe thead th {\n",
       "        text-align: right;\n",
       "    }\n",
       "</style>\n",
       "<table border=\"1\" class=\"dataframe\">\n",
       "  <thead>\n",
       "    <tr style=\"text-align: right;\">\n",
       "      <th></th>\n",
       "      <th>Customer_ID</th>\n",
       "      <th>Invoice</th>\n",
       "      <th>Age</th>\n",
       "      <th>Gender</th>\n",
       "      <th>Revenue_Total</th>\n",
       "      <th>N_Purchases</th>\n",
       "      <th>Purchase_DATE</th>\n",
       "      <th>Purchase_VALUE</th>\n",
       "      <th>Pay_Method</th>\n",
       "      <th>Time_Spent</th>\n",
       "      <th>Browser</th>\n",
       "      <th>Newsletter</th>\n",
       "      <th>Voucher</th>\n",
       "      <th>Customer_Type</th>\n",
       "    </tr>\n",
       "  </thead>\n",
       "  <tbody>\n",
       "    <tr>\n",
       "      <th>0</th>\n",
       "      <td>504309</td>\n",
       "      <td>489634</td>\n",
       "      <td>18</td>\n",
       "      <td>Female</td>\n",
       "      <td>20.9</td>\n",
       "      <td>6</td>\n",
       "      <td>2021-04-22</td>\n",
       "      <td>18.183</td>\n",
       "      <td>Cards</td>\n",
       "      <td>271</td>\n",
       "      <td>Chrome</td>\n",
       "      <td>Not Subsribed</td>\n",
       "      <td>Not Used</td>\n",
       "      <td>NaN</td>\n",
       "    </tr>\n",
       "    <tr>\n",
       "      <th>1</th>\n",
       "      <td>504309</td>\n",
       "      <td>489635</td>\n",
       "      <td>62</td>\n",
       "      <td>Female</td>\n",
       "      <td>24.3</td>\n",
       "      <td>2</td>\n",
       "      <td>2021-10-27</td>\n",
       "      <td>16.524</td>\n",
       "      <td>Cards</td>\n",
       "      <td>168</td>\n",
       "      <td>Others</td>\n",
       "      <td>Not Subsribed</td>\n",
       "      <td>Used</td>\n",
       "      <td>NaN</td>\n",
       "    </tr>\n",
       "    <tr>\n",
       "      <th>2</th>\n",
       "      <td>504311</td>\n",
       "      <td>489636</td>\n",
       "      <td>17</td>\n",
       "      <td>Female</td>\n",
       "      <td>28.0</td>\n",
       "      <td>6</td>\n",
       "      <td>2021-11-29</td>\n",
       "      <td>22.680</td>\n",
       "      <td>Digital Wallets</td>\n",
       "      <td>269</td>\n",
       "      <td>Chrome</td>\n",
       "      <td>Not Subsribed</td>\n",
       "      <td>Not Used</td>\n",
       "      <td>NaN</td>\n",
       "    </tr>\n",
       "    <tr>\n",
       "      <th>3</th>\n",
       "      <td>504315</td>\n",
       "      <td>489637</td>\n",
       "      <td>21</td>\n",
       "      <td>Male</td>\n",
       "      <td>6.8</td>\n",
       "      <td>1</td>\n",
       "      <td>2021-09-02</td>\n",
       "      <td>6.800</td>\n",
       "      <td>Cards</td>\n",
       "      <td>932</td>\n",
       "      <td>Chrome</td>\n",
       "      <td>Not Subsribed</td>\n",
       "      <td>Not Used</td>\n",
       "      <td>NaN</td>\n",
       "    </tr>\n",
       "    <tr>\n",
       "      <th>4</th>\n",
       "      <td>504316</td>\n",
       "      <td>489638</td>\n",
       "      <td>26</td>\n",
       "      <td>Female</td>\n",
       "      <td>5.1</td>\n",
       "      <td>6</td>\n",
       "      <td>2021-10-25</td>\n",
       "      <td>3.723</td>\n",
       "      <td>Paypal</td>\n",
       "      <td>1005</td>\n",
       "      <td>Chrome</td>\n",
       "      <td>Not Subsribed</td>\n",
       "      <td>Used</td>\n",
       "      <td>Highly Potential Churn</td>\n",
       "    </tr>\n",
       "  </tbody>\n",
       "</table>\n",
       "</div>"
      ],
      "text/plain": [
       "   Customer_ID  Invoice  Age  Gender  Revenue_Total  N_Purchases  \\\n",
       "0       504309   489634   18  Female           20.9            6   \n",
       "1       504309   489635   62  Female           24.3            2   \n",
       "2       504311   489636   17  Female           28.0            6   \n",
       "3       504315   489637   21    Male            6.8            1   \n",
       "4       504316   489638   26  Female            5.1            6   \n",
       "\n",
       "  Purchase_DATE  Purchase_VALUE       Pay_Method  Time_Spent Browser  \\\n",
       "0    2021-04-22          18.183            Cards         271  Chrome   \n",
       "1    2021-10-27          16.524            Cards         168  Others   \n",
       "2    2021-11-29          22.680  Digital Wallets         269  Chrome   \n",
       "3    2021-09-02           6.800            Cards         932  Chrome   \n",
       "4    2021-10-25           3.723           Paypal        1005  Chrome   \n",
       "\n",
       "      Newsletter   Voucher           Customer_Type  \n",
       "0  Not Subsribed  Not Used                     NaN  \n",
       "1  Not Subsribed      Used                     NaN  \n",
       "2  Not Subsribed  Not Used                     NaN  \n",
       "3  Not Subsribed  Not Used                     NaN  \n",
       "4  Not Subsribed      Used  Highly Potential Churn  "
      ]
     },
     "execution_count": 105,
     "metadata": {},
     "output_type": "execute_result"
    }
   ],
   "source": [
    "# Do sanity check\n",
    "df_trx.head()"
   ]
  },
  {
   "cell_type": "code",
   "execution_count": 106,
   "metadata": {},
   "outputs": [
    {
     "data": {
      "text/html": [
       "<div>\n",
       "<style scoped>\n",
       "    .dataframe tbody tr th:only-of-type {\n",
       "        vertical-align: middle;\n",
       "    }\n",
       "\n",
       "    .dataframe tbody tr th {\n",
       "        vertical-align: top;\n",
       "    }\n",
       "\n",
       "    .dataframe thead th {\n",
       "        text-align: right;\n",
       "    }\n",
       "</style>\n",
       "<table border=\"1\" class=\"dataframe\">\n",
       "  <thead>\n",
       "    <tr style=\"text-align: right;\">\n",
       "      <th></th>\n",
       "      <th>Customer_ID</th>\n",
       "      <th>Invoice</th>\n",
       "      <th>Age</th>\n",
       "      <th>Gender</th>\n",
       "      <th>Revenue_Total</th>\n",
       "      <th>N_Purchases</th>\n",
       "      <th>Purchase_DATE</th>\n",
       "      <th>Purchase_VALUE</th>\n",
       "      <th>Pay_Method</th>\n",
       "      <th>Time_Spent</th>\n",
       "      <th>Browser</th>\n",
       "      <th>Newsletter</th>\n",
       "      <th>Voucher</th>\n",
       "      <th>Customer_Type</th>\n",
       "    </tr>\n",
       "  </thead>\n",
       "  <tbody>\n",
       "    <tr>\n",
       "      <th>134</th>\n",
       "      <td>504446</td>\n",
       "      <td>489768</td>\n",
       "      <td>29</td>\n",
       "      <td>Female</td>\n",
       "      <td>9.1</td>\n",
       "      <td>7</td>\n",
       "      <td>2021-09-21</td>\n",
       "      <td>4.368</td>\n",
       "      <td>Cards</td>\n",
       "      <td>767</td>\n",
       "      <td>Chrome</td>\n",
       "      <td>Not Subsribed</td>\n",
       "      <td>Not Used</td>\n",
       "      <td>NaN</td>\n",
       "    </tr>\n",
       "    <tr>\n",
       "      <th>14977</th>\n",
       "      <td>504308</td>\n",
       "      <td>504922</td>\n",
       "      <td>63</td>\n",
       "      <td>Female</td>\n",
       "      <td>37.4</td>\n",
       "      <td>4</td>\n",
       "      <td>2021-03-24</td>\n",
       "      <td>22.066</td>\n",
       "      <td>Paypal</td>\n",
       "      <td>601</td>\n",
       "      <td>Chrome</td>\n",
       "      <td>Not Subsribed</td>\n",
       "      <td>Not Used</td>\n",
       "      <td>NaN</td>\n",
       "    </tr>\n",
       "    <tr>\n",
       "      <th>5542</th>\n",
       "      <td>505188</td>\n",
       "      <td>495288</td>\n",
       "      <td>17</td>\n",
       "      <td>Female</td>\n",
       "      <td>56.5</td>\n",
       "      <td>5</td>\n",
       "      <td>2021-10-27</td>\n",
       "      <td>55.935</td>\n",
       "      <td>Others</td>\n",
       "      <td>806</td>\n",
       "      <td>Safari</td>\n",
       "      <td>Not Subsribed</td>\n",
       "      <td>Not Used</td>\n",
       "      <td>NaN</td>\n",
       "    </tr>\n",
       "    <tr>\n",
       "      <th>10591</th>\n",
       "      <td>504452</td>\n",
       "      <td>500536</td>\n",
       "      <td>25</td>\n",
       "      <td>Female</td>\n",
       "      <td>18.8</td>\n",
       "      <td>5</td>\n",
       "      <td>2021-04-12</td>\n",
       "      <td>18.424</td>\n",
       "      <td>Digital Wallets</td>\n",
       "      <td>565</td>\n",
       "      <td>Chrome</td>\n",
       "      <td>Not Subsribed</td>\n",
       "      <td>Not Used</td>\n",
       "      <td>NaN</td>\n",
       "    </tr>\n",
       "    <tr>\n",
       "      <th>5426</th>\n",
       "      <td>505188</td>\n",
       "      <td>495172</td>\n",
       "      <td>52</td>\n",
       "      <td>Male</td>\n",
       "      <td>17.2</td>\n",
       "      <td>6</td>\n",
       "      <td>2021-04-30</td>\n",
       "      <td>5.848</td>\n",
       "      <td>Cards</td>\n",
       "      <td>534</td>\n",
       "      <td>Chrome</td>\n",
       "      <td>Subsribed</td>\n",
       "      <td>Used</td>\n",
       "      <td>NaN</td>\n",
       "    </tr>\n",
       "  </tbody>\n",
       "</table>\n",
       "</div>"
      ],
      "text/plain": [
       "       Customer_ID  Invoice  Age  Gender  Revenue_Total  N_Purchases  \\\n",
       "134         504446   489768   29  Female            9.1            7   \n",
       "14977       504308   504922   63  Female           37.4            4   \n",
       "5542        505188   495288   17  Female           56.5            5   \n",
       "10591       504452   500536   25  Female           18.8            5   \n",
       "5426        505188   495172   52    Male           17.2            6   \n",
       "\n",
       "      Purchase_DATE  Purchase_VALUE       Pay_Method  Time_Spent Browser  \\\n",
       "134      2021-09-21           4.368            Cards         767  Chrome   \n",
       "14977    2021-03-24          22.066           Paypal         601  Chrome   \n",
       "5542     2021-10-27          55.935           Others         806  Safari   \n",
       "10591    2021-04-12          18.424  Digital Wallets         565  Chrome   \n",
       "5426     2021-04-30           5.848            Cards         534  Chrome   \n",
       "\n",
       "          Newsletter   Voucher Customer_Type  \n",
       "134    Not Subsribed  Not Used           NaN  \n",
       "14977  Not Subsribed  Not Used           NaN  \n",
       "5542   Not Subsribed  Not Used           NaN  \n",
       "10591  Not Subsribed  Not Used           NaN  \n",
       "5426       Subsribed      Used           NaN  "
      ]
     },
     "execution_count": 106,
     "metadata": {},
     "output_type": "execute_result"
    }
   ],
   "source": [
    "# Check the missing value location\n",
    "df_trx[df_trx['Customer_Type'].isna()].sample(5, random_state=41)"
   ]
  },
  {
   "cell_type": "code",
   "execution_count": 107,
   "metadata": {},
   "outputs": [
    {
     "data": {
      "text/html": [
       "<div>\n",
       "<style scoped>\n",
       "    .dataframe tbody tr th:only-of-type {\n",
       "        vertical-align: middle;\n",
       "    }\n",
       "\n",
       "    .dataframe tbody tr th {\n",
       "        vertical-align: top;\n",
       "    }\n",
       "\n",
       "    .dataframe thead tr th {\n",
       "        text-align: left;\n",
       "    }\n",
       "\n",
       "    .dataframe thead tr:last-of-type th {\n",
       "        text-align: right;\n",
       "    }\n",
       "</style>\n",
       "<table border=\"1\" class=\"dataframe\">\n",
       "  <thead>\n",
       "    <tr>\n",
       "      <th></th>\n",
       "      <th colspan=\"3\" halign=\"left\">Purchase_VALUE</th>\n",
       "      <th colspan=\"3\" halign=\"left\">N_Purchases</th>\n",
       "    </tr>\n",
       "    <tr>\n",
       "      <th></th>\n",
       "      <th>min</th>\n",
       "      <th>mean</th>\n",
       "      <th>max</th>\n",
       "      <th>min</th>\n",
       "      <th>mean</th>\n",
       "      <th>max</th>\n",
       "    </tr>\n",
       "    <tr>\n",
       "      <th>Customer_Type</th>\n",
       "      <th></th>\n",
       "      <th></th>\n",
       "      <th></th>\n",
       "      <th></th>\n",
       "      <th></th>\n",
       "      <th></th>\n",
       "    </tr>\n",
       "  </thead>\n",
       "  <tbody>\n",
       "    <tr>\n",
       "      <th>Enthusiastic Customer</th>\n",
       "      <td>0.005</td>\n",
       "      <td>15.930096</td>\n",
       "      <td>59.9</td>\n",
       "      <td>1</td>\n",
       "      <td>4.002186</td>\n",
       "      <td>7</td>\n",
       "    </tr>\n",
       "    <tr>\n",
       "      <th>Highly Potential Churn</th>\n",
       "      <td>0.015</td>\n",
       "      <td>15.889208</td>\n",
       "      <td>59.9</td>\n",
       "      <td>1</td>\n",
       "      <td>3.962171</td>\n",
       "      <td>7</td>\n",
       "    </tr>\n",
       "    <tr>\n",
       "      <th>Middle Customer</th>\n",
       "      <td>0.011</td>\n",
       "      <td>16.095053</td>\n",
       "      <td>59.9</td>\n",
       "      <td>1</td>\n",
       "      <td>3.973935</td>\n",
       "      <td>7</td>\n",
       "    </tr>\n",
       "  </tbody>\n",
       "</table>\n",
       "</div>"
      ],
      "text/plain": [
       "                       Purchase_VALUE                  N_Purchases            \\\n",
       "                                  min       mean   max         min      mean   \n",
       "Customer_Type                                                                  \n",
       "Enthusiastic Customer           0.005  15.930096  59.9           1  4.002186   \n",
       "Highly Potential Churn          0.015  15.889208  59.9           1  3.962171   \n",
       "Middle Customer                 0.011  16.095053  59.9           1  3.973935   \n",
       "\n",
       "                            \n",
       "                       max  \n",
       "Customer_Type               \n",
       "Enthusiastic Customer    7  \n",
       "Highly Potential Churn   7  \n",
       "Middle Customer          7  "
      ]
     },
     "execution_count": 107,
     "metadata": {},
     "output_type": "execute_result"
    }
   ],
   "source": [
    "# Aggregate by Customer_Type\n",
    "grouped_segmentation = df_trx.groupby('Customer_Type').agg({'Purchase_VALUE':['min','mean','max'],\n",
    "                                                       'N_Purchases':['min','mean','max']})\n",
    "\n",
    "# show the data\n",
    "grouped_segmentation"
   ]
  },
  {
   "cell_type": "markdown",
   "metadata": {},
   "source": [
    "Although the average price and quantity aren't significantly different, we can't set specific price/quantity-based promotions (such as buy three get one free) for each segment because the best customers typically purchase with higher quantities and higher prices.\n",
    "- We are only able to select the price/quantity promotion's upper limit.\n",
    "- Average clients order more quantity but prefer slightly lower prices than at-risk customers (see the maximum price and maximum quantity).\n",
    "\n",
    "\n",
    "We can make recommendations using this knowledge."
   ]
  },
  {
   "cell_type": "markdown",
   "metadata": {},
   "source": [
    "## **Recommendation for Short Term Game**"
   ]
  },
  {
   "cell_type": "markdown",
   "metadata": {},
   "source": [
    "In order to enhance revenue and retention rates in the short term, we must treat our section in accordance with their profiles.\n",
    "\n",
    "**Enthusiastic Customer**\n",
    "- They are extremely valuable to the company, so maintaining their loyalty is essential. \n",
    "- They respond favorably to customized marketing initiatives and prefer exclusive prizes or bonuses.\n",
    "- Pay special attention to this market segment, as it accounts for more than 50% of our total sales.\n",
    "\n",
    "\n",
    "we can create strategies, such as:\n",
    "- Provide individualized product recommendations based on their purchase history. \n",
    "- Send personalized thank-you cards or special incentives to demonstrate appreciation for their ongoing support.\n",
    "- Offer a loyalty program with tiers of advantages and exclusive rewards for top-tier consumers.\n",
    "- Start focused cross-selling or upselling activities to boost their average order value.\n",
    "- Create marketing plans for at least **266 person**.\n",
    "- You can set promotions to run every 2 to 3 days (because, according to the histogram, the majority of your customers make purchases every 2 days) or every months"
   ]
  },
  {
   "cell_type": "markdown",
   "metadata": {},
   "source": [
    "\n",
    "**Middle Customers**\n",
    "- This market comprises consumers who place frequent orders with modest order values. \n",
    "- They display a moderate level of loyalty. This segment is the second generator of revenue generation. \n",
    "- Because they account for > 93% of your revenue, you should focus your marketing efforts in the near future.\n",
    "\n",
    "We can treat them by:\n",
    "- Creating limited-time promos or incentives to create urgency and promote more purchases.\n",
    "- Creating product packages or bundles to raise the average order value\n",
    "- Because they are often more price sensitive than Highly Potential Churn clients, offer them bundles of products every 3 to 4 days and price promotions."
   ]
  },
  {
   "cell_type": "markdown",
   "metadata": {},
   "source": [
    "**Highly Potential Churn**\n",
    "- Customers who have decreased their engagement or purchasing activity are included in this segment. \n",
    "- They may have made fewer purchases or orders with lower values. \n",
    "- Because this segment only contributes 5% of total revenue, you don't need to focus on it right away. Instead, think about your marketing budget.\n",
    "\n",
    "We can give them marketing initiative to prevent from churning:\n",
    "\n",
    "- But if you have enough money, you can stop them from leaving.\n",
    "- They prefer to purchase more expensive products compared to other customer segments, but Highly Potential Churn segments also enjoy discount promotions. \n",
    "- They implement triggered email campaigns to re-engage them based on specific customer actions or inactivity. \n",
    "- They gather feedback from customers or conduct customer surveys. \n",
    "- They provide individualized customer support or assistance."
   ]
  },
  {
   "cell_type": "markdown",
   "metadata": {},
   "source": [
    "## **Recommendation for Long Term Game**\n",
    "These tactics can be used by businesses if they want to apply marketing strategies over a longer period of time:"
   ]
  },
  {
   "cell_type": "markdown",
   "metadata": {},
   "source": [
    "**Enthusiastic Customer**\n",
    "- Organize exclusive events or experiences for top-tier customers to strengthen their emotional connection with the brand. \n",
    "- These 2 strategies will have an impact on increasing their customer lifetime values. \n",
    "- Create a customer advocacy program where devoted customers can become brand ambassadors and refer new customers.\n",
    "- In the long run, it's crucial to create loyalty programs based on segments. \n",
    "- In this section, you can assign the label **platinum** loyalty programs. \n",
    "- Offer benefit free shipping if they can keep completing transactions with us once every 3 days (most customer recency is 2 to 3 days based on histogram)."
   ]
  },
  {
   "cell_type": "markdown",
   "metadata": {},
   "source": [
    "**Middle Customers**\n",
    "- To keep them \"alive\" for transactions, send targeted emails or newsletters on a frequent basis with valuable material.\n",
    "- Offer them a loyalty program for the **Gold** tier. \n",
    "- You can provide them a lot of benefits if they continue doing business with us every 5 days (at the very least). \n",
    "- You can also put short-term recommendations into effect to keep them doing business.\n"
   ]
  },
  {
   "cell_type": "markdown",
   "metadata": {},
   "source": [
    "**Highly Potential Churn**\n",
    "- Implement a program to keep clients by providing them with ongoing prizes and perks (such as a loyalty program for customers who are at risk).\n",
    "- Communicate with them on a regular basis through direct mail, social media engagement, or targeted email marketing.\n",
    "- Offer them the **Sliver** loyalty program, which has various benefits (like free shipping) if they continue doing business with us once (minimum) every three weeks."
   ]
  },
  {
   "cell_type": "markdown",
   "metadata": {},
   "source": [
    "## Conclusion /  Future Works\n",
    "-\tFrom analysis above, we use two approach to generate cluster of customer segmentation using RFM Analysis.\n",
    "-\tWith Binning Method, we devide the cluster into 5 category as follows:\n",
    "a.\tDissatisfied Customers\n",
    "b.\tSporadic Shoppers\n",
    "c.\tDeal-Driven Shoppers\n",
    "d.\tLoyal Consumers\n",
    "e.\tEnthusiastic Shoppers\n",
    "-\tWith K-Means and Elbow Methods, we conclude that there are 3 segmented category as follows:\n",
    "a.\tEnthusiastic Customer\n",
    "b.\tMiddle Customer\n",
    "c.\tHighly Potential Churn\n",
    "-\tTo get better understanding of customer behavior and better prediction of customer value, we can user CLV analysis to determine value that can generated by customer per lifetime value.\n"
   ]
  },
  {
   "cell_type": "markdown",
   "metadata": {},
   "source": []
  }
 ],
 "metadata": {
  "kernelspec": {
   "display_name": "Python 3 (ipykernel)",
   "language": "python",
   "name": "python3"
  },
  "language_info": {
   "codemirror_mode": {
    "name": "ipython",
    "version": 3
   },
   "file_extension": ".py",
   "mimetype": "text/x-python",
   "name": "python",
   "nbconvert_exporter": "python",
   "pygments_lexer": "ipython3",
   "version": "3.10.4"
  }
 },
 "nbformat": 4,
 "nbformat_minor": 2
}
